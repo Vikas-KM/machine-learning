{
  "nbformat": 4,
  "nbformat_minor": 0,
  "metadata": {
    "colab": {
      "name": "Movie Recommendation using Naive Bayes Algorithm.ipynb",
      "provenance": [],
      "collapsed_sections": [],
      "authorship_tag": "ABX9TyMtnTG84hQ9r4rG6eKptmcY",
      "include_colab_link": true
    },
    "kernelspec": {
      "name": "python3",
      "display_name": "Python 3"
    }
  },
  "cells": [
    {
      "cell_type": "markdown",
      "metadata": {
        "id": "view-in-github",
        "colab_type": "text"
      },
      "source": [
        "<a href=\"https://colab.research.google.com/github/Vikas-KM/machine-learning/blob/master/ML_Projects/Movie_Recommendation_using_Naive_Bayes_Algorithm.ipynb\" target=\"_parent\"><img src=\"https://colab.research.google.com/assets/colab-badge.svg\" alt=\"Open In Colab\"/></a>"
      ]
    },
    {
      "cell_type": "markdown",
      "metadata": {
        "id": "7b2ld71Uv6-_"
      },
      "source": [
        "# Movie Recommendation System using Naive Bayes \r\n",
        "\r\n",
        "Articles Referred\r\n",
        "- https://iopscience.iop.org/article/10.1088/1742-6596/1345/4/042042/pdf\r\n",
        "  -  Liu Shuxian and Fang Sen 2019 J. Phys.: Conf. Ser. 1345 042042\r\n",
        "\r\n",
        "Comparative Analysis of different ML Algorithms for recommendation systems\r\n",
        "- https://ijcat.com/archives/volume6/issue2/ijcatr06021005.pdf\r\n",
        "\r\n",
        "Movielens Dataset Referred\r\n",
        "- https://grouplens.org/datasets/movielens/"
      ]
    },
    {
      "cell_type": "markdown",
      "metadata": {
        "id": "oqsB92QIAaT-"
      },
      "source": [
        "link - http://files.grouplens.org/datasets/movielens/ml-latest-small-README.html\r\n",
        "\r\n",
        "### About the dataset\r\n",
        "- This **dataset (ml-25m)** describes 5-star rating and free-text tagging activity from MovieLens, a movie recommendation service. **It contains 25000095 ratings and 1093360 tag applications across 62423 movies.** These data were created by 162541 users between January 09, 1995 and November 21, 2019. **This dataset was generated on November 21, 2019.**\r\n",
        "- Only movies with at least one rating or tag are included in the dataset. These movie ids are consistent with those used on the MovieLens web site (e.g., id 1 corresponds to the URL https://movielens.org/movies/1). Movie ids are consistent between ratings.csv, tags.csv, movies.csv, and links.csv (i.e., the same id refers to the same movie across these four data files).\r\n",
        "\r\n",
        "### Ratings Data File Structure (ratings.csv)\r\n",
        "- All ratings are contained in the file ratings.csv. Each line of this file after the header row represents one rating of one movie by one user, and has the following format:\r\n",
        "\r\n",
        "- userId,movieId,rating,timestamp\r\n",
        "The lines within this file are ordered first by userId, then, within user, by movieId.\r\n",
        "\r\n",
        "- Ratings are made on a 5-star scale, with half-star increments (0.5 stars - 5.0 stars).\r\n",
        "\r\n",
        "- Timestamps represent seconds since midnight Coordinated Universal Time (UTC) of January 1, 1970.\r\n",
        "\r\n",
        "\r\n",
        "### Tags Data File Structure (tags.csv)\r\n",
        "- All tags are contained in the file tags.csv. Each line of this file after the header row represents one tag applied to one movie by one user, and has the following format:\r\n",
        "\r\n",
        "- userId,movieId,tag,timestamp\r\n",
        "- The lines within this file are ordered first by userId, then, within user, by movieId.\r\n",
        "\r\n",
        "- Tags are user-generated metadata about movies. Each tag is typically a single word or short phrase. The meaning, value, and purpose of a particular tag is determined by each user.\r\n",
        "\r\n",
        "- Timestamps represent seconds since midnight Coordinated Universal Time (UTC) of January 1, 1970.\r\n",
        "\r\n",
        "### Movies Data File Structure (movies.csv)\r\n",
        "- Movie information is contained in the file movies.csv. Each line of this file after the header row represents one movie, and has the following format:\r\n",
        "\r\n",
        "- movieId,title,genres\r\n",
        "- Movie titles are entered manually or imported from https://www.themoviedb.org/, and include the year of release in parentheses. Errors and inconsistencies may exist in these titles.\r\n",
        "\r\n",
        "- Genres are a pipe-separated list, and are selected from the following:\r\n",
        "\r\n",
        "  - Action\r\n",
        "  - Adventure\r\n",
        "  - Animation\r\n",
        "  - Children's\r\n",
        "  - Comedy\r\n",
        "  - Crime\r\n",
        "  - Documentary\r\n",
        "  - Drama\r\n",
        "  - Fantasy\r\n",
        "  - Film-Noir\r\n",
        "  - Horror\r\n",
        "  - Musical\r\n",
        "  - Mystery\r\n",
        "  - Romance\r\n",
        "  - Sci-Fi\r\n",
        "  - Thriller\r\n",
        "  - War\r\n",
        "  - Western\r\n",
        "  - (no genres listed)"
      ]
    },
    {
      "cell_type": "code",
      "metadata": {
        "id": "ypwVzKoJ9S9t"
      },
      "source": [
        "# importing some standard libraries\r\n",
        "\r\n",
        "import pandas as pd\r\n",
        "import numpy as np\r\n",
        "import matplotlib.pyplot as plt\r\n",
        "import seaborn as sns"
      ],
      "execution_count": 1,
      "outputs": []
    },
    {
      "cell_type": "code",
      "metadata": {
        "id": "vY7Fgs7Z9akG"
      },
      "source": [
        "%matplotlib inline"
      ],
      "execution_count": 2,
      "outputs": []
    },
    {
      "cell_type": "code",
      "metadata": {
        "colab": {
          "base_uri": "https://localhost:8080/"
        },
        "id": "BbX760UVv396",
        "outputId": "12273691-790a-461f-992d-9fb5b37b71f1"
      },
      "source": [
        "# Mounting the google drive to download the dataset\r\n",
        "from google.colab import drive\r\n",
        "drive.mount('/content/drive')"
      ],
      "execution_count": 4,
      "outputs": [
        {
          "output_type": "stream",
          "text": [
            "Drive already mounted at /content/drive; to attempt to forcibly remount, call drive.mount(\"/content/drive\", force_remount=True).\n"
          ],
          "name": "stdout"
        }
      ]
    },
    {
      "cell_type": "code",
      "metadata": {
        "colab": {
          "base_uri": "https://localhost:8080/"
        },
        "id": "NdBtQgMQ_7CQ",
        "outputId": "dfe87807-4f7e-4473-b084-155690065731"
      },
      "source": [
        "# Lets Import the movielens dataset\r\n",
        "# using movielens 25M dataset\r\n",
        "\r\n",
        "! ls /content/drive/MyDrive/ML_Datasets/movielens_dataset"
      ],
      "execution_count": 5,
      "outputs": [
        {
          "output_type": "stream",
          "text": [
            "genome-scores.csv  links.csv   ratings.csv  tags.csv\n",
            "genome-tags.csv    movies.csv  README.txt\n"
          ],
          "name": "stdout"
        }
      ]
    },
    {
      "cell_type": "markdown",
      "metadata": {
        "id": "ltYohjS5JL36"
      },
      "source": [
        "### movie.csv that contains movie information:"
      ]
    },
    {
      "cell_type": "code",
      "metadata": {
        "colab": {
          "base_uri": "https://localhost:8080/",
          "height": 202
        },
        "id": "oqNNNc9DALIt",
        "outputId": "4d4b1635-be61-4373-fcd2-e7db538859b1"
      },
      "source": [
        "df_movies = pd.read_csv('/content/drive/MyDrive/ML_Datasets/movielens_dataset/movies.csv')\r\n",
        "df_movies.head()"
      ],
      "execution_count": 21,
      "outputs": [
        {
          "output_type": "execute_result",
          "data": {
            "text/html": [
              "<div>\n",
              "<style scoped>\n",
              "    .dataframe tbody tr th:only-of-type {\n",
              "        vertical-align: middle;\n",
              "    }\n",
              "\n",
              "    .dataframe tbody tr th {\n",
              "        vertical-align: top;\n",
              "    }\n",
              "\n",
              "    .dataframe thead th {\n",
              "        text-align: right;\n",
              "    }\n",
              "</style>\n",
              "<table border=\"1\" class=\"dataframe\">\n",
              "  <thead>\n",
              "    <tr style=\"text-align: right;\">\n",
              "      <th></th>\n",
              "      <th>movieId</th>\n",
              "      <th>title</th>\n",
              "      <th>genres</th>\n",
              "    </tr>\n",
              "  </thead>\n",
              "  <tbody>\n",
              "    <tr>\n",
              "      <th>0</th>\n",
              "      <td>1</td>\n",
              "      <td>Toy Story (1995)</td>\n",
              "      <td>Adventure|Animation|Children|Comedy|Fantasy</td>\n",
              "    </tr>\n",
              "    <tr>\n",
              "      <th>1</th>\n",
              "      <td>2</td>\n",
              "      <td>Jumanji (1995)</td>\n",
              "      <td>Adventure|Children|Fantasy</td>\n",
              "    </tr>\n",
              "    <tr>\n",
              "      <th>2</th>\n",
              "      <td>3</td>\n",
              "      <td>Grumpier Old Men (1995)</td>\n",
              "      <td>Comedy|Romance</td>\n",
              "    </tr>\n",
              "    <tr>\n",
              "      <th>3</th>\n",
              "      <td>4</td>\n",
              "      <td>Waiting to Exhale (1995)</td>\n",
              "      <td>Comedy|Drama|Romance</td>\n",
              "    </tr>\n",
              "    <tr>\n",
              "      <th>4</th>\n",
              "      <td>5</td>\n",
              "      <td>Father of the Bride Part II (1995)</td>\n",
              "      <td>Comedy</td>\n",
              "    </tr>\n",
              "  </tbody>\n",
              "</table>\n",
              "</div>"
            ],
            "text/plain": [
              "   movieId  ...                                       genres\n",
              "0        1  ...  Adventure|Animation|Children|Comedy|Fantasy\n",
              "1        2  ...                   Adventure|Children|Fantasy\n",
              "2        3  ...                               Comedy|Romance\n",
              "3        4  ...                         Comedy|Drama|Romance\n",
              "4        5  ...                                       Comedy\n",
              "\n",
              "[5 rows x 3 columns]"
            ]
          },
          "metadata": {
            "tags": []
          },
          "execution_count": 21
        }
      ]
    },
    {
      "cell_type": "code",
      "metadata": {
        "colab": {
          "base_uri": "https://localhost:8080/"
        },
        "id": "ydentfkzAmnw",
        "outputId": "9e3b70d1-5649-45f3-8715-0190dfe3bbef"
      },
      "source": [
        "# shape of the movies dataset\r\n",
        "df_movies.shape"
      ],
      "execution_count": 22,
      "outputs": [
        {
          "output_type": "execute_result",
          "data": {
            "text/plain": [
              "(62423, 3)"
            ]
          },
          "metadata": {
            "tags": []
          },
          "execution_count": 22
        }
      ]
    },
    {
      "cell_type": "code",
      "metadata": {
        "colab": {
          "base_uri": "https://localhost:8080/"
        },
        "id": "OsiyySe9AsbA",
        "outputId": "7670cc81-e1ea-4291-b30a-fc4dfaedf288"
      },
      "source": [
        "# columns in the movies dataset\r\n",
        "df_movies.columns"
      ],
      "execution_count": 23,
      "outputs": [
        {
          "output_type": "execute_result",
          "data": {
            "text/plain": [
              "Index(['movieId', 'title', 'genres'], dtype='object')"
            ]
          },
          "metadata": {
            "tags": []
          },
          "execution_count": 23
        }
      ]
    },
    {
      "cell_type": "code",
      "metadata": {
        "colab": {
          "base_uri": "https://localhost:8080/"
        },
        "id": "8L2Aw6M2Jku1",
        "outputId": "699335bf-1cd1-4296-f99e-85a301a66666"
      },
      "source": [
        "# lets check if there any null values\r\n",
        "df_movies.isnull().sum()"
      ],
      "execution_count": 24,
      "outputs": [
        {
          "output_type": "execute_result",
          "data": {
            "text/plain": [
              "movieId    0\n",
              "title      0\n",
              "genres     0\n",
              "dtype: int64"
            ]
          },
          "metadata": {
            "tags": []
          },
          "execution_count": 24
        }
      ]
    },
    {
      "cell_type": "code",
      "metadata": {
        "colab": {
          "base_uri": "https://localhost:8080/"
        },
        "id": "-EgDTEtYK6Xn",
        "outputId": "df4b126d-a8fd-47ad-bb89-93a42bd5f372"
      },
      "source": [
        "# genre needs to be seprated, before we can figure which genre is dominating\r\n",
        "df_movies['genres'].value_counts()"
      ],
      "execution_count": 25,
      "outputs": [
        {
          "output_type": "execute_result",
          "data": {
            "text/plain": [
              "Drama                                           9056\n",
              "Comedy                                          5674\n",
              "(no genres listed)                              5062\n",
              "Documentary                                     4731\n",
              "Comedy|Drama                                    2386\n",
              "                                                ... \n",
              "Action|Adventure|Children|Romance                  1\n",
              "Animation|Comedy|Thriller                          1\n",
              "Action|Crime|Mystery|Romance|Sci-Fi|Thriller       1\n",
              "Fantasy|Horror|Sci-Fi|Western                      1\n",
              "Animation|Drama|Fantasy|Sci-Fi                     1\n",
              "Name: genres, Length: 1639, dtype: int64"
            ]
          },
          "metadata": {
            "tags": []
          },
          "execution_count": 25
        }
      ]
    },
    {
      "cell_type": "code",
      "metadata": {
        "colab": {
          "base_uri": "https://localhost:8080/"
        },
        "id": "BbLuC9D8MT-D",
        "outputId": "620e3d0c-c44e-4b87-dc47-19081b90651b"
      },
      "source": [
        "print(len(df_movies['movieId'].unique()))\r\n",
        "print(len(df_movies['title'].unique()))"
      ],
      "execution_count": 26,
      "outputs": [
        {
          "output_type": "stream",
          "text": [
            "62423\n",
            "62325\n"
          ],
          "name": "stdout"
        }
      ]
    },
    {
      "cell_type": "code",
      "metadata": {
        "colab": {
          "base_uri": "https://localhost:8080/",
          "height": 202
        },
        "id": "zF33OA1ZNIgt",
        "outputId": "5c23d513-661a-4013-d4b3-5bd5481dcb0e"
      },
      "source": [
        "# list of movies which are duplicate\r\n",
        "df_movies_dup = df_movies[df_movies.duplicated(subset=['title'], keep=False)]\r\n",
        "df_movies_dup.head()"
      ],
      "execution_count": 27,
      "outputs": [
        {
          "output_type": "execute_result",
          "data": {
            "text/html": [
              "<div>\n",
              "<style scoped>\n",
              "    .dataframe tbody tr th:only-of-type {\n",
              "        vertical-align: middle;\n",
              "    }\n",
              "\n",
              "    .dataframe tbody tr th {\n",
              "        vertical-align: top;\n",
              "    }\n",
              "\n",
              "    .dataframe thead th {\n",
              "        text-align: right;\n",
              "    }\n",
              "</style>\n",
              "<table border=\"1\" class=\"dataframe\">\n",
              "  <thead>\n",
              "    <tr style=\"text-align: right;\">\n",
              "      <th></th>\n",
              "      <th>movieId</th>\n",
              "      <th>title</th>\n",
              "      <th>genres</th>\n",
              "    </tr>\n",
              "  </thead>\n",
              "  <tbody>\n",
              "    <tr>\n",
              "      <th>580</th>\n",
              "      <td>588</td>\n",
              "      <td>Aladdin (1992)</td>\n",
              "      <td>Adventure|Animation|Children|Comedy|Musical</td>\n",
              "    </tr>\n",
              "    <tr>\n",
              "      <th>1710</th>\n",
              "      <td>1788</td>\n",
              "      <td>Men with Guns (1997)</td>\n",
              "      <td>Action|Drama</td>\n",
              "    </tr>\n",
              "    <tr>\n",
              "      <th>2553</th>\n",
              "      <td>2644</td>\n",
              "      <td>Dracula (1931)</td>\n",
              "      <td>Horror</td>\n",
              "    </tr>\n",
              "    <tr>\n",
              "      <th>2759</th>\n",
              "      <td>2851</td>\n",
              "      <td>Saturn 3 (1980)</td>\n",
              "      <td>Adventure|Sci-Fi|Thriller</td>\n",
              "    </tr>\n",
              "    <tr>\n",
              "      <th>3454</th>\n",
              "      <td>3553</td>\n",
              "      <td>Gossip (2000)</td>\n",
              "      <td>Drama|Thriller</td>\n",
              "    </tr>\n",
              "  </tbody>\n",
              "</table>\n",
              "</div>"
            ],
            "text/plain": [
              "      movieId  ...                                       genres\n",
              "580       588  ...  Adventure|Animation|Children|Comedy|Musical\n",
              "1710     1788  ...                                 Action|Drama\n",
              "2553     2644  ...                                       Horror\n",
              "2759     2851  ...                    Adventure|Sci-Fi|Thriller\n",
              "3454     3553  ...                               Drama|Thriller\n",
              "\n",
              "[5 rows x 3 columns]"
            ]
          },
          "metadata": {
            "tags": []
          },
          "execution_count": 27
        }
      ]
    },
    {
      "cell_type": "code",
      "metadata": {
        "colab": {
          "base_uri": "https://localhost:8080/"
        },
        "id": "zd83I5NwTPJ1",
        "outputId": "bbc1fbec-fe51-4690-f36f-a8849c2d6340"
      },
      "source": [
        "df_movies_dup.shape"
      ],
      "execution_count": 28,
      "outputs": [
        {
          "output_type": "execute_result",
          "data": {
            "text/plain": [
              "(196, 3)"
            ]
          },
          "metadata": {
            "tags": []
          },
          "execution_count": 28
        }
      ]
    },
    {
      "cell_type": "code",
      "metadata": {
        "colab": {
          "base_uri": "https://localhost:8080/",
          "height": 110
        },
        "id": "8cwM6Ty0UP0g",
        "outputId": "0e60b0cc-77a6-46a4-b692-8f513f1495f3"
      },
      "source": [
        "df_movies_dup[df_movies_dup['title'] == 'Gossip (2000)']"
      ],
      "execution_count": 29,
      "outputs": [
        {
          "output_type": "execute_result",
          "data": {
            "text/html": [
              "<div>\n",
              "<style scoped>\n",
              "    .dataframe tbody tr th:only-of-type {\n",
              "        vertical-align: middle;\n",
              "    }\n",
              "\n",
              "    .dataframe tbody tr th {\n",
              "        vertical-align: top;\n",
              "    }\n",
              "\n",
              "    .dataframe thead th {\n",
              "        text-align: right;\n",
              "    }\n",
              "</style>\n",
              "<table border=\"1\" class=\"dataframe\">\n",
              "  <thead>\n",
              "    <tr style=\"text-align: right;\">\n",
              "      <th></th>\n",
              "      <th>movieId</th>\n",
              "      <th>title</th>\n",
              "      <th>genres</th>\n",
              "    </tr>\n",
              "  </thead>\n",
              "  <tbody>\n",
              "    <tr>\n",
              "      <th>3454</th>\n",
              "      <td>3553</td>\n",
              "      <td>Gossip (2000)</td>\n",
              "      <td>Drama|Thriller</td>\n",
              "    </tr>\n",
              "    <tr>\n",
              "      <th>44375</th>\n",
              "      <td>168088</td>\n",
              "      <td>Gossip (2000)</td>\n",
              "      <td>Comedy|Drama</td>\n",
              "    </tr>\n",
              "  </tbody>\n",
              "</table>\n",
              "</div>"
            ],
            "text/plain": [
              "       movieId          title          genres\n",
              "3454      3553  Gossip (2000)  Drama|Thriller\n",
              "44375   168088  Gossip (2000)    Comedy|Drama"
            ]
          },
          "metadata": {
            "tags": []
          },
          "execution_count": 29
        }
      ]
    },
    {
      "cell_type": "code",
      "metadata": {
        "colab": {
          "base_uri": "https://localhost:8080/",
          "height": 110
        },
        "id": "gjkQnD71UhO6",
        "outputId": "387163db-300c-41b9-cfd1-0eea6e021529"
      },
      "source": [
        "df_movies_dup[df_movies_dup['title'] == 'Inside (2012)']"
      ],
      "execution_count": 30,
      "outputs": [
        {
          "output_type": "execute_result",
          "data": {
            "text/html": [
              "<div>\n",
              "<style scoped>\n",
              "    .dataframe tbody tr th:only-of-type {\n",
              "        vertical-align: middle;\n",
              "    }\n",
              "\n",
              "    .dataframe tbody tr th {\n",
              "        vertical-align: top;\n",
              "    }\n",
              "\n",
              "    .dataframe thead th {\n",
              "        text-align: right;\n",
              "    }\n",
              "</style>\n",
              "<table border=\"1\" class=\"dataframe\">\n",
              "  <thead>\n",
              "    <tr style=\"text-align: right;\">\n",
              "      <th></th>\n",
              "      <th>movieId</th>\n",
              "      <th>title</th>\n",
              "      <th>genres</th>\n",
              "    </tr>\n",
              "  </thead>\n",
              "  <tbody>\n",
              "    <tr>\n",
              "      <th>28373</th>\n",
              "      <td>131556</td>\n",
              "      <td>Inside (2012)</td>\n",
              "      <td>(no genres listed)</td>\n",
              "    </tr>\n",
              "    <tr>\n",
              "      <th>34147</th>\n",
              "      <td>144748</td>\n",
              "      <td>Inside (2012)</td>\n",
              "      <td>Horror</td>\n",
              "    </tr>\n",
              "  </tbody>\n",
              "</table>\n",
              "</div>"
            ],
            "text/plain": [
              "       movieId          title              genres\n",
              "28373   131556  Inside (2012)  (no genres listed)\n",
              "34147   144748  Inside (2012)              Horror"
            ]
          },
          "metadata": {
            "tags": []
          },
          "execution_count": 30
        }
      ]
    },
    {
      "cell_type": "code",
      "metadata": {
        "colab": {
          "base_uri": "https://localhost:8080/",
          "height": 110
        },
        "id": "RU9JXUAaUm_A",
        "outputId": "ba54e3bf-4e18-45f9-f4da-7e5a556eb079"
      },
      "source": [
        "df_movies_dup[df_movies_dup['title'] == 'Saturn 3 (1980)']"
      ],
      "execution_count": 31,
      "outputs": [
        {
          "output_type": "execute_result",
          "data": {
            "text/html": [
              "<div>\n",
              "<style scoped>\n",
              "    .dataframe tbody tr th:only-of-type {\n",
              "        vertical-align: middle;\n",
              "    }\n",
              "\n",
              "    .dataframe tbody tr th {\n",
              "        vertical-align: top;\n",
              "    }\n",
              "\n",
              "    .dataframe thead th {\n",
              "        text-align: right;\n",
              "    }\n",
              "</style>\n",
              "<table border=\"1\" class=\"dataframe\">\n",
              "  <thead>\n",
              "    <tr style=\"text-align: right;\">\n",
              "      <th></th>\n",
              "      <th>movieId</th>\n",
              "      <th>title</th>\n",
              "      <th>genres</th>\n",
              "    </tr>\n",
              "  </thead>\n",
              "  <tbody>\n",
              "    <tr>\n",
              "      <th>2759</th>\n",
              "      <td>2851</td>\n",
              "      <td>Saturn 3 (1980)</td>\n",
              "      <td>Adventure|Sci-Fi|Thriller</td>\n",
              "    </tr>\n",
              "    <tr>\n",
              "      <th>44502</th>\n",
              "      <td>168358</td>\n",
              "      <td>Saturn 3 (1980)</td>\n",
              "      <td>Sci-Fi|Thriller</td>\n",
              "    </tr>\n",
              "  </tbody>\n",
              "</table>\n",
              "</div>"
            ],
            "text/plain": [
              "       movieId            title                     genres\n",
              "2759      2851  Saturn 3 (1980)  Adventure|Sci-Fi|Thriller\n",
              "44502   168358  Saturn 3 (1980)            Sci-Fi|Thriller"
            ]
          },
          "metadata": {
            "tags": []
          },
          "execution_count": 31
        }
      ]
    },
    {
      "cell_type": "code",
      "metadata": {
        "colab": {
          "base_uri": "https://localhost:8080/",
          "height": 509
        },
        "id": "lCFB44xnN7sd",
        "outputId": "12cbc66f-7c67-4695-de81-9a8588de7f73"
      },
      "source": [
        "df_movies_dup[df_movies_dup['genres'] == '(no genres listed)']\r\n"
      ],
      "execution_count": 32,
      "outputs": [
        {
          "output_type": "execute_result",
          "data": {
            "text/html": [
              "<div>\n",
              "<style scoped>\n",
              "    .dataframe tbody tr th:only-of-type {\n",
              "        vertical-align: middle;\n",
              "    }\n",
              "\n",
              "    .dataframe tbody tr th {\n",
              "        vertical-align: top;\n",
              "    }\n",
              "\n",
              "    .dataframe thead th {\n",
              "        text-align: right;\n",
              "    }\n",
              "</style>\n",
              "<table border=\"1\" class=\"dataframe\">\n",
              "  <thead>\n",
              "    <tr style=\"text-align: right;\">\n",
              "      <th></th>\n",
              "      <th>movieId</th>\n",
              "      <th>title</th>\n",
              "      <th>genres</th>\n",
              "    </tr>\n",
              "  </thead>\n",
              "  <tbody>\n",
              "    <tr>\n",
              "      <th>28373</th>\n",
              "      <td>131556</td>\n",
              "      <td>Inside (2012)</td>\n",
              "      <td>(no genres listed)</td>\n",
              "    </tr>\n",
              "    <tr>\n",
              "      <th>31457</th>\n",
              "      <td>138656</td>\n",
              "      <td>Black Field (2009)</td>\n",
              "      <td>(no genres listed)</td>\n",
              "    </tr>\n",
              "    <tr>\n",
              "      <th>34186</th>\n",
              "      <td>144830</td>\n",
              "      <td>The Tunnel (1933)</td>\n",
              "      <td>(no genres listed)</td>\n",
              "    </tr>\n",
              "    <tr>\n",
              "      <th>39216</th>\n",
              "      <td>156686</td>\n",
              "      <td>Another World (2014)</td>\n",
              "      <td>(no genres listed)</td>\n",
              "    </tr>\n",
              "    <tr>\n",
              "      <th>41061</th>\n",
              "      <td>160868</td>\n",
              "      <td>Escalation (1968)</td>\n",
              "      <td>(no genres listed)</td>\n",
              "    </tr>\n",
              "    <tr>\n",
              "      <th>48048</th>\n",
              "      <td>175857</td>\n",
              "      <td>Family Life (1971)</td>\n",
              "      <td>(no genres listed)</td>\n",
              "    </tr>\n",
              "    <tr>\n",
              "      <th>49071</th>\n",
              "      <td>177993</td>\n",
              "      <td>Escape Room (2017)</td>\n",
              "      <td>(no genres listed)</td>\n",
              "    </tr>\n",
              "    <tr>\n",
              "      <th>49221</th>\n",
              "      <td>178403</td>\n",
              "      <td>The Forest (2016)</td>\n",
              "      <td>(no genres listed)</td>\n",
              "    </tr>\n",
              "    <tr>\n",
              "      <th>49867</th>\n",
              "      <td>179783</td>\n",
              "      <td>Let There Be Light (2017)</td>\n",
              "      <td>(no genres listed)</td>\n",
              "    </tr>\n",
              "    <tr>\n",
              "      <th>50735</th>\n",
              "      <td>181675</td>\n",
              "      <td>Apparition (2014)</td>\n",
              "      <td>(no genres listed)</td>\n",
              "    </tr>\n",
              "    <tr>\n",
              "      <th>52254</th>\n",
              "      <td>184893</td>\n",
              "      <td>Ava (2017)</td>\n",
              "      <td>(no genres listed)</td>\n",
              "    </tr>\n",
              "    <tr>\n",
              "      <th>52395</th>\n",
              "      <td>185191</td>\n",
              "      <td>Contact (1992)</td>\n",
              "      <td>(no genres listed)</td>\n",
              "    </tr>\n",
              "    <tr>\n",
              "      <th>56398</th>\n",
              "      <td>194078</td>\n",
              "      <td>Suckerfish (1999)</td>\n",
              "      <td>(no genres listed)</td>\n",
              "    </tr>\n",
              "    <tr>\n",
              "      <th>58489</th>\n",
              "      <td>198719</td>\n",
              "      <td>Alone (2017)</td>\n",
              "      <td>(no genres listed)</td>\n",
              "    </tr>\n",
              "    <tr>\n",
              "      <th>61714</th>\n",
              "      <td>206712</td>\n",
              "      <td>American Woman (2019)</td>\n",
              "      <td>(no genres listed)</td>\n",
              "    </tr>\n",
              "  </tbody>\n",
              "</table>\n",
              "</div>"
            ],
            "text/plain": [
              "       movieId                      title              genres\n",
              "28373   131556              Inside (2012)  (no genres listed)\n",
              "31457   138656         Black Field (2009)  (no genres listed)\n",
              "34186   144830          The Tunnel (1933)  (no genres listed)\n",
              "39216   156686       Another World (2014)  (no genres listed)\n",
              "41061   160868          Escalation (1968)  (no genres listed)\n",
              "48048   175857         Family Life (1971)  (no genres listed)\n",
              "49071   177993         Escape Room (2017)  (no genres listed)\n",
              "49221   178403          The Forest (2016)  (no genres listed)\n",
              "49867   179783  Let There Be Light (2017)  (no genres listed)\n",
              "50735   181675          Apparition (2014)  (no genres listed)\n",
              "52254   184893                 Ava (2017)  (no genres listed)\n",
              "52395   185191             Contact (1992)  (no genres listed)\n",
              "56398   194078          Suckerfish (1999)  (no genres listed)\n",
              "58489   198719               Alone (2017)  (no genres listed)\n",
              "61714   206712      American Woman (2019)  (no genres listed)"
            ]
          },
          "metadata": {
            "tags": []
          },
          "execution_count": 32
        }
      ]
    },
    {
      "cell_type": "markdown",
      "metadata": {
        "id": "69duDlkFmNjw"
      },
      "source": [
        "# Observations:\r\n",
        "- In most cases the first entry has more genres\r\n",
        "- no genres listes of duplicates to be dropped first"
      ]
    },
    {
      "cell_type": "code",
      "metadata": {
        "colab": {
          "base_uri": "https://localhost:8080/",
          "height": 415
        },
        "id": "NLw3LJLci_Rt",
        "outputId": "087445a0-c0a5-4c1c-9647-298b81ae1d45"
      },
      "source": [
        "# dropping all the duplicates with no genre listes category\r\n",
        "df_movies_dup = df_movies_dup[df_movies_dup['genres'] != '(no genres listed)']\r\n",
        "df_movies_dup"
      ],
      "execution_count": 43,
      "outputs": [
        {
          "output_type": "execute_result",
          "data": {
            "text/html": [
              "<div>\n",
              "<style scoped>\n",
              "    .dataframe tbody tr th:only-of-type {\n",
              "        vertical-align: middle;\n",
              "    }\n",
              "\n",
              "    .dataframe tbody tr th {\n",
              "        vertical-align: top;\n",
              "    }\n",
              "\n",
              "    .dataframe thead th {\n",
              "        text-align: right;\n",
              "    }\n",
              "</style>\n",
              "<table border=\"1\" class=\"dataframe\">\n",
              "  <thead>\n",
              "    <tr style=\"text-align: right;\">\n",
              "      <th></th>\n",
              "      <th>movieId</th>\n",
              "      <th>title</th>\n",
              "      <th>genres</th>\n",
              "    </tr>\n",
              "  </thead>\n",
              "  <tbody>\n",
              "    <tr>\n",
              "      <th>580</th>\n",
              "      <td>588</td>\n",
              "      <td>Aladdin (1992)</td>\n",
              "      <td>Adventure|Animation|Children|Comedy|Musical</td>\n",
              "    </tr>\n",
              "    <tr>\n",
              "      <th>1710</th>\n",
              "      <td>1788</td>\n",
              "      <td>Men with Guns (1997)</td>\n",
              "      <td>Action|Drama</td>\n",
              "    </tr>\n",
              "    <tr>\n",
              "      <th>2553</th>\n",
              "      <td>2644</td>\n",
              "      <td>Dracula (1931)</td>\n",
              "      <td>Horror</td>\n",
              "    </tr>\n",
              "    <tr>\n",
              "      <th>2759</th>\n",
              "      <td>2851</td>\n",
              "      <td>Saturn 3 (1980)</td>\n",
              "      <td>Adventure|Sci-Fi|Thriller</td>\n",
              "    </tr>\n",
              "    <tr>\n",
              "      <th>3454</th>\n",
              "      <td>3553</td>\n",
              "      <td>Gossip (2000)</td>\n",
              "      <td>Drama|Thriller</td>\n",
              "    </tr>\n",
              "    <tr>\n",
              "      <th>...</th>\n",
              "      <td>...</td>\n",
              "      <td>...</td>\n",
              "      <td>...</td>\n",
              "    </tr>\n",
              "    <tr>\n",
              "      <th>57843</th>\n",
              "      <td>197281</td>\n",
              "      <td>Lost &amp; Found (2018)</td>\n",
              "      <td>Animation</td>\n",
              "    </tr>\n",
              "    <tr>\n",
              "      <th>58728</th>\n",
              "      <td>199219</td>\n",
              "      <td>I See You (2019)</td>\n",
              "      <td>Thriller</td>\n",
              "    </tr>\n",
              "    <tr>\n",
              "      <th>59537</th>\n",
              "      <td>201074</td>\n",
              "      <td>Beats (2019)</td>\n",
              "      <td>Drama</td>\n",
              "    </tr>\n",
              "    <tr>\n",
              "      <th>60497</th>\n",
              "      <td>203449</td>\n",
              "      <td>The Lonely Island Presents: The Unauthorized B...</td>\n",
              "      <td>Comedy</td>\n",
              "    </tr>\n",
              "    <tr>\n",
              "      <th>61913</th>\n",
              "      <td>207249</td>\n",
              "      <td>American Woman (2019)</td>\n",
              "      <td>Drama</td>\n",
              "    </tr>\n",
              "  </tbody>\n",
              "</table>\n",
              "<p>98 rows × 3 columns</p>\n",
              "</div>"
            ],
            "text/plain": [
              "       movieId  ...                                       genres\n",
              "580        588  ...  Adventure|Animation|Children|Comedy|Musical\n",
              "1710      1788  ...                                 Action|Drama\n",
              "2553      2644  ...                                       Horror\n",
              "2759      2851  ...                    Adventure|Sci-Fi|Thriller\n",
              "3454      3553  ...                               Drama|Thriller\n",
              "...        ...  ...                                          ...\n",
              "57843   197281  ...                                    Animation\n",
              "58728   199219  ...                                     Thriller\n",
              "59537   201074  ...                                        Drama\n",
              "60497   203449  ...                                       Comedy\n",
              "61913   207249  ...                                        Drama\n",
              "\n",
              "[98 rows x 3 columns]"
            ]
          },
          "metadata": {
            "tags": []
          },
          "execution_count": 43
        }
      ]
    },
    {
      "cell_type": "code",
      "metadata": {
        "colab": {
          "base_uri": "https://localhost:8080/",
          "height": 49
        },
        "id": "0PZGS3XmjkXf",
        "outputId": "cbc75d55-c0d8-4740-84d1-d8b61efadb8d"
      },
      "source": [
        "# checking if any no genre present\r\n",
        "df_movies_dup[df_movies_dup['genres'] == '(no genres listed)']"
      ],
      "execution_count": 34,
      "outputs": [
        {
          "output_type": "execute_result",
          "data": {
            "text/html": [
              "<div>\n",
              "<style scoped>\n",
              "    .dataframe tbody tr th:only-of-type {\n",
              "        vertical-align: middle;\n",
              "    }\n",
              "\n",
              "    .dataframe tbody tr th {\n",
              "        vertical-align: top;\n",
              "    }\n",
              "\n",
              "    .dataframe thead th {\n",
              "        text-align: right;\n",
              "    }\n",
              "</style>\n",
              "<table border=\"1\" class=\"dataframe\">\n",
              "  <thead>\n",
              "    <tr style=\"text-align: right;\">\n",
              "      <th></th>\n",
              "      <th>movieId</th>\n",
              "      <th>title</th>\n",
              "      <th>genres</th>\n",
              "    </tr>\n",
              "  </thead>\n",
              "  <tbody>\n",
              "  </tbody>\n",
              "</table>\n",
              "</div>"
            ],
            "text/plain": [
              "Empty DataFrame\n",
              "Columns: [movieId, title, genres]\n",
              "Index: []"
            ]
          },
          "metadata": {
            "tags": []
          },
          "execution_count": 34
        }
      ]
    },
    {
      "cell_type": "code",
      "metadata": {
        "colab": {
          "base_uri": "https://localhost:8080/",
          "height": 415
        },
        "id": "LyS2GgjBj4PU",
        "outputId": "03a564bb-d660-4c69-93f4-ba2ffd9e8ba3"
      },
      "source": [
        "df_movies_dup.drop_duplicates(subset='title', inplace = True, keep= 'first')\r\n",
        "df_movies_dup"
      ],
      "execution_count": 35,
      "outputs": [
        {
          "output_type": "execute_result",
          "data": {
            "text/html": [
              "<div>\n",
              "<style scoped>\n",
              "    .dataframe tbody tr th:only-of-type {\n",
              "        vertical-align: middle;\n",
              "    }\n",
              "\n",
              "    .dataframe tbody tr th {\n",
              "        vertical-align: top;\n",
              "    }\n",
              "\n",
              "    .dataframe thead th {\n",
              "        text-align: right;\n",
              "    }\n",
              "</style>\n",
              "<table border=\"1\" class=\"dataframe\">\n",
              "  <thead>\n",
              "    <tr style=\"text-align: right;\">\n",
              "      <th></th>\n",
              "      <th>movieId</th>\n",
              "      <th>title</th>\n",
              "      <th>genres</th>\n",
              "    </tr>\n",
              "  </thead>\n",
              "  <tbody>\n",
              "    <tr>\n",
              "      <th>580</th>\n",
              "      <td>588</td>\n",
              "      <td>Aladdin (1992)</td>\n",
              "      <td>Adventure|Animation|Children|Comedy|Musical</td>\n",
              "    </tr>\n",
              "    <tr>\n",
              "      <th>1710</th>\n",
              "      <td>1788</td>\n",
              "      <td>Men with Guns (1997)</td>\n",
              "      <td>Action|Drama</td>\n",
              "    </tr>\n",
              "    <tr>\n",
              "      <th>2553</th>\n",
              "      <td>2644</td>\n",
              "      <td>Dracula (1931)</td>\n",
              "      <td>Horror</td>\n",
              "    </tr>\n",
              "    <tr>\n",
              "      <th>2759</th>\n",
              "      <td>2851</td>\n",
              "      <td>Saturn 3 (1980)</td>\n",
              "      <td>Adventure|Sci-Fi|Thriller</td>\n",
              "    </tr>\n",
              "    <tr>\n",
              "      <th>3454</th>\n",
              "      <td>3553</td>\n",
              "      <td>Gossip (2000)</td>\n",
              "      <td>Drama|Thriller</td>\n",
              "    </tr>\n",
              "    <tr>\n",
              "      <th>...</th>\n",
              "      <td>...</td>\n",
              "      <td>...</td>\n",
              "      <td>...</td>\n",
              "    </tr>\n",
              "    <tr>\n",
              "      <th>57843</th>\n",
              "      <td>197281</td>\n",
              "      <td>Lost &amp; Found (2018)</td>\n",
              "      <td>Animation</td>\n",
              "    </tr>\n",
              "    <tr>\n",
              "      <th>58728</th>\n",
              "      <td>199219</td>\n",
              "      <td>I See You (2019)</td>\n",
              "      <td>Thriller</td>\n",
              "    </tr>\n",
              "    <tr>\n",
              "      <th>59537</th>\n",
              "      <td>201074</td>\n",
              "      <td>Beats (2019)</td>\n",
              "      <td>Drama</td>\n",
              "    </tr>\n",
              "    <tr>\n",
              "      <th>60497</th>\n",
              "      <td>203449</td>\n",
              "      <td>The Lonely Island Presents: The Unauthorized B...</td>\n",
              "      <td>Comedy</td>\n",
              "    </tr>\n",
              "    <tr>\n",
              "      <th>61913</th>\n",
              "      <td>207249</td>\n",
              "      <td>American Woman (2019)</td>\n",
              "      <td>Drama</td>\n",
              "    </tr>\n",
              "  </tbody>\n",
              "</table>\n",
              "<p>98 rows × 3 columns</p>\n",
              "</div>"
            ],
            "text/plain": [
              "       movieId  ...                                       genres\n",
              "580        588  ...  Adventure|Animation|Children|Comedy|Musical\n",
              "1710      1788  ...                                 Action|Drama\n",
              "2553      2644  ...                                       Horror\n",
              "2759      2851  ...                    Adventure|Sci-Fi|Thriller\n",
              "3454      3553  ...                               Drama|Thriller\n",
              "...        ...  ...                                          ...\n",
              "57843   197281  ...                                    Animation\n",
              "58728   199219  ...                                     Thriller\n",
              "59537   201074  ...                                        Drama\n",
              "60497   203449  ...                                       Comedy\n",
              "61913   207249  ...                                        Drama\n",
              "\n",
              "[98 rows x 3 columns]"
            ]
          },
          "metadata": {
            "tags": []
          },
          "execution_count": 35
        }
      ]
    },
    {
      "cell_type": "code",
      "metadata": {
        "colab": {
          "base_uri": "https://localhost:8080/",
          "height": 415
        },
        "id": "0mWQ3ePTkM3G",
        "outputId": "49d55bb9-6763-48e8-ef2d-68385c41e9e1"
      },
      "source": [
        "# removing all the duplicate entries from the movies\r\n",
        "df_movies.drop_duplicates(subset='title', inplace = True, keep= False)\r\n",
        "df_movies"
      ],
      "execution_count": 37,
      "outputs": [
        {
          "output_type": "execute_result",
          "data": {
            "text/html": [
              "<div>\n",
              "<style scoped>\n",
              "    .dataframe tbody tr th:only-of-type {\n",
              "        vertical-align: middle;\n",
              "    }\n",
              "\n",
              "    .dataframe tbody tr th {\n",
              "        vertical-align: top;\n",
              "    }\n",
              "\n",
              "    .dataframe thead th {\n",
              "        text-align: right;\n",
              "    }\n",
              "</style>\n",
              "<table border=\"1\" class=\"dataframe\">\n",
              "  <thead>\n",
              "    <tr style=\"text-align: right;\">\n",
              "      <th></th>\n",
              "      <th>movieId</th>\n",
              "      <th>title</th>\n",
              "      <th>genres</th>\n",
              "    </tr>\n",
              "  </thead>\n",
              "  <tbody>\n",
              "    <tr>\n",
              "      <th>0</th>\n",
              "      <td>1</td>\n",
              "      <td>Toy Story (1995)</td>\n",
              "      <td>Adventure|Animation|Children|Comedy|Fantasy</td>\n",
              "    </tr>\n",
              "    <tr>\n",
              "      <th>1</th>\n",
              "      <td>2</td>\n",
              "      <td>Jumanji (1995)</td>\n",
              "      <td>Adventure|Children|Fantasy</td>\n",
              "    </tr>\n",
              "    <tr>\n",
              "      <th>2</th>\n",
              "      <td>3</td>\n",
              "      <td>Grumpier Old Men (1995)</td>\n",
              "      <td>Comedy|Romance</td>\n",
              "    </tr>\n",
              "    <tr>\n",
              "      <th>3</th>\n",
              "      <td>4</td>\n",
              "      <td>Waiting to Exhale (1995)</td>\n",
              "      <td>Comedy|Drama|Romance</td>\n",
              "    </tr>\n",
              "    <tr>\n",
              "      <th>4</th>\n",
              "      <td>5</td>\n",
              "      <td>Father of the Bride Part II (1995)</td>\n",
              "      <td>Comedy</td>\n",
              "    </tr>\n",
              "    <tr>\n",
              "      <th>...</th>\n",
              "      <td>...</td>\n",
              "      <td>...</td>\n",
              "      <td>...</td>\n",
              "    </tr>\n",
              "    <tr>\n",
              "      <th>62418</th>\n",
              "      <td>209157</td>\n",
              "      <td>We (2018)</td>\n",
              "      <td>Drama</td>\n",
              "    </tr>\n",
              "    <tr>\n",
              "      <th>62419</th>\n",
              "      <td>209159</td>\n",
              "      <td>Window of the Soul (2001)</td>\n",
              "      <td>Documentary</td>\n",
              "    </tr>\n",
              "    <tr>\n",
              "      <th>62420</th>\n",
              "      <td>209163</td>\n",
              "      <td>Bad Poems (2018)</td>\n",
              "      <td>Comedy|Drama</td>\n",
              "    </tr>\n",
              "    <tr>\n",
              "      <th>62421</th>\n",
              "      <td>209169</td>\n",
              "      <td>A Girl Thing (2001)</td>\n",
              "      <td>(no genres listed)</td>\n",
              "    </tr>\n",
              "    <tr>\n",
              "      <th>62422</th>\n",
              "      <td>209171</td>\n",
              "      <td>Women of Devil's Island (1962)</td>\n",
              "      <td>Action|Adventure|Drama</td>\n",
              "    </tr>\n",
              "  </tbody>\n",
              "</table>\n",
              "<p>62227 rows × 3 columns</p>\n",
              "</div>"
            ],
            "text/plain": [
              "       movieId  ...                                       genres\n",
              "0            1  ...  Adventure|Animation|Children|Comedy|Fantasy\n",
              "1            2  ...                   Adventure|Children|Fantasy\n",
              "2            3  ...                               Comedy|Romance\n",
              "3            4  ...                         Comedy|Drama|Romance\n",
              "4            5  ...                                       Comedy\n",
              "...        ...  ...                                          ...\n",
              "62418   209157  ...                                        Drama\n",
              "62419   209159  ...                                  Documentary\n",
              "62420   209163  ...                                 Comedy|Drama\n",
              "62421   209169  ...                           (no genres listed)\n",
              "62422   209171  ...                       Action|Adventure|Drama\n",
              "\n",
              "[62227 rows x 3 columns]"
            ]
          },
          "metadata": {
            "tags": []
          },
          "execution_count": 37
        }
      ]
    },
    {
      "cell_type": "code",
      "metadata": {
        "colab": {
          "base_uri": "https://localhost:8080/",
          "height": 415
        },
        "id": "v3uCqrXrkkLS",
        "outputId": "fbcb6951-aa95-4d05-9fbb-0408fc280093"
      },
      "source": [
        "# appending the movies df with the ones duplicated which was cleaned\r\n",
        "df_movies.append(df_movies_dup)"
      ],
      "execution_count": 40,
      "outputs": [
        {
          "output_type": "execute_result",
          "data": {
            "text/html": [
              "<div>\n",
              "<style scoped>\n",
              "    .dataframe tbody tr th:only-of-type {\n",
              "        vertical-align: middle;\n",
              "    }\n",
              "\n",
              "    .dataframe tbody tr th {\n",
              "        vertical-align: top;\n",
              "    }\n",
              "\n",
              "    .dataframe thead th {\n",
              "        text-align: right;\n",
              "    }\n",
              "</style>\n",
              "<table border=\"1\" class=\"dataframe\">\n",
              "  <thead>\n",
              "    <tr style=\"text-align: right;\">\n",
              "      <th></th>\n",
              "      <th>movieId</th>\n",
              "      <th>title</th>\n",
              "      <th>genres</th>\n",
              "    </tr>\n",
              "  </thead>\n",
              "  <tbody>\n",
              "    <tr>\n",
              "      <th>0</th>\n",
              "      <td>1</td>\n",
              "      <td>Toy Story (1995)</td>\n",
              "      <td>Adventure|Animation|Children|Comedy|Fantasy</td>\n",
              "    </tr>\n",
              "    <tr>\n",
              "      <th>1</th>\n",
              "      <td>2</td>\n",
              "      <td>Jumanji (1995)</td>\n",
              "      <td>Adventure|Children|Fantasy</td>\n",
              "    </tr>\n",
              "    <tr>\n",
              "      <th>2</th>\n",
              "      <td>3</td>\n",
              "      <td>Grumpier Old Men (1995)</td>\n",
              "      <td>Comedy|Romance</td>\n",
              "    </tr>\n",
              "    <tr>\n",
              "      <th>3</th>\n",
              "      <td>4</td>\n",
              "      <td>Waiting to Exhale (1995)</td>\n",
              "      <td>Comedy|Drama|Romance</td>\n",
              "    </tr>\n",
              "    <tr>\n",
              "      <th>4</th>\n",
              "      <td>5</td>\n",
              "      <td>Father of the Bride Part II (1995)</td>\n",
              "      <td>Comedy</td>\n",
              "    </tr>\n",
              "    <tr>\n",
              "      <th>...</th>\n",
              "      <td>...</td>\n",
              "      <td>...</td>\n",
              "      <td>...</td>\n",
              "    </tr>\n",
              "    <tr>\n",
              "      <th>57843</th>\n",
              "      <td>197281</td>\n",
              "      <td>Lost &amp; Found (2018)</td>\n",
              "      <td>Animation</td>\n",
              "    </tr>\n",
              "    <tr>\n",
              "      <th>58728</th>\n",
              "      <td>199219</td>\n",
              "      <td>I See You (2019)</td>\n",
              "      <td>Thriller</td>\n",
              "    </tr>\n",
              "    <tr>\n",
              "      <th>59537</th>\n",
              "      <td>201074</td>\n",
              "      <td>Beats (2019)</td>\n",
              "      <td>Drama</td>\n",
              "    </tr>\n",
              "    <tr>\n",
              "      <th>60497</th>\n",
              "      <td>203449</td>\n",
              "      <td>The Lonely Island Presents: The Unauthorized B...</td>\n",
              "      <td>Comedy</td>\n",
              "    </tr>\n",
              "    <tr>\n",
              "      <th>61913</th>\n",
              "      <td>207249</td>\n",
              "      <td>American Woman (2019)</td>\n",
              "      <td>Drama</td>\n",
              "    </tr>\n",
              "  </tbody>\n",
              "</table>\n",
              "<p>62325 rows × 3 columns</p>\n",
              "</div>"
            ],
            "text/plain": [
              "       movieId  ...                                       genres\n",
              "0            1  ...  Adventure|Animation|Children|Comedy|Fantasy\n",
              "1            2  ...                   Adventure|Children|Fantasy\n",
              "2            3  ...                               Comedy|Romance\n",
              "3            4  ...                         Comedy|Drama|Romance\n",
              "4            5  ...                                       Comedy\n",
              "...        ...  ...                                          ...\n",
              "57843   197281  ...                                    Animation\n",
              "58728   199219  ...                                     Thriller\n",
              "59537   201074  ...                                        Drama\n",
              "60497   203449  ...                                       Comedy\n",
              "61913   207249  ...                                        Drama\n",
              "\n",
              "[62325 rows x 3 columns]"
            ]
          },
          "metadata": {
            "tags": []
          },
          "execution_count": 40
        }
      ]
    },
    {
      "cell_type": "code",
      "metadata": {
        "colab": {
          "base_uri": "https://localhost:8080/",
          "height": 49
        },
        "id": "f-poDjG6lZh_",
        "outputId": "dc21d028-2050-4977-b802-dbcabb411fdc"
      },
      "source": [
        "# checking if any duplicates present in the df_movies dataset\r\n",
        "duplicate = df_movies[df_movies.duplicated(subset='title')]\r\n",
        "duplicate"
      ],
      "execution_count": 42,
      "outputs": [
        {
          "output_type": "execute_result",
          "data": {
            "text/html": [
              "<div>\n",
              "<style scoped>\n",
              "    .dataframe tbody tr th:only-of-type {\n",
              "        vertical-align: middle;\n",
              "    }\n",
              "\n",
              "    .dataframe tbody tr th {\n",
              "        vertical-align: top;\n",
              "    }\n",
              "\n",
              "    .dataframe thead th {\n",
              "        text-align: right;\n",
              "    }\n",
              "</style>\n",
              "<table border=\"1\" class=\"dataframe\">\n",
              "  <thead>\n",
              "    <tr style=\"text-align: right;\">\n",
              "      <th></th>\n",
              "      <th>movieId</th>\n",
              "      <th>title</th>\n",
              "      <th>genres</th>\n",
              "    </tr>\n",
              "  </thead>\n",
              "  <tbody>\n",
              "  </tbody>\n",
              "</table>\n",
              "</div>"
            ],
            "text/plain": [
              "Empty DataFrame\n",
              "Columns: [movieId, title, genres]\n",
              "Index: []"
            ]
          },
          "metadata": {
            "tags": []
          },
          "execution_count": 42
        }
      ]
    },
    {
      "cell_type": "markdown",
      "metadata": {
        "id": "I0_fmLtSJTHx"
      },
      "source": [
        "### Observations from the movies.csv dataset\r\n",
        "- Title contains the year, needs to be cleaned\r\n",
        "- Single movie can have many genres, needs to split\r\n",
        "- WOW - No Null data\r\n",
        "- 98 movies are duplicate, need to drop list of duplicate movie entries which have ' no genre listed' present\r\n",
        "- then remove the rest of the duplicates "
      ]
    },
    {
      "cell_type": "markdown",
      "metadata": {
        "id": "u3uWbjJHnJnS"
      },
      "source": [
        "### References Used:\r\n",
        "- https://stackoverflow.com/questions/14946494/how-to-subtract-one-dataframe-from-another\r\n",
        "- https://stackoverflow.com/questions/23284409/how-to-subtract-rows-of-one-pandas-data-frame-from-another/26678916\r\n",
        "- https://pandas.pydata.org/pandas-docs/stable/reference/api/pandas.DataFrame.duplicated.html\r\n",
        "- https://www.geeksforgeeks.org/find-duplicate-rows-in-a-dataframe-based-on-all-or-selected-columns/\r\n",
        "- https://pandas.pydata.org/pandas-docs/stable/user_guide/merging.html\r\n"
      ]
    },
    {
      "cell_type": "markdown",
      "metadata": {
        "id": "smZrbcKrI9yT"
      },
      "source": [
        "### rating.csv that contains ratings of movies by users:"
      ]
    },
    {
      "cell_type": "code",
      "metadata": {
        "colab": {
          "base_uri": "https://localhost:8080/",
          "height": 202
        },
        "id": "i9O6SOsOAvOG",
        "outputId": "de282ca8-3d73-4497-8889-aba218a38979"
      },
      "source": [
        "# importing the ratings dataset\r\n",
        "df_ratings = pd.read_csv('/content/drive/MyDrive/ML_Datasets/movielens_dataset/ratings.csv')\r\n",
        "df_ratings.head()"
      ],
      "execution_count": 34,
      "outputs": [
        {
          "output_type": "execute_result",
          "data": {
            "text/html": [
              "<div>\n",
              "<style scoped>\n",
              "    .dataframe tbody tr th:only-of-type {\n",
              "        vertical-align: middle;\n",
              "    }\n",
              "\n",
              "    .dataframe tbody tr th {\n",
              "        vertical-align: top;\n",
              "    }\n",
              "\n",
              "    .dataframe thead th {\n",
              "        text-align: right;\n",
              "    }\n",
              "</style>\n",
              "<table border=\"1\" class=\"dataframe\">\n",
              "  <thead>\n",
              "    <tr style=\"text-align: right;\">\n",
              "      <th></th>\n",
              "      <th>userId</th>\n",
              "      <th>movieId</th>\n",
              "      <th>rating</th>\n",
              "      <th>timestamp</th>\n",
              "    </tr>\n",
              "  </thead>\n",
              "  <tbody>\n",
              "    <tr>\n",
              "      <th>0</th>\n",
              "      <td>1</td>\n",
              "      <td>296</td>\n",
              "      <td>5.0</td>\n",
              "      <td>1147880044</td>\n",
              "    </tr>\n",
              "    <tr>\n",
              "      <th>1</th>\n",
              "      <td>1</td>\n",
              "      <td>306</td>\n",
              "      <td>3.5</td>\n",
              "      <td>1147868817</td>\n",
              "    </tr>\n",
              "    <tr>\n",
              "      <th>2</th>\n",
              "      <td>1</td>\n",
              "      <td>307</td>\n",
              "      <td>5.0</td>\n",
              "      <td>1147868828</td>\n",
              "    </tr>\n",
              "    <tr>\n",
              "      <th>3</th>\n",
              "      <td>1</td>\n",
              "      <td>665</td>\n",
              "      <td>5.0</td>\n",
              "      <td>1147878820</td>\n",
              "    </tr>\n",
              "    <tr>\n",
              "      <th>4</th>\n",
              "      <td>1</td>\n",
              "      <td>899</td>\n",
              "      <td>3.5</td>\n",
              "      <td>1147868510</td>\n",
              "    </tr>\n",
              "  </tbody>\n",
              "</table>\n",
              "</div>"
            ],
            "text/plain": [
              "   userId  movieId  rating   timestamp\n",
              "0       1      296     5.0  1147880044\n",
              "1       1      306     3.5  1147868817\n",
              "2       1      307     5.0  1147868828\n",
              "3       1      665     5.0  1147878820\n",
              "4       1      899     3.5  1147868510"
            ]
          },
          "metadata": {
            "tags": []
          },
          "execution_count": 34
        }
      ]
    },
    {
      "cell_type": "code",
      "metadata": {
        "colab": {
          "base_uri": "https://localhost:8080/"
        },
        "id": "dU0yNE_aA4pR",
        "outputId": "54e43eb7-12e2-4f01-d63b-7732661fd985"
      },
      "source": [
        "# shape of the ratings dataset\r\n",
        "df_ratings.shape"
      ],
      "execution_count": 35,
      "outputs": [
        {
          "output_type": "execute_result",
          "data": {
            "text/plain": [
              "(25000095, 4)"
            ]
          },
          "metadata": {
            "tags": []
          },
          "execution_count": 35
        }
      ]
    },
    {
      "cell_type": "code",
      "metadata": {
        "colab": {
          "base_uri": "https://localhost:8080/"
        },
        "id": "537j0FAnA79A",
        "outputId": "1ecd8ec9-72e6-4656-8b90-e8a86e3e92a3"
      },
      "source": [
        "# columns in the ratings dataset\r\n",
        "df_ratings.columns"
      ],
      "execution_count": 36,
      "outputs": [
        {
          "output_type": "execute_result",
          "data": {
            "text/plain": [
              "Index(['userId', 'movieId', 'rating', 'timestamp'], dtype='object')"
            ]
          },
          "metadata": {
            "tags": []
          },
          "execution_count": 36
        }
      ]
    },
    {
      "cell_type": "code",
      "metadata": {
        "colab": {
          "base_uri": "https://localhost:8080/"
        },
        "id": "fj4ZjtVnLOSD",
        "outputId": "794f5092-a6b9-45ba-b53d-1cc70eb9644d"
      },
      "source": [
        "df_ratings.isnull().sum()"
      ],
      "execution_count": 37,
      "outputs": [
        {
          "output_type": "execute_result",
          "data": {
            "text/plain": [
              "userId       0\n",
              "movieId      0\n",
              "rating       0\n",
              "timestamp    0\n",
              "dtype: int64"
            ]
          },
          "metadata": {
            "tags": []
          },
          "execution_count": 37
        }
      ]
    },
    {
      "cell_type": "code",
      "metadata": {
        "colab": {
          "base_uri": "https://localhost:8080/"
        },
        "id": "3Z7kS4W7Lhps",
        "outputId": "42294c6d-29cd-43d1-ba9c-507a2b42e342"
      },
      "source": [
        "df_ratings['rating'].value_counts()"
      ],
      "execution_count": 38,
      "outputs": [
        {
          "output_type": "execute_result",
          "data": {
            "text/plain": [
              "4.0    6639798\n",
              "3.0    4896928\n",
              "5.0    3612474\n",
              "3.5    3177318\n",
              "4.5    2200539\n",
              "2.0    1640868\n",
              "2.5    1262797\n",
              "1.0     776815\n",
              "1.5     399490\n",
              "0.5     393068\n",
              "Name: rating, dtype: int64"
            ]
          },
          "metadata": {
            "tags": []
          },
          "execution_count": 38
        }
      ]
    },
    {
      "cell_type": "markdown",
      "metadata": {
        "id": "XnZaDnzfLaz6"
      },
      "source": [
        "### Observations\r\n",
        "- No NULL data\r\n",
        "- rating goes from 0.5 to 5.0"
      ]
    },
    {
      "cell_type": "markdown",
      "metadata": {
        "id": "T2M4P4Er9AeY"
      },
      "source": [
        "## References Used:\r\n",
        "- https://www.analyticsvidhya.com/blog/2020/11/create-your-own-movie-movie-recommendation-system/\r\n"
      ]
    },
    {
      "cell_type": "code",
      "metadata": {
        "id": "VxHsux4W9DvA"
      },
      "source": [
        ""
      ],
      "execution_count": null,
      "outputs": []
    }
  ]
}