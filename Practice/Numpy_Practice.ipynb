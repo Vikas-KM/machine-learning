{
  "nbformat": 4,
  "nbformat_minor": 0,
  "metadata": {
    "kernelspec": {
      "display_name": "Python 3",
      "language": "python",
      "name": "python3"
    },
    "language_info": {
      "codemirror_mode": {
        "name": "ipython",
        "version": 3
      },
      "file_extension": ".py",
      "mimetype": "text/x-python",
      "name": "python",
      "nbconvert_exporter": "python",
      "pygments_lexer": "ipython3",
      "version": "3.8.3-final"
    },
    "colab": {
      "name": "Numpy_Practice.ipynb",
      "provenance": [],
      "include_colab_link": true
    }
  },
  "cells": [
    {
      "cell_type": "markdown",
      "metadata": {
        "id": "view-in-github",
        "colab_type": "text"
      },
      "source": [
        "<a href=\"https://colab.research.google.com/github/Vikas-KM/machine-learning/blob/master/Practice/Numpy_Practice.ipynb\" target=\"_parent\"><img src=\"https://colab.research.google.com/assets/colab-badge.svg\" alt=\"Open In Colab\"/></a>"
      ]
    },
    {
      "cell_type": "markdown",
      "metadata": {
        "id": "ivOJUhCBFojB"
      },
      "source": [
        "# Numpy Tutorial\n",
        "\n",
        "- http://scipy-lectures.org/intro/numpy/array_object.html"
      ]
    },
    {
      "cell_type": "code",
      "metadata": {
        "id": "djRk93yNFojC"
      },
      "source": [
        "#importing numpy\n",
        "import numpy as np"
      ],
      "execution_count": 1,
      "outputs": []
    },
    {
      "cell_type": "code",
      "metadata": {
        "colab": {
          "base_uri": "https://localhost:8080/"
        },
        "id": "sOOORooQFojE",
        "outputId": "d13858ce-ea07-4a1c-8f79-e3d60bd1136b"
      },
      "source": [
        "# create a numpy array\n",
        "a = np.array([1,2,3,4])\n",
        "a"
      ],
      "execution_count": 2,
      "outputs": [
        {
          "output_type": "execute_result",
          "data": {
            "text/plain": [
              "array([1, 2, 3, 4])"
            ]
          },
          "metadata": {
            "tags": []
          },
          "execution_count": 2
        }
      ]
    },
    {
      "cell_type": "code",
      "metadata": {
        "tags": [],
        "colab": {
          "base_uri": "https://localhost:8080/"
        },
        "id": "qVfgiQUWFojI",
        "outputId": "b9aed7f8-6746-4b10-c4a1-9e1658290abe"
      },
      "source": [
        "print(a)"
      ],
      "execution_count": 3,
      "outputs": [
        {
          "output_type": "stream",
          "text": [
            "[1 2 3 4]\n"
          ],
          "name": "stdout"
        }
      ]
    },
    {
      "cell_type": "code",
      "metadata": {
        "colab": {
          "base_uri": "https://localhost:8080/"
        },
        "id": "awhQpU1_FojI",
        "outputId": "33fe0b00-8014-4ae0-86d8-738699964d3a"
      },
      "source": [
        "# numpy allows adding scalar to the array\n",
        "a + 1"
      ],
      "execution_count": 4,
      "outputs": [
        {
          "output_type": "execute_result",
          "data": {
            "text/plain": [
              "array([2, 3, 4, 5])"
            ]
          },
          "metadata": {
            "tags": []
          },
          "execution_count": 4
        }
      ]
    },
    {
      "cell_type": "code",
      "metadata": {
        "colab": {
          "base_uri": "https://localhost:8080/"
        },
        "id": "R1C3lgfSFojI",
        "outputId": "ba286c54-c006-49f1-ea56-13f4359f9198"
      },
      "source": [
        "a"
      ],
      "execution_count": 5,
      "outputs": [
        {
          "output_type": "execute_result",
          "data": {
            "text/plain": [
              "array([1, 2, 3, 4])"
            ]
          },
          "metadata": {
            "tags": []
          },
          "execution_count": 5
        }
      ]
    },
    {
      "cell_type": "code",
      "metadata": {
        "colab": {
          "base_uri": "https://localhost:8080/"
        },
        "id": "mbiyM8BvGP5n",
        "outputId": "229e87d3-beed-417e-ad8b-f997026544b4"
      },
      "source": [
        "print(a.data)"
      ],
      "execution_count": 6,
      "outputs": [
        {
          "output_type": "stream",
          "text": [
            "<memory at 0x7f64337acd08>\n"
          ],
          "name": "stdout"
        }
      ]
    },
    {
      "cell_type": "markdown",
      "metadata": {
        "id": "ye2pXf4AFojJ"
      },
      "source": [
        "## Numpy - memory Efficiency"
      ]
    },
    {
      "cell_type": "code",
      "metadata": {
        "tags": [],
        "colab": {
          "base_uri": "https://localhost:8080/"
        },
        "id": "CDZWiiNaFojJ",
        "outputId": "a3b5cc4d-7f55-461d-facd-a20a1a807977"
      },
      "source": [
        "L = range(1000)\n",
        "%timeit [i**2 for i in L]"
      ],
      "execution_count": 7,
      "outputs": [
        {
          "output_type": "stream",
          "text": [
            "1000 loops, best of 3: 258 µs per loop\n"
          ],
          "name": "stdout"
        }
      ]
    },
    {
      "cell_type": "code",
      "metadata": {
        "tags": [],
        "colab": {
          "base_uri": "https://localhost:8080/"
        },
        "id": "eIhxeDfIFojJ",
        "outputId": "6f12e6bd-3586-4a5f-a961-0ff84efe89d1"
      },
      "source": [
        "a = np.arange(1000)\n",
        "%timeit a**2"
      ],
      "execution_count": 8,
      "outputs": [
        {
          "output_type": "stream",
          "text": [
            "The slowest run took 36.19 times longer than the fastest. This could mean that an intermediate result is being cached.\n",
            "1000000 loops, best of 3: 1.46 µs per loop\n"
          ],
          "name": "stdout"
        }
      ]
    },
    {
      "cell_type": "markdown",
      "metadata": {
        "id": "aGbVdmgTGe8S"
      },
      "source": [
        "#### Look at the time taken, numpy is 150-200 times faster"
      ]
    },
    {
      "cell_type": "code",
      "metadata": {
        "colab": {
          "base_uri": "https://localhost:8080/"
        },
        "id": "kBFpVHl9FojK",
        "outputId": "32b0c742-6042-49bf-a78f-b0923049e100"
      },
      "source": [
        "# create a numpy array from a given range\n",
        "a = np.arange(10)\n",
        "a"
      ],
      "execution_count": 11,
      "outputs": [
        {
          "output_type": "execute_result",
          "data": {
            "text/plain": [
              "array([0, 1, 2, 3, 4, 5, 6, 7, 8, 9])"
            ]
          },
          "metadata": {
            "tags": []
          },
          "execution_count": 11
        }
      ]
    },
    {
      "cell_type": "code",
      "metadata": {
        "colab": {
          "base_uri": "https://localhost:8080/"
        },
        "id": "pMZ2JS69FojK",
        "outputId": "b4a1b676-1c9f-4946-fa88-3708b9f362af"
      },
      "source": [
        "# dimensions of the numpy array\n",
        "print(a.ndim)"
      ],
      "execution_count": 12,
      "outputs": [
        {
          "output_type": "stream",
          "text": [
            "1\n"
          ],
          "name": "stdout"
        }
      ]
    },
    {
      "cell_type": "code",
      "metadata": {
        "colab": {
          "base_uri": "https://localhost:8080/"
        },
        "id": "aLPZChhMFojK",
        "outputId": "dc3ecef1-b77b-4029-d7cb-a9ac63c1c4c0"
      },
      "source": [
        "# print the shape of the numpy array\n",
        "print(a.shape)"
      ],
      "execution_count": 13,
      "outputs": [
        {
          "output_type": "stream",
          "text": [
            "(10,)\n"
          ],
          "name": "stdout"
        }
      ]
    },
    {
      "cell_type": "code",
      "metadata": {
        "colab": {
          "base_uri": "https://localhost:8080/"
        },
        "id": "RUrxHLBZFojL",
        "outputId": "44eaafec-dfbe-4b9d-b805-e0a703fb857c"
      },
      "source": [
        "# print the size of the numpy array\n",
        "print(a.size)"
      ],
      "execution_count": 14,
      "outputs": [
        {
          "output_type": "stream",
          "text": [
            "10\n"
          ],
          "name": "stdout"
        }
      ]
    },
    {
      "cell_type": "code",
      "metadata": {
        "colab": {
          "base_uri": "https://localhost:8080/"
        },
        "id": "qHvWVjIiFojL",
        "outputId": "4c365ef7-485e-4860-86ec-2d1269227561"
      },
      "source": [
        "# what is the max value in numpy array\n",
        "print(a.max())"
      ],
      "execution_count": 15,
      "outputs": [
        {
          "output_type": "stream",
          "text": [
            "9\n"
          ],
          "name": "stdout"
        }
      ]
    },
    {
      "cell_type": "code",
      "metadata": {
        "colab": {
          "base_uri": "https://localhost:8080/"
        },
        "id": "2UFnnYJKFojL",
        "outputId": "8d28400f-6ed5-4702-8892-1f4a99034dd7"
      },
      "source": [
        "# what is the min value in numpy array\n",
        "print(a.min())"
      ],
      "execution_count": 16,
      "outputs": [
        {
          "output_type": "stream",
          "text": [
            "0\n"
          ],
          "name": "stdout"
        }
      ]
    },
    {
      "cell_type": "code",
      "metadata": {
        "colab": {
          "base_uri": "https://localhost:8080/"
        },
        "id": "Lgec3R_FFojL",
        "outputId": "05030771-1133-461f-dad2-5a468f6142ab"
      },
      "source": [
        "# print the length of the numpy array\n",
        "print(len(a))"
      ],
      "execution_count": 17,
      "outputs": [
        {
          "output_type": "stream",
          "text": [
            "10\n"
          ],
          "name": "stdout"
        }
      ]
    },
    {
      "cell_type": "markdown",
      "metadata": {
        "id": "o72iYmilFojM"
      },
      "source": [
        "## Some Nomenclature\n",
        "* 1D => Vector\n",
        "* 2D => Matrix\n",
        "* 3D => Tensor"
      ]
    },
    {
      "cell_type": "code",
      "metadata": {
        "colab": {
          "base_uri": "https://localhost:8080/"
        },
        "id": "UME6sKaFFojM",
        "outputId": "5361ba18-c333-41f6-e40b-48674bb4360f"
      },
      "source": [
        "# create a numpy array with evenly spaced values\n",
        "\n",
        "# numpy.linspace(start, stop, num=50, endpoint=True, retstep=False, dtype=None, axis=0)[source]\n",
        "# Return evenly spaced numbers over a specified interval.\n",
        "# Returns num evenly spaced samples, calculated over the interval [start, stop].\n",
        "# The endpoint of the interval can optionally be excluded.\n",
        "\n",
        "np.linspace(0,10,5)"
      ],
      "execution_count": 21,
      "outputs": [
        {
          "output_type": "execute_result",
          "data": {
            "text/plain": [
              "array([ 0. ,  2.5,  5. ,  7.5, 10. ])"
            ]
          },
          "metadata": {
            "tags": []
          },
          "execution_count": 21
        }
      ]
    },
    {
      "cell_type": "code",
      "metadata": {
        "colab": {
          "base_uri": "https://localhost:8080/"
        },
        "id": "8UFBbsMvFojM",
        "outputId": "b5d224b8-8fa4-4513-83a2-2ac170223670"
      },
      "source": [
        "# Same as above but with endpoint=False, so 10 is not considered\n",
        "np.linspace(0,10,5, endpoint=False)"
      ],
      "execution_count": 23,
      "outputs": [
        {
          "output_type": "execute_result",
          "data": {
            "text/plain": [
              "array([0., 2., 4., 6., 8.])"
            ]
          },
          "metadata": {
            "tags": []
          },
          "execution_count": 23
        }
      ]
    },
    {
      "cell_type": "code",
      "metadata": {
        "colab": {
          "base_uri": "https://localhost:8080/"
        },
        "id": "AoLcspEvFojM",
        "outputId": "00278afb-e77c-4796-deba-78e66112b8b9"
      },
      "source": [
        "# create a numpy array of 1's\n",
        "np.ones((2,3))"
      ],
      "execution_count": 24,
      "outputs": [
        {
          "output_type": "execute_result",
          "data": {
            "text/plain": [
              "array([[1., 1., 1.],\n",
              "       [1., 1., 1.]])"
            ]
          },
          "metadata": {
            "tags": []
          },
          "execution_count": 24
        }
      ]
    },
    {
      "cell_type": "code",
      "metadata": {
        "colab": {
          "base_uri": "https://localhost:8080/"
        },
        "id": "4myBAqMmFojN",
        "outputId": "d782d595-a778-4256-983d-b9a9b567736c"
      },
      "source": [
        "# create a numpy array of 0's\n",
        "np.zeros((3,4))"
      ],
      "execution_count": 25,
      "outputs": [
        {
          "output_type": "execute_result",
          "data": {
            "text/plain": [
              "array([[0., 0., 0., 0.],\n",
              "       [0., 0., 0., 0.],\n",
              "       [0., 0., 0., 0.]])"
            ]
          },
          "metadata": {
            "tags": []
          },
          "execution_count": 25
        }
      ]
    },
    {
      "cell_type": "code",
      "metadata": {
        "colab": {
          "base_uri": "https://localhost:8080/"
        },
        "id": "Bn6BZV40FojN",
        "outputId": "d9002f09-d930-44ae-e281-e83114aacf8d"
      },
      "source": [
        "# creates an identity vector/matrix\n",
        "np.eye(3)"
      ],
      "execution_count": 27,
      "outputs": [
        {
          "output_type": "execute_result",
          "data": {
            "text/plain": [
              "array([[1., 0., 0.],\n",
              "       [0., 1., 0.],\n",
              "       [0., 0., 1.]])"
            ]
          },
          "metadata": {
            "tags": []
          },
          "execution_count": 27
        }
      ]
    },
    {
      "cell_type": "code",
      "metadata": {
        "colab": {
          "base_uri": "https://localhost:8080/"
        },
        "id": "CI9B09RQFojN",
        "outputId": "f3036cf1-0c9a-4742-b48f-04c018ff3519"
      },
      "source": [
        "# creates an identity matrix\n",
        "np.identity(3)"
      ],
      "execution_count": 28,
      "outputs": [
        {
          "output_type": "execute_result",
          "data": {
            "text/plain": [
              "array([[1., 0., 0.],\n",
              "       [0., 1., 0.],\n",
              "       [0., 0., 1.]])"
            ]
          },
          "metadata": {
            "tags": []
          },
          "execution_count": 28
        }
      ]
    },
    {
      "cell_type": "code",
      "metadata": {
        "colab": {
          "base_uri": "https://localhost:8080/"
        },
        "id": "3GN9pCqfFojN",
        "outputId": "700ecd74-a884-4d92-ee37-5de423b359a5"
      },
      "source": [
        "# creates a matrix with the given diagonal matrix\n",
        "np.diag([1,2,3,4])"
      ],
      "execution_count": 29,
      "outputs": [
        {
          "output_type": "execute_result",
          "data": {
            "text/plain": [
              "array([[1, 0, 0, 0],\n",
              "       [0, 2, 0, 0],\n",
              "       [0, 0, 3, 0],\n",
              "       [0, 0, 0, 4]])"
            ]
          },
          "metadata": {
            "tags": []
          },
          "execution_count": 29
        }
      ]
    },
    {
      "cell_type": "code",
      "metadata": {
        "colab": {
          "base_uri": "https://localhost:8080/"
        },
        "id": "o0OejvMFFojN",
        "outputId": "3e5c5e5c-30a0-412b-bd91-0988678e411a"
      },
      "source": [
        "np.diag([1,2,3,4,5])"
      ],
      "execution_count": 30,
      "outputs": [
        {
          "output_type": "execute_result",
          "data": {
            "text/plain": [
              "array([[1, 0, 0, 0, 0],\n",
              "       [0, 2, 0, 0, 0],\n",
              "       [0, 0, 3, 0, 0],\n",
              "       [0, 0, 0, 4, 0],\n",
              "       [0, 0, 0, 0, 5]])"
            ]
          },
          "metadata": {
            "tags": []
          },
          "execution_count": 30
        }
      ]
    },
    {
      "cell_type": "code",
      "metadata": {
        "colab": {
          "base_uri": "https://localhost:8080/"
        },
        "id": "2nJDkhjMFojO",
        "outputId": "691e3e9e-f4df-46db-ca1e-8e9d1c2dc35b"
      },
      "source": [
        "# uniform distribution\n",
        "np.random.rand(3)"
      ],
      "execution_count": 32,
      "outputs": [
        {
          "output_type": "execute_result",
          "data": {
            "text/plain": [
              "array([0.56080974, 0.67919727, 0.79388296])"
            ]
          },
          "metadata": {
            "tags": []
          },
          "execution_count": 32
        }
      ]
    },
    {
      "cell_type": "code",
      "metadata": {
        "colab": {
          "base_uri": "https://localhost:8080/"
        },
        "id": "yY-bW2OzFojO",
        "outputId": "7a59c519-e4bf-426b-9a53-df00a27d211f"
      },
      "source": [
        "# gaussian/normal  distribution\n",
        "np.random.randn(3)"
      ],
      "execution_count": 31,
      "outputs": [
        {
          "output_type": "execute_result",
          "data": {
            "text/plain": [
              "array([ 0.0968228 , -0.54237605,  1.35339878])"
            ]
          },
          "metadata": {
            "tags": []
          },
          "execution_count": 31
        }
      ]
    },
    {
      "cell_type": "code",
      "metadata": {
        "colab": {
          "base_uri": "https://localhost:8080/"
        },
        "id": "6xinc1BDFojO",
        "outputId": "a7d6b520-45b1-4990-aaea-64c86406df80"
      },
      "source": [
        "# Return random integers from low (inclusive) to high (exclusive).\n",
        "np.random.randint(10)"
      ],
      "execution_count": 34,
      "outputs": [
        {
          "output_type": "execute_result",
          "data": {
            "text/plain": [
              "7"
            ]
          },
          "metadata": {
            "tags": []
          },
          "execution_count": 34
        }
      ]
    },
    {
      "cell_type": "code",
      "metadata": {
        "colab": {
          "base_uri": "https://localhost:8080/"
        },
        "id": "pQtI9zbxFojO",
        "outputId": "7c8b0339-0cf2-4a24-d154-ff9f0dba155b"
      },
      "source": [
        "np.random.randint(3,6)"
      ],
      "execution_count": 35,
      "outputs": [
        {
          "output_type": "execute_result",
          "data": {
            "text/plain": [
              "3"
            ]
          },
          "metadata": {
            "tags": []
          },
          "execution_count": 35
        }
      ]
    },
    {
      "cell_type": "code",
      "metadata": {
        "id": "86ZS82OhFojO"
      },
      "source": [
        "# This method is called when RandomState is initialized. \n",
        "# It can be called again to re-seed the generator. \n",
        "\n",
        "np.random.seed(42)"
      ],
      "execution_count": 36,
      "outputs": []
    },
    {
      "cell_type": "code",
      "metadata": {
        "colab": {
          "base_uri": "https://localhost:8080/"
        },
        "id": "XsLFkqIZFojP",
        "outputId": "0fd0d902-438d-42ae-ba0e-19a88930e7c8"
      },
      "source": [
        "# returns uninitialized numpy array\n",
        "# uninitialized as in filled with random garbage values\n",
        "\n",
        "np.empty([2,2])"
      ],
      "execution_count": 37,
      "outputs": [
        {
          "output_type": "execute_result",
          "data": {
            "text/plain": [
              "array([[4.9e-324, 9.9e-324],\n",
              "       [1.5e-323, 2.0e-323]])"
            ]
          },
          "metadata": {
            "tags": []
          },
          "execution_count": 37
        }
      ]
    },
    {
      "cell_type": "code",
      "metadata": {
        "colab": {
          "base_uri": "https://localhost:8080/"
        },
        "id": "-Ej9OEKgFojP",
        "outputId": "b7d4549c-5163-4c5c-8770-e6d7768a9157"
      },
      "source": [
        "# creation of numpy array with complex values\n",
        "a = np.array([1+2j, 3+4j])\n",
        "a"
      ],
      "execution_count": 38,
      "outputs": [
        {
          "output_type": "execute_result",
          "data": {
            "text/plain": [
              "array([1.+2.j, 3.+4.j])"
            ]
          },
          "metadata": {
            "tags": []
          },
          "execution_count": 38
        }
      ]
    },
    {
      "cell_type": "code",
      "metadata": {
        "colab": {
          "base_uri": "https://localhost:8080/"
        },
        "id": "-_U-0htuFojP",
        "outputId": "ddb528b2-f581-450e-859c-cd657e71a3da"
      },
      "source": [
        "# print the type of the numpy array\n",
        "print(a.dtype)"
      ],
      "execution_count": 39,
      "outputs": [
        {
          "output_type": "stream",
          "text": [
            "complex128\n"
          ],
          "name": "stdout"
        }
      ]
    },
    {
      "cell_type": "code",
      "metadata": {
        "colab": {
          "base_uri": "https://localhost:8080/"
        },
        "id": "fGr5wHaZFojP",
        "outputId": "72c57d63-7bcd-4010-c7e8-99ce142305b3"
      },
      "source": [
        "a = np.array([1,2,3])\n",
        "print(a.dtype)"
      ],
      "execution_count": 44,
      "outputs": [
        {
          "output_type": "stream",
          "text": [
            "int64\n"
          ],
          "name": "stdout"
        }
      ]
    },
    {
      "cell_type": "code",
      "metadata": {
        "colab": {
          "base_uri": "https://localhost:8080/"
        },
        "id": "Tcr62lSGFojQ",
        "outputId": "6f165d20-7789-43fb-e59b-e1572ca9fffc"
      },
      "source": [
        "a = np.array([1.,2.,3.])\n",
        "print(a.dtype)"
      ],
      "execution_count": 45,
      "outputs": [
        {
          "output_type": "stream",
          "text": [
            "float64\n"
          ],
          "name": "stdout"
        }
      ]
    },
    {
      "cell_type": "markdown",
      "metadata": {
        "id": "17YhR2VdKHh_"
      },
      "source": [
        "## Slicing and Indexing"
      ]
    },
    {
      "cell_type": "code",
      "metadata": {
        "colab": {
          "base_uri": "https://localhost:8080/"
        },
        "id": "ZBRZIYrmFojQ",
        "outputId": "27c290c3-5703-4974-a006-86c63ab1ee1d"
      },
      "source": [
        "# print first 10 values\n",
        "a = np.arange(25)\n",
        "print(a[:10])"
      ],
      "execution_count": 48,
      "outputs": [
        {
          "output_type": "stream",
          "text": [
            "[0 1 2 3 4 5 6 7 8 9]\n"
          ],
          "name": "stdout"
        }
      ]
    },
    {
      "cell_type": "code",
      "metadata": {
        "colab": {
          "base_uri": "https://localhost:8080/"
        },
        "id": "lCiduIJLFojQ",
        "outputId": "e6c942ec-0c77-46da-8077-43010dc73fe7"
      },
      "source": [
        "# print last 10 values\n",
        "a[-10:]"
      ],
      "execution_count": 49,
      "outputs": [
        {
          "output_type": "execute_result",
          "data": {
            "text/plain": [
              "array([15, 16, 17, 18, 19, 20, 21, 22, 23, 24])"
            ]
          },
          "metadata": {
            "tags": []
          },
          "execution_count": 49
        }
      ]
    },
    {
      "cell_type": "markdown",
      "metadata": {
        "id": "mEFic0OvFojR"
      },
      "source": [
        "## Copying Numpy Arrays"
      ]
    },
    {
      "cell_type": "code",
      "metadata": {
        "colab": {
          "base_uri": "https://localhost:8080/"
        },
        "id": "DcatJgIOFojQ",
        "outputId": "51eb8492-e41c-4cad-bff5-1b6376aed906"
      },
      "source": [
        "# copy the first 10 values of a into b\n",
        "b = a[:10]\n",
        "b"
      ],
      "execution_count": 51,
      "outputs": [
        {
          "output_type": "execute_result",
          "data": {
            "text/plain": [
              "array([0, 1, 2, 3, 4, 5, 6, 7, 8, 9])"
            ]
          },
          "metadata": {
            "tags": []
          },
          "execution_count": 51
        }
      ]
    },
    {
      "cell_type": "code",
      "metadata": {
        "colab": {
          "base_uri": "https://localhost:8080/"
        },
        "id": "PTQPr_zLFojR",
        "outputId": "bad7cc21-8cdf-4be7-af01-5320362d8cd0"
      },
      "source": [
        "# assigning like this will also change the original\n",
        "b[0]= 100\n",
        "a[:10]"
      ],
      "execution_count": 52,
      "outputs": [
        {
          "output_type": "execute_result",
          "data": {
            "text/plain": [
              "array([100,   1,   2,   3,   4,   5,   6,   7,   8,   9])"
            ]
          },
          "metadata": {
            "tags": []
          },
          "execution_count": 52
        }
      ]
    },
    {
      "cell_type": "code",
      "metadata": {
        "colab": {
          "base_uri": "https://localhost:8080/"
        },
        "id": "fsxNFxfSFojR",
        "outputId": "20f2fdcd-39c8-49cd-c721-fa9e4703aab5"
      },
      "source": [
        "c = a[:10].copy()\n",
        "c"
      ],
      "execution_count": 53,
      "outputs": [
        {
          "output_type": "execute_result",
          "data": {
            "text/plain": [
              "array([100,   1,   2,   3,   4,   5,   6,   7,   8,   9])"
            ]
          },
          "metadata": {
            "tags": []
          },
          "execution_count": 53
        }
      ]
    },
    {
      "cell_type": "code",
      "metadata": {
        "colab": {
          "base_uri": "https://localhost:8080/"
        },
        "id": "51hTc_vbFojR",
        "outputId": "85ef3799-a9bc-4ed2-ce68-3c457391beaa"
      },
      "source": [
        "c[0] = 1\n",
        "a[:10]"
      ],
      "execution_count": 54,
      "outputs": [
        {
          "output_type": "execute_result",
          "data": {
            "text/plain": [
              "array([100,   1,   2,   3,   4,   5,   6,   7,   8,   9])"
            ]
          },
          "metadata": {
            "tags": []
          },
          "execution_count": 54
        }
      ]
    },
    {
      "cell_type": "code",
      "metadata": {
        "colab": {
          "base_uri": "https://localhost:8080/"
        },
        "id": "UXwt1N-BFojR",
        "outputId": "87afe4d8-54b8-4b03-b03b-8a252265ecdc"
      },
      "source": [
        "b"
      ],
      "execution_count": 55,
      "outputs": [
        {
          "output_type": "execute_result",
          "data": {
            "text/plain": [
              "array([100,   1,   2,   3,   4,   5,   6,   7,   8,   9])"
            ]
          },
          "metadata": {
            "tags": []
          },
          "execution_count": 55
        }
      ]
    },
    {
      "cell_type": "markdown",
      "metadata": {
        "id": "2CdBlpPRKs4O"
      },
      "source": [
        "### a = b\n",
        "- it points b to the location of a\n",
        "\n",
        "### c = a.copy()\n",
        "- a is copied into c\n",
        "- here a and c are independent"
      ]
    },
    {
      "cell_type": "code",
      "metadata": {
        "colab": {
          "base_uri": "https://localhost:8080/"
        },
        "id": "vQpdEM4yFojS",
        "outputId": "1d67f991-8764-4c0b-b8f1-54aebe8daf5f"
      },
      "source": [
        "## reversing the given array\n",
        "b[::-1]"
      ],
      "execution_count": 56,
      "outputs": [
        {
          "output_type": "execute_result",
          "data": {
            "text/plain": [
              "array([  9,   8,   7,   6,   5,   4,   3,   2,   1, 100])"
            ]
          },
          "metadata": {
            "tags": []
          },
          "execution_count": 56
        }
      ]
    },
    {
      "cell_type": "code",
      "metadata": {
        "colab": {
          "base_uri": "https://localhost:8080/"
        },
        "id": "VGxRiGffFojS",
        "outputId": "0c77519a-fe5f-4c30-bb2e-0988c2f73e02"
      },
      "source": [
        "a = np.array([True, False, True])\n",
        "a.dtype"
      ],
      "execution_count": 57,
      "outputs": [
        {
          "output_type": "execute_result",
          "data": {
            "text/plain": [
              "dtype('bool')"
            ]
          },
          "metadata": {
            "tags": []
          },
          "execution_count": 57
        }
      ]
    },
    {
      "cell_type": "code",
      "metadata": {
        "colab": {
          "base_uri": "https://localhost:8080/"
        },
        "id": "AD4o08y3FojS",
        "outputId": "02781c91-01a2-42c1-b7ae-ea9fd132bb52"
      },
      "source": [
        "a = np.array(['python','numpy','pandas'])\n",
        "a.dtype"
      ],
      "execution_count": 58,
      "outputs": [
        {
          "output_type": "execute_result",
          "data": {
            "text/plain": [
              "dtype('<U6')"
            ]
          },
          "metadata": {
            "tags": []
          },
          "execution_count": 58
        }
      ]
    },
    {
      "cell_type": "code",
      "metadata": {
        "colab": {
          "base_uri": "https://localhost:8080/"
        },
        "id": "hHWgA3XRFojS",
        "outputId": "c978c6cf-60c2-4b4a-cd09-9c1fb1e39d38"
      },
      "source": [
        "a = np.array(['python','numpy','pandas','scikit-learn'])\n",
        "a.dtype"
      ],
      "execution_count": 59,
      "outputs": [
        {
          "output_type": "execute_result",
          "data": {
            "text/plain": [
              "dtype('<U12')"
            ]
          },
          "metadata": {
            "tags": []
          },
          "execution_count": 59
        }
      ]
    },
    {
      "cell_type": "markdown",
      "metadata": {
        "id": "DTsdSNebFojS"
      },
      "source": [
        "- In the above the dtype responds with the largest string size"
      ]
    },
    {
      "cell_type": "code",
      "metadata": {
        "colab": {
          "base_uri": "https://localhost:8080/"
        },
        "id": "Vs_c-rdvFojS",
        "outputId": "5d129a1e-340e-4d43-cb7b-ccbd467703e3"
      },
      "source": [
        "np.diag(np.arange(5))"
      ],
      "execution_count": 60,
      "outputs": [
        {
          "output_type": "execute_result",
          "data": {
            "text/plain": [
              "array([[0, 0, 0, 0, 0],\n",
              "       [0, 1, 0, 0, 0],\n",
              "       [0, 0, 2, 0, 0],\n",
              "       [0, 0, 0, 3, 0],\n",
              "       [0, 0, 0, 0, 4]])"
            ]
          },
          "metadata": {
            "tags": []
          },
          "execution_count": 60
        }
      ]
    },
    {
      "cell_type": "markdown",
      "metadata": {
        "id": "l649QPoSFojT"
      },
      "source": [
        "## Fancy Indexing\n",
        "<img src='http://scipy-lectures.org/_images/numpy_indexing.png' />"
      ]
    },
    {
      "cell_type": "code",
      "metadata": {
        "colab": {
          "base_uri": "https://localhost:8080/"
        },
        "id": "-WIEIz3bFojT",
        "outputId": "98c3f010-8fa6-4eca-d0ce-fa2d81da2c95"
      },
      "source": [
        "# How to check if a and b, both are pointing to the same location?\n",
        "# Determine if two arrays share memory.\n",
        "a = np.array([1,2,3])\n",
        "b = a\n",
        "np.shares_memory(a,b)"
      ],
      "execution_count": 63,
      "outputs": [
        {
          "output_type": "execute_result",
          "data": {
            "text/plain": [
              "True"
            ]
          },
          "metadata": {
            "tags": []
          },
          "execution_count": 63
        }
      ]
    },
    {
      "cell_type": "code",
      "metadata": {
        "colab": {
          "base_uri": "https://localhost:8080/"
        },
        "id": "IwxgOcflFojT",
        "outputId": "c3e2fdb0-04ff-4666-de64-896f8d6209eb"
      },
      "source": [
        "c = a.copy()\n",
        "np.shares_memory(a,c)"
      ],
      "execution_count": 64,
      "outputs": [
        {
          "output_type": "execute_result",
          "data": {
            "text/plain": [
              "False"
            ]
          },
          "metadata": {
            "tags": []
          },
          "execution_count": 64
        }
      ]
    },
    {
      "cell_type": "code",
      "metadata": {
        "colab": {
          "base_uri": "https://localhost:8080/"
        },
        "id": "EbKrLwHVFojT",
        "outputId": "c83fdaf3-cf0b-4f35-9b5e-533f8773b871"
      },
      "source": [
        "b"
      ],
      "execution_count": 65,
      "outputs": [
        {
          "output_type": "execute_result",
          "data": {
            "text/plain": [
              "array([1, 2, 3])"
            ]
          },
          "metadata": {
            "tags": []
          },
          "execution_count": 65
        }
      ]
    },
    {
      "cell_type": "code",
      "metadata": {
        "colab": {
          "base_uri": "https://localhost:8080/"
        },
        "id": "YiQ5gz9oFojT",
        "outputId": "7120af11-d5b9-4822-bef0-e4fa0045aaa6"
      },
      "source": [
        "# return even elements of the b array\n",
        "b[b%2 == 0]"
      ],
      "execution_count": 67,
      "outputs": [
        {
          "output_type": "execute_result",
          "data": {
            "text/plain": [
              "array([2])"
            ]
          },
          "metadata": {
            "tags": []
          },
          "execution_count": 67
        }
      ]
    },
    {
      "cell_type": "code",
      "metadata": {
        "colab": {
          "base_uri": "https://localhost:8080/"
        },
        "id": "OpkU7x59FojU",
        "outputId": "4bb38313-0bcf-4512-ef57-b7b2d291adeb"
      },
      "source": [
        "a = np.arange(10)\n",
        "a"
      ],
      "execution_count": 68,
      "outputs": [
        {
          "output_type": "execute_result",
          "data": {
            "text/plain": [
              "array([0, 1, 2, 3, 4, 5, 6, 7, 8, 9])"
            ]
          },
          "metadata": {
            "tags": []
          },
          "execution_count": 68
        }
      ]
    },
    {
      "cell_type": "code",
      "metadata": {
        "colab": {
          "base_uri": "https://localhost:8080/"
        },
        "id": "z9qP2NjNFojU",
        "outputId": "ffdfdfc7-96ca-41bd-83cc-911f38df6e47"
      },
      "source": [
        "# square the given array\n",
        "a**2"
      ],
      "execution_count": 70,
      "outputs": [
        {
          "output_type": "execute_result",
          "data": {
            "text/plain": [
              "array([ 0,  1,  4,  9, 16, 25, 36, 49, 64, 81])"
            ]
          },
          "metadata": {
            "tags": []
          },
          "execution_count": 70
        }
      ]
    },
    {
      "cell_type": "code",
      "metadata": {
        "colab": {
          "base_uri": "https://localhost:8080/"
        },
        "id": "E6IgTW69FojU",
        "outputId": "31b0bd88-1c7f-40d8-d151-685c2d552a34"
      },
      "source": [
        "# cube the given array\n",
        "a**3"
      ],
      "execution_count": 71,
      "outputs": [
        {
          "output_type": "execute_result",
          "data": {
            "text/plain": [
              "array([  0,   1,   8,  27,  64, 125, 216, 343, 512, 729])"
            ]
          },
          "metadata": {
            "tags": []
          },
          "execution_count": 71
        }
      ]
    },
    {
      "cell_type": "code",
      "metadata": {
        "colab": {
          "base_uri": "https://localhost:8080/"
        },
        "id": "_-JsW8HKFojV",
        "outputId": "4c49baec-df4b-4985-9611-98dc5ecef2f2"
      },
      "source": [
        "b = np.ones(10)\n",
        "b"
      ],
      "execution_count": 72,
      "outputs": [
        {
          "output_type": "execute_result",
          "data": {
            "text/plain": [
              "array([1., 1., 1., 1., 1., 1., 1., 1., 1., 1.])"
            ]
          },
          "metadata": {
            "tags": []
          },
          "execution_count": 72
        }
      ]
    },
    {
      "cell_type": "code",
      "metadata": {
        "colab": {
          "base_uri": "https://localhost:8080/"
        },
        "id": "GfCDxMTiFojV",
        "outputId": "4d0ae2b3-7b96-41d9-dceb-fc1b922c157a"
      },
      "source": [
        "# subtraction\n",
        "a-b"
      ],
      "execution_count": 74,
      "outputs": [
        {
          "output_type": "execute_result",
          "data": {
            "text/plain": [
              "array([-1.,  0.,  1.,  2.,  3.,  4.,  5.,  6.,  7.,  8.])"
            ]
          },
          "metadata": {
            "tags": []
          },
          "execution_count": 74
        }
      ]
    },
    {
      "cell_type": "code",
      "metadata": {
        "colab": {
          "base_uri": "https://localhost:8080/"
        },
        "id": "-IxOjpocFojV",
        "outputId": "691f4ee2-4be0-412d-e084-89c29c8a4d6c"
      },
      "source": [
        "# multiplication\n",
        "a*b"
      ],
      "execution_count": 75,
      "outputs": [
        {
          "output_type": "execute_result",
          "data": {
            "text/plain": [
              "array([0., 1., 2., 3., 4., 5., 6., 7., 8., 9.])"
            ]
          },
          "metadata": {
            "tags": []
          },
          "execution_count": 75
        }
      ]
    },
    {
      "cell_type": "code",
      "metadata": {
        "colab": {
          "base_uri": "https://localhost:8080/"
        },
        "id": "KyzLVsX5FojV",
        "outputId": "c30dd7c5-9374-4b90-8bbd-cab0831dfe34"
      },
      "source": [
        "# return a bool, comparing each element\n",
        "a == b"
      ],
      "execution_count": 77,
      "outputs": [
        {
          "output_type": "execute_result",
          "data": {
            "text/plain": [
              "array([False,  True, False, False, False, False, False, False, False,\n",
              "       False])"
            ]
          },
          "metadata": {
            "tags": []
          },
          "execution_count": 77
        }
      ]
    },
    {
      "cell_type": "code",
      "metadata": {
        "colab": {
          "base_uri": "https://localhost:8080/"
        },
        "id": "vsUTtLEkFojW",
        "outputId": "8cb96d6d-f159-43d8-de9d-04b1dea2c4f3"
      },
      "source": [
        "a > b"
      ],
      "execution_count": 78,
      "outputs": [
        {
          "output_type": "execute_result",
          "data": {
            "text/plain": [
              "array([False, False,  True,  True,  True,  True,  True,  True,  True,\n",
              "        True])"
            ]
          },
          "metadata": {
            "tags": []
          },
          "execution_count": 78
        }
      ]
    },
    {
      "cell_type": "code",
      "metadata": {
        "colab": {
          "base_uri": "https://localhost:8080/"
        },
        "id": "BsQdGAiGFojW",
        "outputId": "00f69d9a-5bf1-48c2-89c1-2a3cef153ec5"
      },
      "source": [
        "# True if two arrays have the same shape and elements, False otherwise.\n",
        "np.array_equal(a,b)"
      ],
      "execution_count": 80,
      "outputs": [
        {
          "output_type": "execute_result",
          "data": {
            "text/plain": [
              "False"
            ]
          },
          "metadata": {
            "tags": []
          },
          "execution_count": 80
        }
      ]
    },
    {
      "cell_type": "code",
      "metadata": {
        "colab": {
          "base_uri": "https://localhost:8080/"
        },
        "id": "Q5BRMoesFojW",
        "outputId": "7e013826-1766-42cf-b9b6-f73e325e9577"
      },
      "source": [
        "np.logical_or(a,b)"
      ],
      "execution_count": 81,
      "outputs": [
        {
          "output_type": "execute_result",
          "data": {
            "text/plain": [
              "array([ True,  True,  True,  True,  True,  True,  True,  True,  True,\n",
              "        True])"
            ]
          },
          "metadata": {
            "tags": []
          },
          "execution_count": 81
        }
      ]
    },
    {
      "cell_type": "code",
      "metadata": {
        "colab": {
          "base_uri": "https://localhost:8080/"
        },
        "id": "epImtpdvFojW",
        "outputId": "8a1934d5-0902-4179-b141-7566e4041b6a"
      },
      "source": [
        "np.logical_and(a,b)"
      ],
      "execution_count": 82,
      "outputs": [
        {
          "output_type": "execute_result",
          "data": {
            "text/plain": [
              "array([False,  True,  True,  True,  True,  True,  True,  True,  True,\n",
              "        True])"
            ]
          },
          "metadata": {
            "tags": []
          },
          "execution_count": 82
        }
      ]
    },
    {
      "cell_type": "code",
      "metadata": {
        "colab": {
          "base_uri": "https://localhost:8080/"
        },
        "id": "RnLBwh_jFojW",
        "outputId": "d0bd943a-353d-4001-a59d-32ce8279407e"
      },
      "source": [
        "# returns sum of the given array\n",
        "np.sum(a)"
      ],
      "execution_count": 84,
      "outputs": [
        {
          "output_type": "execute_result",
          "data": {
            "text/plain": [
              "45"
            ]
          },
          "metadata": {
            "tags": []
          },
          "execution_count": 84
        }
      ]
    },
    {
      "cell_type": "code",
      "metadata": {
        "colab": {
          "base_uri": "https://localhost:8080/"
        },
        "id": "wbGrqOJ1FojX",
        "outputId": "0d0c2742-5537-4c60-d903-5a7ffef1b990"
      },
      "source": [
        "a.sum()"
      ],
      "execution_count": 85,
      "outputs": [
        {
          "output_type": "execute_result",
          "data": {
            "text/plain": [
              "45"
            ]
          },
          "metadata": {
            "tags": []
          },
          "execution_count": 85
        }
      ]
    },
    {
      "cell_type": "code",
      "metadata": {
        "colab": {
          "base_uri": "https://localhost:8080/"
        },
        "id": "50iWIypBFojX",
        "outputId": "63bc19b5-2436-4e24-ace4-6a7eab5c225d"
      },
      "source": [
        "a.min()"
      ],
      "execution_count": 86,
      "outputs": [
        {
          "output_type": "execute_result",
          "data": {
            "text/plain": [
              "0"
            ]
          },
          "metadata": {
            "tags": []
          },
          "execution_count": 86
        }
      ]
    },
    {
      "cell_type": "code",
      "metadata": {
        "colab": {
          "base_uri": "https://localhost:8080/"
        },
        "id": "5bs0eftmFojX",
        "outputId": "b810f210-e8a3-4484-c1c7-8b4b2109948a"
      },
      "source": [
        "a.max()"
      ],
      "execution_count": 87,
      "outputs": [
        {
          "output_type": "execute_result",
          "data": {
            "text/plain": [
              "9"
            ]
          },
          "metadata": {
            "tags": []
          },
          "execution_count": 87
        }
      ]
    },
    {
      "cell_type": "code",
      "metadata": {
        "colab": {
          "base_uri": "https://localhost:8080/"
        },
        "id": "E5BPuaXmFojX",
        "outputId": "c83f52e5-8d93-4b21-9e3a-fa14b89cbb94"
      },
      "source": [
        "np.max(a)"
      ],
      "execution_count": 88,
      "outputs": [
        {
          "output_type": "execute_result",
          "data": {
            "text/plain": [
              "9"
            ]
          },
          "metadata": {
            "tags": []
          },
          "execution_count": 88
        }
      ]
    },
    {
      "cell_type": "code",
      "metadata": {
        "colab": {
          "base_uri": "https://localhost:8080/"
        },
        "id": "X5FyG19eFojX",
        "outputId": "daf989f6-e68e-4831-a4d5-7095bf763576"
      },
      "source": [
        "np.min(a)"
      ],
      "execution_count": 89,
      "outputs": [
        {
          "output_type": "execute_result",
          "data": {
            "text/plain": [
              "0"
            ]
          },
          "metadata": {
            "tags": []
          },
          "execution_count": 89
        }
      ]
    },
    {
      "cell_type": "code",
      "metadata": {
        "colab": {
          "base_uri": "https://localhost:8080/"
        },
        "id": "j190tEjrFojY",
        "outputId": "b69e65dd-70a7-421a-b742-22fb481468f7"
      },
      "source": [
        "# gives out the index of the element which has max value\n",
        "print(np.argmax(a))\n",
        "print(np.max(a))\n",
        "print(a)"
      ],
      "execution_count": 91,
      "outputs": [
        {
          "output_type": "stream",
          "text": [
            "9\n",
            "9\n",
            "[0 1 2 3 4 5 6 7 8 9]\n"
          ],
          "name": "stdout"
        }
      ]
    },
    {
      "cell_type": "code",
      "metadata": {
        "colab": {
          "base_uri": "https://localhost:8080/"
        },
        "id": "qNzYResOFojY",
        "outputId": "0e119899-dd7d-4d31-9ce6-dc640d60caff"
      },
      "source": [
        "# gives out the index of the element with minimum value\n",
        "print(np.argmin(a))\n",
        "print(np.min(a))\n",
        "print(a)"
      ],
      "execution_count": 92,
      "outputs": [
        {
          "output_type": "stream",
          "text": [
            "0\n",
            "0\n",
            "[0 1 2 3 4 5 6 7 8 9]\n"
          ],
          "name": "stdout"
        }
      ]
    },
    {
      "cell_type": "code",
      "metadata": {
        "colab": {
          "base_uri": "https://localhost:8080/"
        },
        "id": "vtmOkkJXFojY",
        "outputId": "45ef43b5-2912-4744-9ad4-ad21e6bba7b0"
      },
      "source": [
        "# returns True only if all values are True\n",
        "np.all([True, True])"
      ],
      "execution_count": 94,
      "outputs": [
        {
          "output_type": "execute_result",
          "data": {
            "text/plain": [
              "True"
            ]
          },
          "metadata": {
            "tags": []
          },
          "execution_count": 94
        }
      ]
    },
    {
      "cell_type": "code",
      "metadata": {
        "colab": {
          "base_uri": "https://localhost:8080/"
        },
        "id": "ZEX2hOgdFojY",
        "outputId": "3ed256dd-47b3-4136-bf86-11d01e02eb83"
      },
      "source": [
        "np.all([False, True])"
      ],
      "execution_count": 96,
      "outputs": [
        {
          "output_type": "execute_result",
          "data": {
            "text/plain": [
              "False"
            ]
          },
          "metadata": {
            "tags": []
          },
          "execution_count": 96
        }
      ]
    },
    {
      "cell_type": "code",
      "metadata": {
        "colab": {
          "base_uri": "https://localhost:8080/"
        },
        "id": "WfBYx6PAFojY",
        "outputId": "ae10180f-d470-4cd0-95c2-235d85cb7e23"
      },
      "source": [
        "np.any([True, False])"
      ],
      "execution_count": 97,
      "outputs": [
        {
          "output_type": "execute_result",
          "data": {
            "text/plain": [
              "True"
            ]
          },
          "metadata": {
            "tags": []
          },
          "execution_count": 97
        }
      ]
    },
    {
      "cell_type": "code",
      "metadata": {
        "colab": {
          "base_uri": "https://localhost:8080/"
        },
        "id": "u8Kfk_U1FojZ",
        "outputId": "cdf4dc2b-4e7f-4457-9d59-b0c36a697fde"
      },
      "source": [
        "np.any([False, False])"
      ],
      "execution_count": 98,
      "outputs": [
        {
          "output_type": "execute_result",
          "data": {
            "text/plain": [
              "False"
            ]
          },
          "metadata": {
            "tags": []
          },
          "execution_count": 98
        }
      ]
    },
    {
      "cell_type": "code",
      "metadata": {
        "colab": {
          "base_uri": "https://localhost:8080/"
        },
        "id": "GeKzH4qCFojZ",
        "outputId": "7a9edc65-cc83-41ce-a254-9b6d2977850a"
      },
      "source": [
        "# mean of the given array\n",
        "np.mean(a)"
      ],
      "execution_count": 99,
      "outputs": [
        {
          "output_type": "execute_result",
          "data": {
            "text/plain": [
              "4.5"
            ]
          },
          "metadata": {
            "tags": []
          },
          "execution_count": 99
        }
      ]
    },
    {
      "cell_type": "code",
      "metadata": {
        "colab": {
          "base_uri": "https://localhost:8080/"
        },
        "id": "SIenIe7dFojZ",
        "outputId": "8a07f6c7-98a6-4ca0-cb85-fae8aed7724b"
      },
      "source": [
        "# median of the given array\n",
        "np.median(a)"
      ],
      "execution_count": 100,
      "outputs": [
        {
          "output_type": "execute_result",
          "data": {
            "text/plain": [
              "4.5"
            ]
          },
          "metadata": {
            "tags": []
          },
          "execution_count": 100
        }
      ]
    },
    {
      "cell_type": "code",
      "metadata": {
        "colab": {
          "base_uri": "https://localhost:8080/"
        },
        "id": "4GVnCTAbFojZ",
        "outputId": "184b8461-995d-4429-dfd8-0a05b080e1cd"
      },
      "source": [
        "# standard-deviation of the given array\n",
        "np.std(a)"
      ],
      "execution_count": 101,
      "outputs": [
        {
          "output_type": "execute_result",
          "data": {
            "text/plain": [
              "2.8722813232690143"
            ]
          },
          "metadata": {
            "tags": []
          },
          "execution_count": 101
        }
      ]
    },
    {
      "cell_type": "code",
      "metadata": {
        "colab": {
          "base_uri": "https://localhost:8080/"
        },
        "id": "gZ6rcmbGFoja",
        "outputId": "4bc6c6d9-2dc9-4d45-f03c-613776a7a50c"
      },
      "source": [
        "a = np.array([[1,2,3],[4,5,6]])\n",
        "a"
      ],
      "execution_count": 102,
      "outputs": [
        {
          "output_type": "execute_result",
          "data": {
            "text/plain": [
              "array([[1, 2, 3],\n",
              "       [4, 5, 6]])"
            ]
          },
          "metadata": {
            "tags": []
          },
          "execution_count": 102
        }
      ]
    },
    {
      "cell_type": "code",
      "metadata": {
        "colab": {
          "base_uri": "https://localhost:8080/"
        },
        "id": "uD7V0IM4Foja",
        "outputId": "c1a0f6d0-b37e-4acc-e15a-8f2f4dd23e0b"
      },
      "source": [
        "# transpose of the given array\n",
        "a.T"
      ],
      "execution_count": 103,
      "outputs": [
        {
          "output_type": "execute_result",
          "data": {
            "text/plain": [
              "array([[1, 4],\n",
              "       [2, 5],\n",
              "       [3, 6]])"
            ]
          },
          "metadata": {
            "tags": []
          },
          "execution_count": 103
        }
      ]
    },
    {
      "cell_type": "code",
      "metadata": {
        "colab": {
          "base_uri": "https://localhost:8080/"
        },
        "id": "CsCuZEc_Foja",
        "outputId": "c1365fff-f484-46a0-d3a4-5dd102928cc5"
      },
      "source": [
        "b"
      ],
      "execution_count": 104,
      "outputs": [
        {
          "output_type": "execute_result",
          "data": {
            "text/plain": [
              "array([1., 1., 1., 1., 1., 1., 1., 1., 1., 1.])"
            ]
          },
          "metadata": {
            "tags": []
          },
          "execution_count": 104
        }
      ]
    },
    {
      "cell_type": "code",
      "metadata": {
        "colab": {
          "base_uri": "https://localhost:8080/"
        },
        "id": "yJTUpnp2Foja",
        "outputId": "5098985c-8043-4574-cb9d-75215acd1338"
      },
      "source": [
        "a = np.array([1,2,3])\n",
        "a"
      ],
      "execution_count": 105,
      "outputs": [
        {
          "output_type": "execute_result",
          "data": {
            "text/plain": [
              "array([1, 2, 3])"
            ]
          },
          "metadata": {
            "tags": []
          },
          "execution_count": 105
        }
      ]
    },
    {
      "cell_type": "code",
      "metadata": {
        "colab": {
          "base_uri": "https://localhost:8080/"
        },
        "id": "h-hQf7bSFoja",
        "outputId": "eb28af96-04a4-42a7-df45-60bd24e24067"
      },
      "source": [
        "# numpy.tile(A, reps)\n",
        "# Construct an array by repeating A the number of times given by reps.\n",
        "\n",
        "np.tile(a,(3,1))"
      ],
      "execution_count": 107,
      "outputs": [
        {
          "output_type": "execute_result",
          "data": {
            "text/plain": [
              "array([[1, 2, 3],\n",
              "       [1, 2, 3],\n",
              "       [1, 2, 3]])"
            ]
          },
          "metadata": {
            "tags": []
          },
          "execution_count": 107
        }
      ]
    },
    {
      "cell_type": "code",
      "metadata": {
        "colab": {
          "base_uri": "https://localhost:8080/"
        },
        "id": "iR80UKoUFojb",
        "outputId": "984cde87-f272-4656-95f8-538db464b86c"
      },
      "source": [
        "# 3 indicates the rows, 2 indicates the repititions, column wise\n",
        "np.tile(a,(3,2))"
      ],
      "execution_count": 109,
      "outputs": [
        {
          "output_type": "execute_result",
          "data": {
            "text/plain": [
              "array([[1, 2, 3, 1, 2, 3],\n",
              "       [1, 2, 3, 1, 2, 3],\n",
              "       [1, 2, 3, 1, 2, 3]])"
            ]
          },
          "metadata": {
            "tags": []
          },
          "execution_count": 109
        }
      ]
    },
    {
      "cell_type": "code",
      "metadata": {
        "colab": {
          "base_uri": "https://localhost:8080/"
        },
        "id": "RQqcmVNiFojb",
        "outputId": "ca9a31df-30a1-40ed-dd03-244a4cd2a6ab"
      },
      "source": [
        "print(a)"
      ],
      "execution_count": 110,
      "outputs": [
        {
          "output_type": "stream",
          "text": [
            "[1 2 3]\n"
          ],
          "name": "stdout"
        }
      ]
    },
    {
      "cell_type": "code",
      "metadata": {
        "colab": {
          "base_uri": "https://localhost:8080/"
        },
        "id": "etKXSwzCFojb",
        "outputId": "60f41979-9eba-4cb5-b1c8-3f5a0c5e2636"
      },
      "source": [
        "print(a.shape)"
      ],
      "execution_count": 111,
      "outputs": [
        {
          "output_type": "stream",
          "text": [
            "(3,)\n"
          ],
          "name": "stdout"
        }
      ]
    },
    {
      "cell_type": "code",
      "metadata": {
        "colab": {
          "base_uri": "https://localhost:8080/"
        },
        "id": "QU4-hmi3Fojb",
        "outputId": "21606cef-c6ad-429b-a79c-aa67f1c2cbfb"
      },
      "source": [
        "a = a.reshape(3,1)\n",
        "# a = a[:, np.newaxis]\n",
        "print(a.shape)"
      ],
      "execution_count": 113,
      "outputs": [
        {
          "output_type": "stream",
          "text": [
            "(3, 1)\n"
          ],
          "name": "stdout"
        }
      ]
    },
    {
      "cell_type": "code",
      "metadata": {
        "colab": {
          "base_uri": "https://localhost:8080/"
        },
        "id": "R0z6OF62Fojb",
        "outputId": "31378423-a771-4565-be24-7e64e898928d"
      },
      "source": [
        "print(a)"
      ],
      "execution_count": 114,
      "outputs": [
        {
          "output_type": "stream",
          "text": [
            "[[1]\n",
            " [2]\n",
            " [3]]\n"
          ],
          "name": "stdout"
        }
      ]
    },
    {
      "cell_type": "code",
      "metadata": {
        "colab": {
          "base_uri": "https://localhost:8080/"
        },
        "id": "2_UZ3Fi_Fojc",
        "outputId": "83e6ac58-8944-48ee-96a8-6f5caa774da7"
      },
      "source": [
        "a = np.array([[1,2,3],[4,5,6]])\n",
        "a"
      ],
      "execution_count": 115,
      "outputs": [
        {
          "output_type": "execute_result",
          "data": {
            "text/plain": [
              "array([[1, 2, 3],\n",
              "       [4, 5, 6]])"
            ]
          },
          "metadata": {
            "tags": []
          },
          "execution_count": 115
        }
      ]
    },
    {
      "cell_type": "code",
      "metadata": {
        "colab": {
          "base_uri": "https://localhost:8080/"
        },
        "id": "oOiidWZAFojc",
        "outputId": "f7ebfd61-15c0-45e0-a107-e87b9af5002d"
      },
      "source": [
        "# Return a contiguous flattened array.\n",
        "print(a.ravel())"
      ],
      "execution_count": 118,
      "outputs": [
        {
          "output_type": "stream",
          "text": [
            "[1 2 3 4 5 6]\n"
          ],
          "name": "stdout"
        }
      ]
    },
    {
      "cell_type": "code",
      "metadata": {
        "colab": {
          "base_uri": "https://localhost:8080/"
        },
        "id": "WNSXqKmSFojc",
        "outputId": "55c349e2-06ff-4e4d-905f-10512deba332"
      },
      "source": [
        "print(a.T)"
      ],
      "execution_count": 117,
      "outputs": [
        {
          "output_type": "stream",
          "text": [
            "[[1 4]\n",
            " [2 5]\n",
            " [3 6]]\n"
          ],
          "name": "stdout"
        }
      ]
    },
    {
      "cell_type": "code",
      "metadata": {
        "colab": {
          "base_uri": "https://localhost:8080/"
        },
        "id": "pL3WpNbbFojc",
        "outputId": "33c6022e-fc26-4552-c453-4a66c24ee231"
      },
      "source": [
        "a.T.ravel()"
      ],
      "execution_count": 119,
      "outputs": [
        {
          "output_type": "execute_result",
          "data": {
            "text/plain": [
              "array([1, 4, 2, 5, 3, 6])"
            ]
          },
          "metadata": {
            "tags": []
          },
          "execution_count": 119
        }
      ]
    },
    {
      "cell_type": "code",
      "metadata": {
        "colab": {
          "base_uri": "https://localhost:8080/"
        },
        "id": "Gx0T-SWbFojc",
        "outputId": "0f928e2c-2838-4bb8-89bb-56879d97768d"
      },
      "source": [
        "a"
      ],
      "execution_count": 120,
      "outputs": [
        {
          "output_type": "execute_result",
          "data": {
            "text/plain": [
              "array([[1, 2, 3],\n",
              "       [4, 5, 6]])"
            ]
          },
          "metadata": {
            "tags": []
          },
          "execution_count": 120
        }
      ]
    },
    {
      "cell_type": "code",
      "metadata": {
        "colab": {
          "base_uri": "https://localhost:8080/"
        },
        "id": "gFYccck6Fojd",
        "outputId": "ddfcb293-6ea2-4a33-8cb7-6034f432e337"
      },
      "source": [
        "a.reshape(3,2)"
      ],
      "execution_count": 121,
      "outputs": [
        {
          "output_type": "execute_result",
          "data": {
            "text/plain": [
              "array([[1, 2],\n",
              "       [3, 4],\n",
              "       [5, 6]])"
            ]
          },
          "metadata": {
            "tags": []
          },
          "execution_count": 121
        }
      ]
    },
    {
      "cell_type": "code",
      "metadata": {
        "colab": {
          "base_uri": "https://localhost:8080/"
        },
        "id": "FM_u7yEdFojd",
        "outputId": "21585184-db50-49c0-e54a-dd5387294220"
      },
      "source": [
        "a"
      ],
      "execution_count": 122,
      "outputs": [
        {
          "output_type": "execute_result",
          "data": {
            "text/plain": [
              "array([[1, 2, 3],\n",
              "       [4, 5, 6]])"
            ]
          },
          "metadata": {
            "tags": []
          },
          "execution_count": 122
        }
      ]
    },
    {
      "cell_type": "code",
      "metadata": {
        "colab": {
          "base_uri": "https://localhost:8080/"
        },
        "id": "leQpX2drFojd",
        "outputId": "c0888879-dd7f-4a91-818b-eb3b08e4d941"
      },
      "source": [
        "# sort the given array\n",
        "np.sort(a)"
      ],
      "execution_count": 123,
      "outputs": [
        {
          "output_type": "execute_result",
          "data": {
            "text/plain": [
              "array([[1, 2, 3],\n",
              "       [4, 5, 6]])"
            ]
          },
          "metadata": {
            "tags": []
          },
          "execution_count": 123
        }
      ]
    },
    {
      "cell_type": "code",
      "metadata": {
        "colab": {
          "base_uri": "https://localhost:8080/"
        },
        "id": "C69NgdtsFoje",
        "outputId": "ca3b0bc0-8832-4115-bed5-d6d31f4964eb"
      },
      "source": [
        "a = np.array([4,2,3,1])\n",
        "a"
      ],
      "execution_count": 124,
      "outputs": [
        {
          "output_type": "execute_result",
          "data": {
            "text/plain": [
              "array([4, 2, 3, 1])"
            ]
          },
          "metadata": {
            "tags": []
          },
          "execution_count": 124
        }
      ]
    },
    {
      "cell_type": "code",
      "metadata": {
        "colab": {
          "base_uri": "https://localhost:8080/"
        },
        "id": "umA-itw1Foje",
        "outputId": "82784f1c-d51d-43fa-d831-3cfb696e1fab"
      },
      "source": [
        "np.sort(a)"
      ],
      "execution_count": 125,
      "outputs": [
        {
          "output_type": "execute_result",
          "data": {
            "text/plain": [
              "array([1, 2, 3, 4])"
            ]
          },
          "metadata": {
            "tags": []
          },
          "execution_count": 125
        }
      ]
    },
    {
      "cell_type": "markdown",
      "metadata": {
        "id": "sBUGaP5HFoje"
      },
      "source": [
        "### random"
      ]
    },
    {
      "cell_type": "code",
      "metadata": {
        "colab": {
          "base_uri": "https://localhost:8080/"
        },
        "id": "zZXdCuk4Foje",
        "outputId": "32912c28-903b-436d-a2ec-8d94ada1f0a1"
      },
      "source": [
        "# uniform distribution\n",
        "np.random.rand()"
      ],
      "execution_count": 139,
      "outputs": [
        {
          "output_type": "execute_result",
          "data": {
            "text/plain": [
              "0.9717120953891037"
            ]
          },
          "metadata": {
            "tags": []
          },
          "execution_count": 139
        }
      ]
    },
    {
      "cell_type": "code",
      "metadata": {
        "colab": {
          "base_uri": "https://localhost:8080/"
        },
        "id": "XBwMIhcGFoje",
        "outputId": "43d0e536-60c8-4fac-d241-4d8f0da45d06"
      },
      "source": [
        "np.random.rand(5)"
      ],
      "execution_count": 140,
      "outputs": [
        {
          "output_type": "execute_result",
          "data": {
            "text/plain": [
              "array([0.84891382, 0.72172952, 0.23598492, 0.25606832, 0.04043359])"
            ]
          },
          "metadata": {
            "tags": []
          },
          "execution_count": 140
        }
      ]
    },
    {
      "cell_type": "code",
      "metadata": {
        "colab": {
          "base_uri": "https://localhost:8080/"
        },
        "id": "5NE79xBtFojf",
        "outputId": "e2c1c889-074e-4bb6-d379-6b14f0010d4a"
      },
      "source": [
        "np.random.rand(5,5)"
      ],
      "execution_count": 141,
      "outputs": [
        {
          "output_type": "execute_result",
          "data": {
            "text/plain": [
              "array([[0.71066289, 0.11089082, 0.4393365 , 0.2017192 , 0.8957636 ],\n",
              "       [0.47537022, 0.56327557, 0.69551609, 0.13933145, 0.60441738],\n",
              "       [0.53984109, 0.20306122, 0.94285357, 0.59886547, 0.69478493],\n",
              "       [0.88046784, 0.62435405, 0.29563369, 0.10549426, 0.45653457],\n",
              "       [0.21844044, 0.41650995, 0.88328026, 0.32434502, 0.12208795]])"
            ]
          },
          "metadata": {
            "tags": []
          },
          "execution_count": 141
        }
      ]
    },
    {
      "cell_type": "code",
      "metadata": {
        "colab": {
          "base_uri": "https://localhost:8080/"
        },
        "id": "gH1QmkBXFojf",
        "outputId": "2f7e9c45-1afc-4ce5-fb59-a766dba388dc"
      },
      "source": [
        "# guassian or normal distribution\n",
        "np.random.randn()"
      ],
      "execution_count": 142,
      "outputs": [
        {
          "output_type": "execute_result",
          "data": {
            "text/plain": [
              "1.0996469757848204"
            ]
          },
          "metadata": {
            "tags": []
          },
          "execution_count": 142
        }
      ]
    },
    {
      "cell_type": "code",
      "metadata": {
        "colab": {
          "base_uri": "https://localhost:8080/"
        },
        "id": "hKDX9ax0Fojf",
        "outputId": "f8df1311-a764-49b5-c5af-f0337ba6f4bc"
      },
      "source": [
        "np.random.randn(5)"
      ],
      "execution_count": 143,
      "outputs": [
        {
          "output_type": "execute_result",
          "data": {
            "text/plain": [
              "array([ 0.72408325, -0.25576464,  0.8499212 , -1.31132423, -0.87030495])"
            ]
          },
          "metadata": {
            "tags": []
          },
          "execution_count": 143
        }
      ]
    },
    {
      "cell_type": "code",
      "metadata": {
        "colab": {
          "base_uri": "https://localhost:8080/"
        },
        "id": "N3U4Qg8hFojf",
        "outputId": "de4f0422-a0cb-4b59-d325-8a59dd4507dc"
      },
      "source": [
        "np.random.randn(5,5)"
      ],
      "execution_count": 144,
      "outputs": [
        {
          "output_type": "execute_result",
          "data": {
            "text/plain": [
              "array([[-0.50664322, -1.30995069,  2.94366342, -1.0962658 ,  0.91488432],\n",
              "       [-0.66606062, -0.51378749,  0.3013228 , -1.45851692, -0.66273831],\n",
              "       [-0.14647281, -0.84601702, -0.82248937,  1.08672702,  1.00498688],\n",
              "       [-0.44176602, -0.08416509,  1.23701607, -1.42647888,  0.33802266],\n",
              "       [ 1.9745712 ,  1.96503476, -1.93991122, -0.76262696,  0.16865939]])"
            ]
          },
          "metadata": {
            "tags": []
          },
          "execution_count": 144
        }
      ]
    },
    {
      "cell_type": "code",
      "metadata": {
        "colab": {
          "base_uri": "https://localhost:8080/"
        },
        "id": "kQuX0GFcFojg",
        "outputId": "7d5622f9-3c46-4cca-ca0c-9b7dc6dd386a"
      },
      "source": [
        "np.random.randint(1,10)"
      ],
      "execution_count": 145,
      "outputs": [
        {
          "output_type": "execute_result",
          "data": {
            "text/plain": [
              "8"
            ]
          },
          "metadata": {
            "tags": []
          },
          "execution_count": 145
        }
      ]
    },
    {
      "cell_type": "code",
      "metadata": {
        "colab": {
          "base_uri": "https://localhost:8080/"
        },
        "id": "tucVSMN8Fojg",
        "outputId": "77c0b878-1a9d-4ce5-982f-91adf9ffdadd"
      },
      "source": [
        "np.random.randint(1,10,10)"
      ],
      "execution_count": 146,
      "outputs": [
        {
          "output_type": "execute_result",
          "data": {
            "text/plain": [
              "array([1, 6, 8, 5, 4, 2, 6, 6, 1, 9])"
            ]
          },
          "metadata": {
            "tags": []
          },
          "execution_count": 146
        }
      ]
    },
    {
      "cell_type": "code",
      "metadata": {
        "colab": {
          "base_uri": "https://localhost:8080/"
        },
        "id": "xY5K6ZwBFojg",
        "outputId": "40dbb283-25ee-49e4-a50c-5ef4b3648fe2"
      },
      "source": [
        "np.arange(25).reshape(5,5)"
      ],
      "execution_count": 147,
      "outputs": [
        {
          "output_type": "execute_result",
          "data": {
            "text/plain": [
              "array([[ 0,  1,  2,  3,  4],\n",
              "       [ 5,  6,  7,  8,  9],\n",
              "       [10, 11, 12, 13, 14],\n",
              "       [15, 16, 17, 18, 19],\n",
              "       [20, 21, 22, 23, 24]])"
            ]
          },
          "metadata": {
            "tags": []
          },
          "execution_count": 147
        }
      ]
    },
    {
      "cell_type": "code",
      "metadata": {
        "colab": {
          "base_uri": "https://localhost:8080/"
        },
        "id": "S1tjXjCMFojg",
        "outputId": "7e63008f-ce20-4d5a-9fbf-c7e8fd93529e"
      },
      "source": [
        "arr = np.arange(25).reshape(5,5)\n",
        "arr"
      ],
      "execution_count": 148,
      "outputs": [
        {
          "output_type": "execute_result",
          "data": {
            "text/plain": [
              "array([[ 0,  1,  2,  3,  4],\n",
              "       [ 5,  6,  7,  8,  9],\n",
              "       [10, 11, 12, 13, 14],\n",
              "       [15, 16, 17, 18, 19],\n",
              "       [20, 21, 22, 23, 24]])"
            ]
          },
          "metadata": {
            "tags": []
          },
          "execution_count": 148
        }
      ]
    },
    {
      "cell_type": "code",
      "metadata": {
        "colab": {
          "base_uri": "https://localhost:8080/"
        },
        "id": "9Abs4RAWFojg",
        "outputId": "032728fc-2359-42b6-88da-fcb2d1faf884"
      },
      "source": [
        "# element at row 1 and column 0\n",
        "arr[1,0]"
      ],
      "execution_count": 149,
      "outputs": [
        {
          "output_type": "execute_result",
          "data": {
            "text/plain": [
              "5"
            ]
          },
          "metadata": {
            "tags": []
          },
          "execution_count": 149
        }
      ]
    },
    {
      "cell_type": "code",
      "metadata": {
        "colab": {
          "base_uri": "https://localhost:8080/"
        },
        "id": "U0arpIzEFojh",
        "outputId": "0ad28c10-14ae-4478-86af-c05c86725687"
      },
      "source": [
        "# element at row 1 and column 0\n",
        "arr[1][0]"
      ],
      "execution_count": 150,
      "outputs": [
        {
          "output_type": "execute_result",
          "data": {
            "text/plain": [
              "5"
            ]
          },
          "metadata": {
            "tags": []
          },
          "execution_count": 150
        }
      ]
    },
    {
      "cell_type": "code",
      "metadata": {
        "colab": {
          "base_uri": "https://localhost:8080/"
        },
        "id": "tVlS4bpoFojh",
        "outputId": "90292e2c-4301-4307-d62a-01865fcd167d"
      },
      "source": [
        "arr[-1,-1]"
      ],
      "execution_count": 151,
      "outputs": [
        {
          "output_type": "execute_result",
          "data": {
            "text/plain": [
              "24"
            ]
          },
          "metadata": {
            "tags": []
          },
          "execution_count": 151
        }
      ]
    },
    {
      "cell_type": "code",
      "metadata": {
        "id": "IMyPvUR5Fojh"
      },
      "source": [
        "  "
      ],
      "execution_count": 151,
      "outputs": []
    }
  ]
}