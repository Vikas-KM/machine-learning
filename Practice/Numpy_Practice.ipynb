{
  "nbformat": 4,
  "nbformat_minor": 0,
  "metadata": {
    "kernelspec": {
      "display_name": "Python 3",
      "language": "python",
      "name": "python3"
    },
    "language_info": {
      "codemirror_mode": {
        "name": "ipython",
        "version": 3
      },
      "file_extension": ".py",
      "mimetype": "text/x-python",
      "name": "python",
      "nbconvert_exporter": "python",
      "pygments_lexer": "ipython3",
      "version": "3.8.3-final"
    },
    "colab": {
      "name": "Numpy_Practice.ipynb",
      "provenance": [],
      "include_colab_link": true
    }
  },
  "cells": [
    {
      "cell_type": "markdown",
      "metadata": {
        "id": "view-in-github",
        "colab_type": "text"
      },
      "source": [
        "<a href=\"https://colab.research.google.com/github/Vikas-KM/machine-learning/blob/master/Practice/Numpy_Practice.ipynb\" target=\"_parent\"><img src=\"https://colab.research.google.com/assets/colab-badge.svg\" alt=\"Open In Colab\"/></a>"
      ]
    },
    {
      "cell_type": "markdown",
      "metadata": {
        "id": "ivOJUhCBFojB"
      },
      "source": [
        "# Numpy Tutorial\n",
        "\n",
        "- http://scipy-lectures.org/intro/numpy/array_object.html"
      ]
    },
    {
      "cell_type": "code",
      "metadata": {
        "id": "djRk93yNFojC"
      },
      "source": [
        "#importing numpy\n",
        "import numpy as np"
      ],
      "execution_count": 1,
      "outputs": []
    },
    {
      "cell_type": "code",
      "metadata": {
        "id": "sOOORooQFojE",
        "outputId": "d13858ce-ea07-4a1c-8f79-e3d60bd1136b",
        "colab": {
          "base_uri": "https://localhost:8080/"
        }
      },
      "source": [
        "# create a numpy array\n",
        "a = np.array([1,2,3,4])\n",
        "a"
      ],
      "execution_count": 2,
      "outputs": [
        {
          "output_type": "execute_result",
          "data": {
            "text/plain": [
              "array([1, 2, 3, 4])"
            ]
          },
          "metadata": {
            "tags": []
          },
          "execution_count": 2
        }
      ]
    },
    {
      "cell_type": "code",
      "metadata": {
        "tags": [],
        "id": "qVfgiQUWFojI",
        "outputId": "b9aed7f8-6746-4b10-c4a1-9e1658290abe",
        "colab": {
          "base_uri": "https://localhost:8080/"
        }
      },
      "source": [
        "print(a)"
      ],
      "execution_count": 3,
      "outputs": [
        {
          "output_type": "stream",
          "text": [
            "[1 2 3 4]\n"
          ],
          "name": "stdout"
        }
      ]
    },
    {
      "cell_type": "code",
      "metadata": {
        "id": "awhQpU1_FojI",
        "outputId": "33fe0b00-8014-4ae0-86d8-738699964d3a",
        "colab": {
          "base_uri": "https://localhost:8080/"
        }
      },
      "source": [
        "# numpy allows adding scalar to the array\n",
        "a + 1"
      ],
      "execution_count": 4,
      "outputs": [
        {
          "output_type": "execute_result",
          "data": {
            "text/plain": [
              "array([2, 3, 4, 5])"
            ]
          },
          "metadata": {
            "tags": []
          },
          "execution_count": 4
        }
      ]
    },
    {
      "cell_type": "code",
      "metadata": {
        "id": "R1C3lgfSFojI",
        "outputId": "ba286c54-c006-49f1-ea56-13f4359f9198",
        "colab": {
          "base_uri": "https://localhost:8080/"
        }
      },
      "source": [
        "a"
      ],
      "execution_count": 5,
      "outputs": [
        {
          "output_type": "execute_result",
          "data": {
            "text/plain": [
              "array([1, 2, 3, 4])"
            ]
          },
          "metadata": {
            "tags": []
          },
          "execution_count": 5
        }
      ]
    },
    {
      "cell_type": "code",
      "metadata": {
        "id": "mbiyM8BvGP5n",
        "outputId": "229e87d3-beed-417e-ad8b-f997026544b4",
        "colab": {
          "base_uri": "https://localhost:8080/"
        }
      },
      "source": [
        "print(a.data)"
      ],
      "execution_count": 6,
      "outputs": [
        {
          "output_type": "stream",
          "text": [
            "<memory at 0x7f64337acd08>\n"
          ],
          "name": "stdout"
        }
      ]
    },
    {
      "cell_type": "markdown",
      "metadata": {
        "id": "ye2pXf4AFojJ"
      },
      "source": [
        "## Numpy - memory Efficiency"
      ]
    },
    {
      "cell_type": "code",
      "metadata": {
        "tags": [],
        "id": "CDZWiiNaFojJ",
        "outputId": "a3b5cc4d-7f55-461d-facd-a20a1a807977",
        "colab": {
          "base_uri": "https://localhost:8080/"
        }
      },
      "source": [
        "L = range(1000)\n",
        "%timeit [i**2 for i in L]"
      ],
      "execution_count": 7,
      "outputs": [
        {
          "output_type": "stream",
          "text": [
            "1000 loops, best of 3: 258 µs per loop\n"
          ],
          "name": "stdout"
        }
      ]
    },
    {
      "cell_type": "code",
      "metadata": {
        "tags": [],
        "id": "eIhxeDfIFojJ",
        "outputId": "6f12e6bd-3586-4a5f-a961-0ff84efe89d1",
        "colab": {
          "base_uri": "https://localhost:8080/"
        }
      },
      "source": [
        "a = np.arange(1000)\n",
        "%timeit a**2"
      ],
      "execution_count": 8,
      "outputs": [
        {
          "output_type": "stream",
          "text": [
            "The slowest run took 36.19 times longer than the fastest. This could mean that an intermediate result is being cached.\n",
            "1000000 loops, best of 3: 1.46 µs per loop\n"
          ],
          "name": "stdout"
        }
      ]
    },
    {
      "cell_type": "markdown",
      "metadata": {
        "id": "aGbVdmgTGe8S"
      },
      "source": [
        "#### Look at the time taken, numpy is 150-200 times faster"
      ]
    },
    {
      "cell_type": "code",
      "metadata": {
        "id": "kBFpVHl9FojK",
        "outputId": "32b0c742-6042-49bf-a78f-b0923049e100",
        "colab": {
          "base_uri": "https://localhost:8080/"
        }
      },
      "source": [
        "# create a numpy array from a given range\n",
        "a = np.arange(10)\n",
        "a"
      ],
      "execution_count": 11,
      "outputs": [
        {
          "output_type": "execute_result",
          "data": {
            "text/plain": [
              "array([0, 1, 2, 3, 4, 5, 6, 7, 8, 9])"
            ]
          },
          "metadata": {
            "tags": []
          },
          "execution_count": 11
        }
      ]
    },
    {
      "cell_type": "code",
      "metadata": {
        "id": "pMZ2JS69FojK",
        "outputId": "b4a1b676-1c9f-4946-fa88-3708b9f362af",
        "colab": {
          "base_uri": "https://localhost:8080/"
        }
      },
      "source": [
        "# dimensions of the numpy array\n",
        "print(a.ndim)"
      ],
      "execution_count": 12,
      "outputs": [
        {
          "output_type": "stream",
          "text": [
            "1\n"
          ],
          "name": "stdout"
        }
      ]
    },
    {
      "cell_type": "code",
      "metadata": {
        "id": "aLPZChhMFojK",
        "outputId": "dc3ecef1-b77b-4029-d7cb-a9ac63c1c4c0",
        "colab": {
          "base_uri": "https://localhost:8080/"
        }
      },
      "source": [
        "# print the shape of the numpy array\n",
        "print(a.shape)"
      ],
      "execution_count": 13,
      "outputs": [
        {
          "output_type": "stream",
          "text": [
            "(10,)\n"
          ],
          "name": "stdout"
        }
      ]
    },
    {
      "cell_type": "code",
      "metadata": {
        "id": "RUrxHLBZFojL",
        "outputId": "44eaafec-dfbe-4b9d-b805-e0a703fb857c",
        "colab": {
          "base_uri": "https://localhost:8080/"
        }
      },
      "source": [
        "# print the size of the numpy array\n",
        "print(a.size)"
      ],
      "execution_count": 14,
      "outputs": [
        {
          "output_type": "stream",
          "text": [
            "10\n"
          ],
          "name": "stdout"
        }
      ]
    },
    {
      "cell_type": "code",
      "metadata": {
        "id": "qHvWVjIiFojL",
        "outputId": "4c365ef7-485e-4860-86ec-2d1269227561",
        "colab": {
          "base_uri": "https://localhost:8080/"
        }
      },
      "source": [
        "# what is the max value in numpy array\n",
        "print(a.max())"
      ],
      "execution_count": 15,
      "outputs": [
        {
          "output_type": "stream",
          "text": [
            "9\n"
          ],
          "name": "stdout"
        }
      ]
    },
    {
      "cell_type": "code",
      "metadata": {
        "id": "2UFnnYJKFojL",
        "outputId": "8d28400f-6ed5-4702-8892-1f4a99034dd7",
        "colab": {
          "base_uri": "https://localhost:8080/"
        }
      },
      "source": [
        "# what is the min value in numpy array\n",
        "print(a.min())"
      ],
      "execution_count": 16,
      "outputs": [
        {
          "output_type": "stream",
          "text": [
            "0\n"
          ],
          "name": "stdout"
        }
      ]
    },
    {
      "cell_type": "code",
      "metadata": {
        "id": "Lgec3R_FFojL",
        "outputId": "05030771-1133-461f-dad2-5a468f6142ab",
        "colab": {
          "base_uri": "https://localhost:8080/"
        }
      },
      "source": [
        "# print the length of the numpy array\n",
        "print(len(a))"
      ],
      "execution_count": 17,
      "outputs": [
        {
          "output_type": "stream",
          "text": [
            "10\n"
          ],
          "name": "stdout"
        }
      ]
    },
    {
      "cell_type": "markdown",
      "metadata": {
        "id": "o72iYmilFojM"
      },
      "source": [
        "## Some Nomenclature\n",
        "* 1D => Vector\n",
        "* 2D => Matrix\n",
        "* 3D => Tensor"
      ]
    },
    {
      "cell_type": "code",
      "metadata": {
        "id": "UME6sKaFFojM",
        "outputId": "5361ba18-c333-41f6-e40b-48674bb4360f",
        "colab": {
          "base_uri": "https://localhost:8080/"
        }
      },
      "source": [
        "# create a numpy array with evenly spaced values\n",
        "\n",
        "# numpy.linspace(start, stop, num=50, endpoint=True, retstep=False, dtype=None, axis=0)[source]\n",
        "# Return evenly spaced numbers over a specified interval.\n",
        "# Returns num evenly spaced samples, calculated over the interval [start, stop].\n",
        "# The endpoint of the interval can optionally be excluded.\n",
        "\n",
        "np.linspace(0,10,5)"
      ],
      "execution_count": 21,
      "outputs": [
        {
          "output_type": "execute_result",
          "data": {
            "text/plain": [
              "array([ 0. ,  2.5,  5. ,  7.5, 10. ])"
            ]
          },
          "metadata": {
            "tags": []
          },
          "execution_count": 21
        }
      ]
    },
    {
      "cell_type": "code",
      "metadata": {
        "id": "8UFBbsMvFojM",
        "outputId": "b5d224b8-8fa4-4513-83a2-2ac170223670",
        "colab": {
          "base_uri": "https://localhost:8080/"
        }
      },
      "source": [
        "# Same as above but with endpoint=False, so 10 is not considered\n",
        "np.linspace(0,10,5, endpoint=False)"
      ],
      "execution_count": 23,
      "outputs": [
        {
          "output_type": "execute_result",
          "data": {
            "text/plain": [
              "array([0., 2., 4., 6., 8.])"
            ]
          },
          "metadata": {
            "tags": []
          },
          "execution_count": 23
        }
      ]
    },
    {
      "cell_type": "code",
      "metadata": {
        "id": "AoLcspEvFojM",
        "outputId": "00278afb-e77c-4796-deba-78e66112b8b9",
        "colab": {
          "base_uri": "https://localhost:8080/"
        }
      },
      "source": [
        "# create a numpy array of 1's\n",
        "np.ones((2,3))"
      ],
      "execution_count": 24,
      "outputs": [
        {
          "output_type": "execute_result",
          "data": {
            "text/plain": [
              "array([[1., 1., 1.],\n",
              "       [1., 1., 1.]])"
            ]
          },
          "metadata": {
            "tags": []
          },
          "execution_count": 24
        }
      ]
    },
    {
      "cell_type": "code",
      "metadata": {
        "id": "4myBAqMmFojN",
        "outputId": "d782d595-a778-4256-983d-b9a9b567736c",
        "colab": {
          "base_uri": "https://localhost:8080/"
        }
      },
      "source": [
        "# create a numpy array of 0's\n",
        "np.zeros((3,4))"
      ],
      "execution_count": 25,
      "outputs": [
        {
          "output_type": "execute_result",
          "data": {
            "text/plain": [
              "array([[0., 0., 0., 0.],\n",
              "       [0., 0., 0., 0.],\n",
              "       [0., 0., 0., 0.]])"
            ]
          },
          "metadata": {
            "tags": []
          },
          "execution_count": 25
        }
      ]
    },
    {
      "cell_type": "code",
      "metadata": {
        "id": "Bn6BZV40FojN",
        "outputId": "d9002f09-d930-44ae-e281-e83114aacf8d",
        "colab": {
          "base_uri": "https://localhost:8080/"
        }
      },
      "source": [
        "# creates an identity vector/matrix\n",
        "np.eye(3)"
      ],
      "execution_count": 27,
      "outputs": [
        {
          "output_type": "execute_result",
          "data": {
            "text/plain": [
              "array([[1., 0., 0.],\n",
              "       [0., 1., 0.],\n",
              "       [0., 0., 1.]])"
            ]
          },
          "metadata": {
            "tags": []
          },
          "execution_count": 27
        }
      ]
    },
    {
      "cell_type": "code",
      "metadata": {
        "id": "CI9B09RQFojN",
        "outputId": "f3036cf1-0c9a-4742-b48f-04c018ff3519",
        "colab": {
          "base_uri": "https://localhost:8080/"
        }
      },
      "source": [
        "# creates an identity matrix\n",
        "np.identity(3)"
      ],
      "execution_count": 28,
      "outputs": [
        {
          "output_type": "execute_result",
          "data": {
            "text/plain": [
              "array([[1., 0., 0.],\n",
              "       [0., 1., 0.],\n",
              "       [0., 0., 1.]])"
            ]
          },
          "metadata": {
            "tags": []
          },
          "execution_count": 28
        }
      ]
    },
    {
      "cell_type": "code",
      "metadata": {
        "id": "3GN9pCqfFojN",
        "outputId": "700ecd74-a884-4d92-ee37-5de423b359a5",
        "colab": {
          "base_uri": "https://localhost:8080/"
        }
      },
      "source": [
        "# creates a matrix with the given diagonal matrix\n",
        "np.diag([1,2,3,4])"
      ],
      "execution_count": 29,
      "outputs": [
        {
          "output_type": "execute_result",
          "data": {
            "text/plain": [
              "array([[1, 0, 0, 0],\n",
              "       [0, 2, 0, 0],\n",
              "       [0, 0, 3, 0],\n",
              "       [0, 0, 0, 4]])"
            ]
          },
          "metadata": {
            "tags": []
          },
          "execution_count": 29
        }
      ]
    },
    {
      "cell_type": "code",
      "metadata": {
        "id": "o0OejvMFFojN",
        "outputId": "3e5c5e5c-30a0-412b-bd91-0988678e411a",
        "colab": {
          "base_uri": "https://localhost:8080/"
        }
      },
      "source": [
        "np.diag([1,2,3,4,5])"
      ],
      "execution_count": 30,
      "outputs": [
        {
          "output_type": "execute_result",
          "data": {
            "text/plain": [
              "array([[1, 0, 0, 0, 0],\n",
              "       [0, 2, 0, 0, 0],\n",
              "       [0, 0, 3, 0, 0],\n",
              "       [0, 0, 0, 4, 0],\n",
              "       [0, 0, 0, 0, 5]])"
            ]
          },
          "metadata": {
            "tags": []
          },
          "execution_count": 30
        }
      ]
    },
    {
      "cell_type": "code",
      "metadata": {
        "id": "2nJDkhjMFojO",
        "outputId": "691e3e9e-f4df-46db-ca1e-8e9d1c2dc35b",
        "colab": {
          "base_uri": "https://localhost:8080/"
        }
      },
      "source": [
        "# uniform distribution\n",
        "np.random.rand(3)"
      ],
      "execution_count": 32,
      "outputs": [
        {
          "output_type": "execute_result",
          "data": {
            "text/plain": [
              "array([0.56080974, 0.67919727, 0.79388296])"
            ]
          },
          "metadata": {
            "tags": []
          },
          "execution_count": 32
        }
      ]
    },
    {
      "cell_type": "code",
      "metadata": {
        "id": "yY-bW2OzFojO",
        "outputId": "7a59c519-e4bf-426b-9a53-df00a27d211f",
        "colab": {
          "base_uri": "https://localhost:8080/"
        }
      },
      "source": [
        "# gaussian/normal  distribution\n",
        "np.random.randn(3)"
      ],
      "execution_count": 31,
      "outputs": [
        {
          "output_type": "execute_result",
          "data": {
            "text/plain": [
              "array([ 0.0968228 , -0.54237605,  1.35339878])"
            ]
          },
          "metadata": {
            "tags": []
          },
          "execution_count": 31
        }
      ]
    },
    {
      "cell_type": "code",
      "metadata": {
        "id": "6xinc1BDFojO",
        "outputId": "a7d6b520-45b1-4990-aaea-64c86406df80",
        "colab": {
          "base_uri": "https://localhost:8080/"
        }
      },
      "source": [
        "# Return random integers from low (inclusive) to high (exclusive).\n",
        "np.random.randint(10)"
      ],
      "execution_count": 34,
      "outputs": [
        {
          "output_type": "execute_result",
          "data": {
            "text/plain": [
              "7"
            ]
          },
          "metadata": {
            "tags": []
          },
          "execution_count": 34
        }
      ]
    },
    {
      "cell_type": "code",
      "metadata": {
        "id": "pQtI9zbxFojO",
        "outputId": "7c8b0339-0cf2-4a24-d154-ff9f0dba155b",
        "colab": {
          "base_uri": "https://localhost:8080/"
        }
      },
      "source": [
        "np.random.randint(3,6)"
      ],
      "execution_count": 35,
      "outputs": [
        {
          "output_type": "execute_result",
          "data": {
            "text/plain": [
              "3"
            ]
          },
          "metadata": {
            "tags": []
          },
          "execution_count": 35
        }
      ]
    },
    {
      "cell_type": "code",
      "metadata": {
        "id": "86ZS82OhFojO"
      },
      "source": [
        "# This method is called when RandomState is initialized. \n",
        "# It can be called again to re-seed the generator. \n",
        "\n",
        "np.random.seed(42)"
      ],
      "execution_count": 36,
      "outputs": []
    },
    {
      "cell_type": "code",
      "metadata": {
        "id": "XsLFkqIZFojP",
        "outputId": "0fd0d902-438d-42ae-ba0e-19a88930e7c8",
        "colab": {
          "base_uri": "https://localhost:8080/"
        }
      },
      "source": [
        "# returns uninitialized numpy array\n",
        "# uninitialized as in filled with random garbage values\n",
        "\n",
        "np.empty([2,2])"
      ],
      "execution_count": 37,
      "outputs": [
        {
          "output_type": "execute_result",
          "data": {
            "text/plain": [
              "array([[4.9e-324, 9.9e-324],\n",
              "       [1.5e-323, 2.0e-323]])"
            ]
          },
          "metadata": {
            "tags": []
          },
          "execution_count": 37
        }
      ]
    },
    {
      "cell_type": "code",
      "metadata": {
        "id": "-Ej9OEKgFojP",
        "outputId": "b7d4549c-5163-4c5c-8770-e6d7768a9157",
        "colab": {
          "base_uri": "https://localhost:8080/"
        }
      },
      "source": [
        "# creation of numpy array with complex values\n",
        "a = np.array([1+2j, 3+4j])\n",
        "a"
      ],
      "execution_count": 38,
      "outputs": [
        {
          "output_type": "execute_result",
          "data": {
            "text/plain": [
              "array([1.+2.j, 3.+4.j])"
            ]
          },
          "metadata": {
            "tags": []
          },
          "execution_count": 38
        }
      ]
    },
    {
      "cell_type": "code",
      "metadata": {
        "id": "-_U-0htuFojP",
        "outputId": "ddb528b2-f581-450e-859c-cd657e71a3da",
        "colab": {
          "base_uri": "https://localhost:8080/"
        }
      },
      "source": [
        "# print the type of the numpy array\n",
        "print(a.dtype)"
      ],
      "execution_count": 39,
      "outputs": [
        {
          "output_type": "stream",
          "text": [
            "complex128\n"
          ],
          "name": "stdout"
        }
      ]
    },
    {
      "cell_type": "code",
      "metadata": {
        "id": "fGr5wHaZFojP",
        "outputId": "72c57d63-7bcd-4010-c7e8-99ce142305b3",
        "colab": {
          "base_uri": "https://localhost:8080/"
        }
      },
      "source": [
        "a = np.array([1,2,3])\n",
        "print(a.dtype)"
      ],
      "execution_count": 44,
      "outputs": [
        {
          "output_type": "stream",
          "text": [
            "int64\n"
          ],
          "name": "stdout"
        }
      ]
    },
    {
      "cell_type": "code",
      "metadata": {
        "id": "Tcr62lSGFojQ",
        "outputId": "6f165d20-7789-43fb-e59b-e1572ca9fffc",
        "colab": {
          "base_uri": "https://localhost:8080/"
        }
      },
      "source": [
        "a = np.array([1.,2.,3.])\n",
        "print(a.dtype)"
      ],
      "execution_count": 45,
      "outputs": [
        {
          "output_type": "stream",
          "text": [
            "float64\n"
          ],
          "name": "stdout"
        }
      ]
    },
    {
      "cell_type": "markdown",
      "metadata": {
        "id": "17YhR2VdKHh_"
      },
      "source": [
        "## Slicing and Indexing"
      ]
    },
    {
      "cell_type": "code",
      "metadata": {
        "id": "ZBRZIYrmFojQ",
        "outputId": "27c290c3-5703-4974-a006-86c63ab1ee1d",
        "colab": {
          "base_uri": "https://localhost:8080/"
        }
      },
      "source": [
        "# print first 10 values\n",
        "a = np.arange(25)\n",
        "print(a[:10])"
      ],
      "execution_count": 48,
      "outputs": [
        {
          "output_type": "stream",
          "text": [
            "[0 1 2 3 4 5 6 7 8 9]\n"
          ],
          "name": "stdout"
        }
      ]
    },
    {
      "cell_type": "code",
      "metadata": {
        "id": "lCiduIJLFojQ",
        "outputId": "e6c942ec-0c77-46da-8077-43010dc73fe7",
        "colab": {
          "base_uri": "https://localhost:8080/"
        }
      },
      "source": [
        "# print last 10 values\n",
        "a[-10:]"
      ],
      "execution_count": 49,
      "outputs": [
        {
          "output_type": "execute_result",
          "data": {
            "text/plain": [
              "array([15, 16, 17, 18, 19, 20, 21, 22, 23, 24])"
            ]
          },
          "metadata": {
            "tags": []
          },
          "execution_count": 49
        }
      ]
    },
    {
      "cell_type": "markdown",
      "metadata": {
        "id": "mEFic0OvFojR"
      },
      "source": [
        "## Copying Numpy Arrays"
      ]
    },
    {
      "cell_type": "code",
      "metadata": {
        "id": "DcatJgIOFojQ",
        "outputId": "51eb8492-e41c-4cad-bff5-1b6376aed906",
        "colab": {
          "base_uri": "https://localhost:8080/"
        }
      },
      "source": [
        "# copy the first 10 values of a into b\n",
        "b = a[:10]\n",
        "b"
      ],
      "execution_count": 51,
      "outputs": [
        {
          "output_type": "execute_result",
          "data": {
            "text/plain": [
              "array([0, 1, 2, 3, 4, 5, 6, 7, 8, 9])"
            ]
          },
          "metadata": {
            "tags": []
          },
          "execution_count": 51
        }
      ]
    },
    {
      "cell_type": "code",
      "metadata": {
        "id": "PTQPr_zLFojR",
        "outputId": "bad7cc21-8cdf-4be7-af01-5320362d8cd0",
        "colab": {
          "base_uri": "https://localhost:8080/"
        }
      },
      "source": [
        "# assigning like this will also change the original\n",
        "b[0]= 100\n",
        "a[:10]"
      ],
      "execution_count": 52,
      "outputs": [
        {
          "output_type": "execute_result",
          "data": {
            "text/plain": [
              "array([100,   1,   2,   3,   4,   5,   6,   7,   8,   9])"
            ]
          },
          "metadata": {
            "tags": []
          },
          "execution_count": 52
        }
      ]
    },
    {
      "cell_type": "code",
      "metadata": {
        "id": "fsxNFxfSFojR",
        "outputId": "20f2fdcd-39c8-49cd-c721-fa9e4703aab5",
        "colab": {
          "base_uri": "https://localhost:8080/"
        }
      },
      "source": [
        "c = a[:10].copy()\n",
        "c"
      ],
      "execution_count": 53,
      "outputs": [
        {
          "output_type": "execute_result",
          "data": {
            "text/plain": [
              "array([100,   1,   2,   3,   4,   5,   6,   7,   8,   9])"
            ]
          },
          "metadata": {
            "tags": []
          },
          "execution_count": 53
        }
      ]
    },
    {
      "cell_type": "code",
      "metadata": {
        "id": "51hTc_vbFojR",
        "outputId": "85ef3799-a9bc-4ed2-ce68-3c457391beaa",
        "colab": {
          "base_uri": "https://localhost:8080/"
        }
      },
      "source": [
        "c[0] = 1\n",
        "a[:10]"
      ],
      "execution_count": 54,
      "outputs": [
        {
          "output_type": "execute_result",
          "data": {
            "text/plain": [
              "array([100,   1,   2,   3,   4,   5,   6,   7,   8,   9])"
            ]
          },
          "metadata": {
            "tags": []
          },
          "execution_count": 54
        }
      ]
    },
    {
      "cell_type": "code",
      "metadata": {
        "id": "UXwt1N-BFojR",
        "outputId": "87afe4d8-54b8-4b03-b03b-8a252265ecdc",
        "colab": {
          "base_uri": "https://localhost:8080/"
        }
      },
      "source": [
        "b"
      ],
      "execution_count": 55,
      "outputs": [
        {
          "output_type": "execute_result",
          "data": {
            "text/plain": [
              "array([100,   1,   2,   3,   4,   5,   6,   7,   8,   9])"
            ]
          },
          "metadata": {
            "tags": []
          },
          "execution_count": 55
        }
      ]
    },
    {
      "cell_type": "markdown",
      "metadata": {
        "id": "2CdBlpPRKs4O"
      },
      "source": [
        "### a = b\n",
        "- it points b to the location of a\n",
        "\n",
        "### c = a.copy()\n",
        "- a is copied into c\n",
        "- here a and c are independent"
      ]
    },
    {
      "cell_type": "code",
      "metadata": {
        "id": "vQpdEM4yFojS",
        "outputId": "f7407b25-634c-4202-c477-c75af53d510b"
      },
      "source": [
        "## reversing\n",
        "b[::-1]"
      ],
      "execution_count": null,
      "outputs": [
        {
          "output_type": "execute_result",
          "data": {
            "text/plain": [
              "array([  9,   8,   7,   6,   5,   4,   3,   2,   1, 100])"
            ]
          },
          "metadata": {
            "tags": []
          },
          "execution_count": 48
        }
      ]
    },
    {
      "cell_type": "code",
      "metadata": {
        "id": "VGxRiGffFojS",
        "outputId": "28432ab8-ee59-4de2-d270-015b529a102d"
      },
      "source": [
        "a = np.array([True, False, True])\n",
        "a.dtype"
      ],
      "execution_count": null,
      "outputs": [
        {
          "output_type": "execute_result",
          "data": {
            "text/plain": [
              "dtype('bool')"
            ]
          },
          "metadata": {
            "tags": []
          },
          "execution_count": 49
        }
      ]
    },
    {
      "cell_type": "code",
      "metadata": {
        "id": "AD4o08y3FojS",
        "outputId": "f50709e5-97ed-4fa8-bf3b-edf49fc6fec6"
      },
      "source": [
        "a = np.array(['python','numpy','pandas'])\n",
        "a.dtype"
      ],
      "execution_count": null,
      "outputs": [
        {
          "output_type": "execute_result",
          "data": {
            "text/plain": [
              "dtype('<U6')"
            ]
          },
          "metadata": {
            "tags": []
          },
          "execution_count": 50
        }
      ]
    },
    {
      "cell_type": "code",
      "metadata": {
        "id": "hHWgA3XRFojS",
        "outputId": "a4548883-871a-49af-fe45-afd3da1a16ae"
      },
      "source": [
        "a = np.array(['python','numpy','pandas','scikit-learn'])\n",
        "a.dtype"
      ],
      "execution_count": null,
      "outputs": [
        {
          "output_type": "execute_result",
          "data": {
            "text/plain": [
              "dtype('<U12')"
            ]
          },
          "metadata": {
            "tags": []
          },
          "execution_count": 51
        }
      ]
    },
    {
      "cell_type": "markdown",
      "metadata": {
        "id": "DTsdSNebFojS"
      },
      "source": [
        "#### In the above the dtype responds with the largest string size"
      ]
    },
    {
      "cell_type": "code",
      "metadata": {
        "id": "Vs_c-rdvFojS",
        "outputId": "7f72fe87-e7f6-46b5-da85-e74db10ca3bc"
      },
      "source": [
        "np.diag(np.arange(5))"
      ],
      "execution_count": null,
      "outputs": [
        {
          "output_type": "execute_result",
          "data": {
            "text/plain": [
              "array([[0, 0, 0, 0, 0],\n",
              "       [0, 1, 0, 0, 0],\n",
              "       [0, 0, 2, 0, 0],\n",
              "       [0, 0, 0, 3, 0],\n",
              "       [0, 0, 0, 0, 4]])"
            ]
          },
          "metadata": {
            "tags": []
          },
          "execution_count": 52
        }
      ]
    },
    {
      "cell_type": "markdown",
      "metadata": {
        "id": "l649QPoSFojT"
      },
      "source": [
        "## Fancy Indexing\n",
        "<img src='http://scipy-lectures.org/_images/numpy_indexing.png' />"
      ]
    },
    {
      "cell_type": "code",
      "metadata": {
        "id": "-WIEIz3bFojT",
        "outputId": "84ee19c4-50f7-4a95-b701-21b0091318bc"
      },
      "source": [
        "a = np.array([1,2,3])\n",
        "b = a\n",
        "np.shares_memory(a,b)"
      ],
      "execution_count": null,
      "outputs": [
        {
          "output_type": "execute_result",
          "data": {
            "text/plain": [
              "True"
            ]
          },
          "metadata": {
            "tags": []
          },
          "execution_count": 54
        }
      ]
    },
    {
      "cell_type": "code",
      "metadata": {
        "id": "IwxgOcflFojT",
        "outputId": "2ab5db29-2bd0-41d7-fc0b-23619e436426"
      },
      "source": [
        "c = a.copy()\n",
        "np.shares_memory(a,c)"
      ],
      "execution_count": null,
      "outputs": [
        {
          "output_type": "execute_result",
          "data": {
            "text/plain": [
              "False"
            ]
          },
          "metadata": {
            "tags": []
          },
          "execution_count": 55
        }
      ]
    },
    {
      "cell_type": "code",
      "metadata": {
        "id": "EbKrLwHVFojT",
        "outputId": "d7628aba-9599-4865-9c25-3fe11325a5dc"
      },
      "source": [
        "b"
      ],
      "execution_count": null,
      "outputs": [
        {
          "output_type": "execute_result",
          "data": {
            "text/plain": [
              "array([1, 2, 3])"
            ]
          },
          "metadata": {
            "tags": []
          },
          "execution_count": 56
        }
      ]
    },
    {
      "cell_type": "code",
      "metadata": {
        "id": "YiQ5gz9oFojT",
        "outputId": "7005b5db-cc50-4129-ef12-4fe144713c2c"
      },
      "source": [
        "b[b%2 == 0]"
      ],
      "execution_count": null,
      "outputs": [
        {
          "output_type": "execute_result",
          "data": {
            "text/plain": [
              "array([2])"
            ]
          },
          "metadata": {
            "tags": []
          },
          "execution_count": 57
        }
      ]
    },
    {
      "cell_type": "code",
      "metadata": {
        "id": "OpkU7x59FojU",
        "outputId": "5bcd20a3-de62-4d31-8f1e-b6cc5a96c143"
      },
      "source": [
        "a = np.arange(10)\n",
        "a"
      ],
      "execution_count": null,
      "outputs": [
        {
          "output_type": "execute_result",
          "data": {
            "text/plain": [
              "array([0, 1, 2, 3, 4, 5, 6, 7, 8, 9])"
            ]
          },
          "metadata": {
            "tags": []
          },
          "execution_count": 58
        }
      ]
    },
    {
      "cell_type": "code",
      "metadata": {
        "id": "z9qP2NjNFojU",
        "outputId": "9bfdc521-6be7-4988-f24a-db8d3af0363e"
      },
      "source": [
        "a**2"
      ],
      "execution_count": null,
      "outputs": [
        {
          "output_type": "execute_result",
          "data": {
            "text/plain": [
              "array([ 0,  1,  4,  9, 16, 25, 36, 49, 64, 81], dtype=int32)"
            ]
          },
          "metadata": {
            "tags": []
          },
          "execution_count": 59
        }
      ]
    },
    {
      "cell_type": "code",
      "metadata": {
        "id": "E6IgTW69FojU",
        "outputId": "57f43e57-b2aa-4281-ce01-23c3a2ea641f"
      },
      "source": [
        "a**3"
      ],
      "execution_count": null,
      "outputs": [
        {
          "output_type": "execute_result",
          "data": {
            "text/plain": [
              "array([  0,   1,   8,  27,  64, 125, 216, 343, 512, 729], dtype=int32)"
            ]
          },
          "metadata": {
            "tags": []
          },
          "execution_count": 60
        }
      ]
    },
    {
      "cell_type": "code",
      "metadata": {
        "id": "_-JsW8HKFojV",
        "outputId": "e9279296-da39-4d38-d554-98984e70e2fb"
      },
      "source": [
        "b = np.ones(10)\n",
        "b"
      ],
      "execution_count": null,
      "outputs": [
        {
          "output_type": "execute_result",
          "data": {
            "text/plain": [
              "array([1., 1., 1., 1., 1., 1., 1., 1., 1., 1.])"
            ]
          },
          "metadata": {
            "tags": []
          },
          "execution_count": 61
        }
      ]
    },
    {
      "cell_type": "code",
      "metadata": {
        "id": "GfCDxMTiFojV",
        "outputId": "c9f14064-bbb7-4c8f-bd4c-3be05c8d24ab"
      },
      "source": [
        "a-b"
      ],
      "execution_count": null,
      "outputs": [
        {
          "output_type": "execute_result",
          "data": {
            "text/plain": [
              "array([-1.,  0.,  1.,  2.,  3.,  4.,  5.,  6.,  7.,  8.])"
            ]
          },
          "metadata": {
            "tags": []
          },
          "execution_count": 62
        }
      ]
    },
    {
      "cell_type": "code",
      "metadata": {
        "id": "-IxOjpocFojV",
        "outputId": "dd894c32-844b-4a58-d6b5-1220dfe957f5"
      },
      "source": [
        "a*b"
      ],
      "execution_count": null,
      "outputs": [
        {
          "output_type": "execute_result",
          "data": {
            "text/plain": [
              "array([0., 1., 2., 3., 4., 5., 6., 7., 8., 9.])"
            ]
          },
          "metadata": {
            "tags": []
          },
          "execution_count": 63
        }
      ]
    },
    {
      "cell_type": "code",
      "metadata": {
        "id": "KyzLVsX5FojV",
        "outputId": "0ef5b912-6852-4d00-b1ce-c8654af5a64c"
      },
      "source": [
        "a == b"
      ],
      "execution_count": null,
      "outputs": [
        {
          "output_type": "execute_result",
          "data": {
            "text/plain": [
              "array([False,  True, False, False, False, False, False, False, False,\n",
              "       False])"
            ]
          },
          "metadata": {
            "tags": []
          },
          "execution_count": 64
        }
      ]
    },
    {
      "cell_type": "code",
      "metadata": {
        "id": "vsUTtLEkFojW",
        "outputId": "bd02b0e9-2a27-4123-912b-291c8ab03c8a"
      },
      "source": [
        "a > b"
      ],
      "execution_count": null,
      "outputs": [
        {
          "output_type": "execute_result",
          "data": {
            "text/plain": [
              "array([False, False,  True,  True,  True,  True,  True,  True,  True,\n",
              "        True])"
            ]
          },
          "metadata": {
            "tags": []
          },
          "execution_count": 65
        }
      ]
    },
    {
      "cell_type": "code",
      "metadata": {
        "id": "BsQdGAiGFojW",
        "outputId": "d726e4cc-c9b5-48ee-b9f7-762895b6deba"
      },
      "source": [
        "np.array_equal(a,b)"
      ],
      "execution_count": null,
      "outputs": [
        {
          "output_type": "execute_result",
          "data": {
            "text/plain": [
              "False"
            ]
          },
          "metadata": {
            "tags": []
          },
          "execution_count": 66
        }
      ]
    },
    {
      "cell_type": "code",
      "metadata": {
        "id": "Q5BRMoesFojW",
        "outputId": "ec6a5507-d7d3-4e87-a078-58cf7a5fa727"
      },
      "source": [
        "np.logical_or(a,b)"
      ],
      "execution_count": null,
      "outputs": [
        {
          "output_type": "execute_result",
          "data": {
            "text/plain": [
              "array([ True,  True,  True,  True,  True,  True,  True,  True,  True,\n",
              "        True])"
            ]
          },
          "metadata": {
            "tags": []
          },
          "execution_count": 67
        }
      ]
    },
    {
      "cell_type": "code",
      "metadata": {
        "id": "epImtpdvFojW",
        "outputId": "6a0bb943-1417-4e1a-ebf9-b98f772ba56d"
      },
      "source": [
        "np.logical_and(a,b)"
      ],
      "execution_count": null,
      "outputs": [
        {
          "output_type": "execute_result",
          "data": {
            "text/plain": [
              "array([False,  True,  True,  True,  True,  True,  True,  True,  True,\n",
              "        True])"
            ]
          },
          "metadata": {
            "tags": []
          },
          "execution_count": 68
        }
      ]
    },
    {
      "cell_type": "code",
      "metadata": {
        "id": "RnLBwh_jFojW",
        "outputId": "cf89d64b-7c21-4331-e6b7-cb2bb7615c74"
      },
      "source": [
        "np.sum(a)"
      ],
      "execution_count": null,
      "outputs": [
        {
          "output_type": "execute_result",
          "data": {
            "text/plain": [
              "45"
            ]
          },
          "metadata": {
            "tags": []
          },
          "execution_count": 69
        }
      ]
    },
    {
      "cell_type": "code",
      "metadata": {
        "id": "wbGrqOJ1FojX",
        "outputId": "5ce4dedd-49c3-4ee4-8665-21f3beb8ed3d"
      },
      "source": [
        "a.sum()"
      ],
      "execution_count": null,
      "outputs": [
        {
          "output_type": "execute_result",
          "data": {
            "text/plain": [
              "45"
            ]
          },
          "metadata": {
            "tags": []
          },
          "execution_count": 70
        }
      ]
    },
    {
      "cell_type": "code",
      "metadata": {
        "id": "50iWIypBFojX",
        "outputId": "b95e251b-b302-408e-cdde-c59df3cb2017"
      },
      "source": [
        "a.min()"
      ],
      "execution_count": null,
      "outputs": [
        {
          "output_type": "execute_result",
          "data": {
            "text/plain": [
              "0"
            ]
          },
          "metadata": {
            "tags": []
          },
          "execution_count": 71
        }
      ]
    },
    {
      "cell_type": "code",
      "metadata": {
        "id": "5bs0eftmFojX",
        "outputId": "6c7b2ea6-f141-41ce-dfc1-c66f47aa66b2"
      },
      "source": [
        "a.max()"
      ],
      "execution_count": null,
      "outputs": [
        {
          "output_type": "execute_result",
          "data": {
            "text/plain": [
              "9"
            ]
          },
          "metadata": {
            "tags": []
          },
          "execution_count": 72
        }
      ]
    },
    {
      "cell_type": "code",
      "metadata": {
        "id": "E5BPuaXmFojX",
        "outputId": "67a16ba7-5bc2-49a3-b214-096c47eb3043"
      },
      "source": [
        "np.max(a)"
      ],
      "execution_count": null,
      "outputs": [
        {
          "output_type": "execute_result",
          "data": {
            "text/plain": [
              "9"
            ]
          },
          "metadata": {
            "tags": []
          },
          "execution_count": 73
        }
      ]
    },
    {
      "cell_type": "code",
      "metadata": {
        "id": "X5FyG19eFojX",
        "outputId": "a6191d53-cffe-4827-c662-b9ce8fa71e01"
      },
      "source": [
        "np.min(a)"
      ],
      "execution_count": null,
      "outputs": [
        {
          "output_type": "execute_result",
          "data": {
            "text/plain": [
              "0"
            ]
          },
          "metadata": {
            "tags": []
          },
          "execution_count": 74
        }
      ]
    },
    {
      "cell_type": "code",
      "metadata": {
        "id": "j190tEjrFojY",
        "outputId": "dd4707f7-3c7f-4e30-952e-4f840c7a55a7"
      },
      "source": [
        "# gives out the index\n",
        "np.argmax(a)"
      ],
      "execution_count": null,
      "outputs": [
        {
          "output_type": "execute_result",
          "data": {
            "text/plain": [
              "9"
            ]
          },
          "metadata": {
            "tags": []
          },
          "execution_count": 77
        }
      ]
    },
    {
      "cell_type": "code",
      "metadata": {
        "id": "qNzYResOFojY",
        "outputId": "7ead841e-df5e-421e-f11e-7dfe0c124a7e"
      },
      "source": [
        "# gives out the index\n",
        "np.argmin(a)"
      ],
      "execution_count": null,
      "outputs": [
        {
          "output_type": "execute_result",
          "data": {
            "text/plain": [
              "0"
            ]
          },
          "metadata": {
            "tags": []
          },
          "execution_count": 78
        }
      ]
    },
    {
      "cell_type": "code",
      "metadata": {
        "id": "vtmOkkJXFojY",
        "outputId": "fdf7b7a5-9471-4501-b2ff-2aa98961cad4"
      },
      "source": [
        "np.all([True, True])"
      ],
      "execution_count": null,
      "outputs": [
        {
          "output_type": "execute_result",
          "data": {
            "text/plain": [
              "True"
            ]
          },
          "metadata": {
            "tags": []
          },
          "execution_count": 79
        }
      ]
    },
    {
      "cell_type": "code",
      "metadata": {
        "id": "ZEX2hOgdFojY",
        "outputId": "8f5d6a7c-f912-4dad-85e7-9747b2a9f87f"
      },
      "source": [
        "np.all([False, True])"
      ],
      "execution_count": null,
      "outputs": [
        {
          "output_type": "execute_result",
          "data": {
            "text/plain": [
              "False"
            ]
          },
          "metadata": {
            "tags": []
          },
          "execution_count": 80
        }
      ]
    },
    {
      "cell_type": "code",
      "metadata": {
        "id": "WfBYx6PAFojY",
        "outputId": "3c358773-2b57-4d24-9f20-80b3d6382a0b"
      },
      "source": [
        "np.any([True, False])"
      ],
      "execution_count": null,
      "outputs": [
        {
          "output_type": "execute_result",
          "data": {
            "text/plain": [
              "True"
            ]
          },
          "metadata": {
            "tags": []
          },
          "execution_count": 81
        }
      ]
    },
    {
      "cell_type": "code",
      "metadata": {
        "id": "u8Kfk_U1FojZ",
        "outputId": "0178496d-9dcf-40b5-c272-2bbc4db3d4f7"
      },
      "source": [
        "np.any([False, False])"
      ],
      "execution_count": null,
      "outputs": [
        {
          "output_type": "execute_result",
          "data": {
            "text/plain": [
              "False"
            ]
          },
          "metadata": {
            "tags": []
          },
          "execution_count": 82
        }
      ]
    },
    {
      "cell_type": "code",
      "metadata": {
        "id": "GeKzH4qCFojZ",
        "outputId": "d025bfe3-233d-4da4-dfa0-e4c6d6e8054f"
      },
      "source": [
        "np.mean(a)"
      ],
      "execution_count": null,
      "outputs": [
        {
          "output_type": "execute_result",
          "data": {
            "text/plain": [
              "4.5"
            ]
          },
          "metadata": {
            "tags": []
          },
          "execution_count": 83
        }
      ]
    },
    {
      "cell_type": "code",
      "metadata": {
        "id": "SIenIe7dFojZ",
        "outputId": "00a54aef-c52c-466b-fd00-c61800416701"
      },
      "source": [
        "np.median(a)"
      ],
      "execution_count": null,
      "outputs": [
        {
          "output_type": "execute_result",
          "data": {
            "text/plain": [
              "4.5"
            ]
          },
          "metadata": {
            "tags": []
          },
          "execution_count": 84
        }
      ]
    },
    {
      "cell_type": "code",
      "metadata": {
        "id": "4GVnCTAbFojZ",
        "outputId": "5d0b79f5-8a84-41a6-880a-02f3c658869b"
      },
      "source": [
        "np.std(a)"
      ],
      "execution_count": null,
      "outputs": [
        {
          "output_type": "execute_result",
          "data": {
            "text/plain": [
              "2.8722813232690143"
            ]
          },
          "metadata": {
            "tags": []
          },
          "execution_count": 85
        }
      ]
    },
    {
      "cell_type": "code",
      "metadata": {
        "id": "gZ6rcmbGFoja",
        "outputId": "e8311e5a-0ff5-4e3c-fade-66792ad489e7"
      },
      "source": [
        "a = np.array([[1,2,3],[4,5,6]])\n",
        "a"
      ],
      "execution_count": null,
      "outputs": [
        {
          "output_type": "execute_result",
          "data": {
            "text/plain": [
              "array([[1, 2, 3],\n",
              "       [4, 5, 6]])"
            ]
          },
          "metadata": {
            "tags": []
          },
          "execution_count": 86
        }
      ]
    },
    {
      "cell_type": "code",
      "metadata": {
        "id": "uD7V0IM4Foja",
        "outputId": "65846ac2-7271-4c28-fc1f-53f911dea21e"
      },
      "source": [
        "a.T"
      ],
      "execution_count": null,
      "outputs": [
        {
          "output_type": "execute_result",
          "data": {
            "text/plain": [
              "array([[1, 4],\n",
              "       [2, 5],\n",
              "       [3, 6]])"
            ]
          },
          "metadata": {
            "tags": []
          },
          "execution_count": 87
        }
      ]
    },
    {
      "cell_type": "code",
      "metadata": {
        "id": "CsCuZEc_Foja",
        "outputId": "96c0184d-0280-487a-faa2-539d2b416183"
      },
      "source": [
        "b"
      ],
      "execution_count": null,
      "outputs": [
        {
          "output_type": "execute_result",
          "data": {
            "text/plain": [
              "array([1., 1., 1., 1., 1., 1., 1., 1., 1., 1.])"
            ]
          },
          "metadata": {
            "tags": []
          },
          "execution_count": 88
        }
      ]
    },
    {
      "cell_type": "code",
      "metadata": {
        "id": "yJTUpnp2Foja",
        "outputId": "aec02ec0-a3d6-4603-a387-822ceeb66e15"
      },
      "source": [
        "a = np.array([1,2,3])\n",
        "a"
      ],
      "execution_count": null,
      "outputs": [
        {
          "output_type": "execute_result",
          "data": {
            "text/plain": [
              "array([1, 2, 3])"
            ]
          },
          "metadata": {
            "tags": []
          },
          "execution_count": 89
        }
      ]
    },
    {
      "cell_type": "code",
      "metadata": {
        "id": "h-hQf7bSFoja",
        "outputId": "3dbf1d03-7bc3-44fd-8369-a777bfa2857a"
      },
      "source": [
        "np.tile(a,(3,1))"
      ],
      "execution_count": null,
      "outputs": [
        {
          "output_type": "execute_result",
          "data": {
            "text/plain": [
              "array([[1, 2, 3],\n",
              "       [1, 2, 3],\n",
              "       [1, 2, 3]])"
            ]
          },
          "metadata": {
            "tags": []
          },
          "execution_count": 90
        }
      ]
    },
    {
      "cell_type": "code",
      "metadata": {
        "id": "iR80UKoUFojb",
        "outputId": "34f58a91-4ade-4363-c2a8-8aaba62b10c0"
      },
      "source": [
        "# 4 indicates the rows, 2 indicates the repitition\n",
        "np.tile(a,(4,2))"
      ],
      "execution_count": null,
      "outputs": [
        {
          "output_type": "execute_result",
          "data": {
            "text/plain": [
              "array([[1, 2, 3, 1, 2, 3],\n",
              "       [1, 2, 3, 1, 2, 3],\n",
              "       [1, 2, 3, 1, 2, 3],\n",
              "       [1, 2, 3, 1, 2, 3]])"
            ]
          },
          "metadata": {
            "tags": []
          },
          "execution_count": 93
        }
      ]
    },
    {
      "cell_type": "code",
      "metadata": {
        "id": "RQqcmVNiFojb",
        "outputId": "1cb1d155-68d2-4f64-d9f5-e78800203da3"
      },
      "source": [
        "a"
      ],
      "execution_count": null,
      "outputs": [
        {
          "output_type": "execute_result",
          "data": {
            "text/plain": [
              "array([1, 2, 3])"
            ]
          },
          "metadata": {
            "tags": []
          },
          "execution_count": 94
        }
      ]
    },
    {
      "cell_type": "code",
      "metadata": {
        "id": "etKXSwzCFojb",
        "outputId": "08788ac8-83e7-4b8e-a419-91cfe179d3ff"
      },
      "source": [
        "a.shape"
      ],
      "execution_count": null,
      "outputs": [
        {
          "output_type": "execute_result",
          "data": {
            "text/plain": [
              "(3,)"
            ]
          },
          "metadata": {
            "tags": []
          },
          "execution_count": 95
        }
      ]
    },
    {
      "cell_type": "code",
      "metadata": {
        "id": "QU4-hmi3Fojb",
        "outputId": "460db6ca-d106-4dc6-b28d-37a0ff46bfba"
      },
      "source": [
        "a = a[:, np.newaxis]\n",
        "a.shape"
      ],
      "execution_count": null,
      "outputs": [
        {
          "output_type": "execute_result",
          "data": {
            "text/plain": [
              "(3, 1)"
            ]
          },
          "metadata": {
            "tags": []
          },
          "execution_count": 96
        }
      ]
    },
    {
      "cell_type": "code",
      "metadata": {
        "id": "R0z6OF62Fojb",
        "outputId": "fd64cc34-425d-4c9b-edcc-849c7eef058b"
      },
      "source": [
        "a"
      ],
      "execution_count": null,
      "outputs": [
        {
          "output_type": "execute_result",
          "data": {
            "text/plain": [
              "array([[1],\n",
              "       [2],\n",
              "       [3]])"
            ]
          },
          "metadata": {
            "tags": []
          },
          "execution_count": 97
        }
      ]
    },
    {
      "cell_type": "code",
      "metadata": {
        "id": "2_UZ3Fi_Fojc",
        "outputId": "7273864e-d3cf-4056-91bb-914f528228ac"
      },
      "source": [
        "a = np.array([[1,2,3],[4,5,6]])\n",
        "a"
      ],
      "execution_count": null,
      "outputs": [
        {
          "output_type": "execute_result",
          "data": {
            "text/plain": [
              "array([[1, 2, 3],\n",
              "       [4, 5, 6]])"
            ]
          },
          "metadata": {
            "tags": []
          },
          "execution_count": 98
        }
      ]
    },
    {
      "cell_type": "code",
      "metadata": {
        "id": "oOiidWZAFojc",
        "outputId": "8c64274d-3dd2-450e-bb5d-bede188c99fd"
      },
      "source": [
        "a.ravel()"
      ],
      "execution_count": null,
      "outputs": [
        {
          "output_type": "execute_result",
          "data": {
            "text/plain": [
              "array([1, 2, 3, 4, 5, 6])"
            ]
          },
          "metadata": {
            "tags": []
          },
          "execution_count": 99
        }
      ]
    },
    {
      "cell_type": "code",
      "metadata": {
        "id": "WNSXqKmSFojc",
        "outputId": "c255e1c0-e37a-4976-cbe4-88ff21ad7976"
      },
      "source": [
        "a.T"
      ],
      "execution_count": null,
      "outputs": [
        {
          "output_type": "execute_result",
          "data": {
            "text/plain": [
              "array([[1, 4],\n",
              "       [2, 5],\n",
              "       [3, 6]])"
            ]
          },
          "metadata": {
            "tags": []
          },
          "execution_count": 100
        }
      ]
    },
    {
      "cell_type": "code",
      "metadata": {
        "id": "pL3WpNbbFojc",
        "outputId": "c07315ac-ed20-482a-fab5-e70bf3c70e96"
      },
      "source": [
        "a.T.ravel()"
      ],
      "execution_count": null,
      "outputs": [
        {
          "output_type": "execute_result",
          "data": {
            "text/plain": [
              "array([1, 4, 2, 5, 3, 6])"
            ]
          },
          "metadata": {
            "tags": []
          },
          "execution_count": 101
        }
      ]
    },
    {
      "cell_type": "code",
      "metadata": {
        "id": "Gx0T-SWbFojc",
        "outputId": "4578a533-b35f-416a-ea16-aa78be7067f1"
      },
      "source": [
        "a"
      ],
      "execution_count": null,
      "outputs": [
        {
          "output_type": "execute_result",
          "data": {
            "text/plain": [
              "array([[1, 2, 3],\n",
              "       [4, 5, 6]])"
            ]
          },
          "metadata": {
            "tags": []
          },
          "execution_count": 102
        }
      ]
    },
    {
      "cell_type": "code",
      "metadata": {
        "id": "gFYccck6Fojd",
        "outputId": "82479f3a-6ab1-43d3-db40-140bed7990c7"
      },
      "source": [
        "a.reshape(3,2)"
      ],
      "execution_count": null,
      "outputs": [
        {
          "output_type": "execute_result",
          "data": {
            "text/plain": [
              "array([[1, 2],\n",
              "       [3, 4],\n",
              "       [5, 6]])"
            ]
          },
          "metadata": {
            "tags": []
          },
          "execution_count": 103
        }
      ]
    },
    {
      "cell_type": "code",
      "metadata": {
        "id": "FM_u7yEdFojd",
        "outputId": "5d6a6b86-f7b7-4a3f-d20d-cd467a3f5c12"
      },
      "source": [
        "a"
      ],
      "execution_count": null,
      "outputs": [
        {
          "output_type": "execute_result",
          "data": {
            "text/plain": [
              "array([[1, 2, 3],\n",
              "       [4, 5, 6]])"
            ]
          },
          "metadata": {
            "tags": []
          },
          "execution_count": 104
        }
      ]
    },
    {
      "cell_type": "code",
      "metadata": {
        "id": "leQpX2drFojd",
        "outputId": "0ef3573a-4ba0-4815-c317-7ef6eeb4b1b2"
      },
      "source": [
        "np.sort(a)"
      ],
      "execution_count": null,
      "outputs": [
        {
          "output_type": "execute_result",
          "data": {
            "text/plain": [
              "array([[1, 2, 3],\n",
              "       [4, 5, 6]])"
            ]
          },
          "metadata": {
            "tags": []
          },
          "execution_count": 105
        }
      ]
    },
    {
      "cell_type": "code",
      "metadata": {
        "id": "C69NgdtsFoje",
        "outputId": "d9798cd9-a1db-44ad-892b-29c2794652ab"
      },
      "source": [
        "a = np.array([4,2,3,1])\n",
        "a"
      ],
      "execution_count": null,
      "outputs": [
        {
          "output_type": "execute_result",
          "data": {
            "text/plain": [
              "array([4, 2, 3, 1])"
            ]
          },
          "metadata": {
            "tags": []
          },
          "execution_count": 106
        }
      ]
    },
    {
      "cell_type": "code",
      "metadata": {
        "id": "umA-itw1Foje",
        "outputId": "23a086bc-f45b-48c6-ac2d-735c0edc8a4d"
      },
      "source": [
        "np.sort(a)"
      ],
      "execution_count": null,
      "outputs": [
        {
          "output_type": "execute_result",
          "data": {
            "text/plain": [
              "array([1, 2, 3, 4])"
            ]
          },
          "metadata": {
            "tags": []
          },
          "execution_count": 107
        }
      ]
    },
    {
      "cell_type": "markdown",
      "metadata": {
        "id": "sBUGaP5HFoje"
      },
      "source": [
        "### random"
      ]
    },
    {
      "cell_type": "code",
      "metadata": {
        "id": "zZXdCuk4Foje",
        "outputId": "56234d19-9cee-40b1-a15f-ce70f910e09a"
      },
      "source": [
        "# uniform distribution\n",
        "np.random.rand()"
      ],
      "execution_count": null,
      "outputs": [
        {
          "output_type": "execute_result",
          "data": {
            "text/plain": [
              "0.17052412368729153"
            ]
          },
          "metadata": {
            "tags": []
          },
          "execution_count": 112
        }
      ]
    },
    {
      "cell_type": "code",
      "metadata": {
        "id": "XBwMIhcGFoje",
        "outputId": "dd41c749-b180-44af-cf92-f816d9bfb3d9"
      },
      "source": [
        "np.random.rand(5)"
      ],
      "execution_count": null,
      "outputs": [
        {
          "output_type": "execute_result",
          "data": {
            "text/plain": [
              "array([0.95071431, 0.73199394, 0.59865848, 0.15601864, 0.15599452])"
            ]
          },
          "metadata": {
            "tags": []
          },
          "execution_count": 109
        }
      ]
    },
    {
      "cell_type": "code",
      "metadata": {
        "id": "5NE79xBtFojf",
        "outputId": "7b0954da-79a1-4703-8f7e-8e20cc151129"
      },
      "source": [
        "np.random.rand(5,5)"
      ],
      "execution_count": null,
      "outputs": [
        {
          "output_type": "execute_result",
          "data": {
            "text/plain": [
              "array([[0.05808361, 0.86617615, 0.60111501, 0.70807258, 0.02058449],\n",
              "       [0.96990985, 0.83244264, 0.21233911, 0.18182497, 0.18340451],\n",
              "       [0.30424224, 0.52475643, 0.43194502, 0.29122914, 0.61185289],\n",
              "       [0.13949386, 0.29214465, 0.36636184, 0.45606998, 0.78517596],\n",
              "       [0.19967378, 0.51423444, 0.59241457, 0.04645041, 0.60754485]])"
            ]
          },
          "metadata": {
            "tags": []
          },
          "execution_count": 111
        }
      ]
    },
    {
      "cell_type": "code",
      "metadata": {
        "id": "gH1QmkBXFojf",
        "outputId": "94df0a9e-dbeb-4af8-f922-5ae792af789b"
      },
      "source": [
        "# guassian distribution\n",
        "np.random.randn()"
      ],
      "execution_count": null,
      "outputs": [
        {
          "output_type": "execute_result",
          "data": {
            "text/plain": [
              "-0.600638689918805"
            ]
          },
          "metadata": {
            "tags": []
          },
          "execution_count": 113
        }
      ]
    },
    {
      "cell_type": "code",
      "metadata": {
        "id": "hKDX9ax0Fojf",
        "outputId": "d10dcabe-790d-48ce-dc6d-07a8750fde41"
      },
      "source": [
        "np.random.randn(5)"
      ],
      "execution_count": null,
      "outputs": [
        {
          "output_type": "execute_result",
          "data": {
            "text/plain": [
              "array([-0.29169375, -0.60170661,  1.85227818, -0.01349722, -1.05771093])"
            ]
          },
          "metadata": {
            "tags": []
          },
          "execution_count": 114
        }
      ]
    },
    {
      "cell_type": "code",
      "metadata": {
        "id": "N3U4Qg8hFojf",
        "outputId": "add7a4cb-8f76-4fc9-b216-88ed4fb98c54"
      },
      "source": [
        "np.random.randn(5,5)"
      ],
      "execution_count": null,
      "outputs": [
        {
          "output_type": "execute_result",
          "data": {
            "text/plain": [
              "array([[ 0.82254491, -1.22084365,  0.2088636 , -1.95967012, -1.32818605],\n",
              "       [ 0.19686124,  0.73846658,  0.17136828, -0.11564828, -0.3011037 ],\n",
              "       [-1.47852199, -0.71984421, -0.46063877,  1.05712223,  0.34361829],\n",
              "       [-1.76304016,  0.32408397, -0.38508228, -0.676922  ,  0.61167629],\n",
              "       [ 1.03099952,  0.93128012, -0.83921752, -0.30921238,  0.33126343]])"
            ]
          },
          "metadata": {
            "tags": []
          },
          "execution_count": 115
        }
      ]
    },
    {
      "cell_type": "code",
      "metadata": {
        "id": "kQuX0GFcFojg",
        "outputId": "36fd891c-bc42-48e3-ee83-df4f25ffb87b"
      },
      "source": [
        "np.random.randint(1,10)"
      ],
      "execution_count": null,
      "outputs": [
        {
          "output_type": "execute_result",
          "data": {
            "text/plain": [
              "2"
            ]
          },
          "metadata": {
            "tags": []
          },
          "execution_count": 116
        }
      ]
    },
    {
      "cell_type": "code",
      "metadata": {
        "id": "tucVSMN8Fojg",
        "outputId": "bb4ffe82-566a-4beb-b33f-32d8375fe114"
      },
      "source": [
        "np.random.randint(1,10,10)"
      ],
      "execution_count": null,
      "outputs": [
        {
          "output_type": "execute_result",
          "data": {
            "text/plain": [
              "array([1, 7, 7, 8, 5, 3, 8, 6, 3, 1])"
            ]
          },
          "metadata": {
            "tags": []
          },
          "execution_count": 117
        }
      ]
    },
    {
      "cell_type": "code",
      "metadata": {
        "id": "xY5K6ZwBFojg",
        "outputId": "51a90fc5-10c9-4c33-eca5-59cb5f815828"
      },
      "source": [
        "np.arange(25).reshape(5,5)"
      ],
      "execution_count": null,
      "outputs": [
        {
          "output_type": "execute_result",
          "data": {
            "text/plain": [
              "array([[ 0,  1,  2,  3,  4],\n",
              "       [ 5,  6,  7,  8,  9],\n",
              "       [10, 11, 12, 13, 14],\n",
              "       [15, 16, 17, 18, 19],\n",
              "       [20, 21, 22, 23, 24]])"
            ]
          },
          "metadata": {
            "tags": []
          },
          "execution_count": 118
        }
      ]
    },
    {
      "cell_type": "code",
      "metadata": {
        "id": "S1tjXjCMFojg",
        "outputId": "0a628103-8300-4b48-905b-fe6096036ec0"
      },
      "source": [
        "arr = np.arange(25).reshape(5,5)\n",
        "arr"
      ],
      "execution_count": null,
      "outputs": [
        {
          "output_type": "execute_result",
          "data": {
            "text/plain": [
              "array([[ 0,  1,  2,  3,  4],\n",
              "       [ 5,  6,  7,  8,  9],\n",
              "       [10, 11, 12, 13, 14],\n",
              "       [15, 16, 17, 18, 19],\n",
              "       [20, 21, 22, 23, 24]])"
            ]
          },
          "metadata": {
            "tags": []
          },
          "execution_count": 120
        }
      ]
    },
    {
      "cell_type": "code",
      "metadata": {
        "id": "9Abs4RAWFojg",
        "outputId": "26e65000-be7a-4d69-cb7d-1c44e8197882"
      },
      "source": [
        "# element at row 1 and column 0\n",
        "arr[1,0]"
      ],
      "execution_count": null,
      "outputs": [
        {
          "output_type": "execute_result",
          "data": {
            "text/plain": [
              "5"
            ]
          },
          "metadata": {
            "tags": []
          },
          "execution_count": 124
        }
      ]
    },
    {
      "cell_type": "code",
      "metadata": {
        "id": "U0arpIzEFojh",
        "outputId": "58681b10-797b-4297-d79b-24ea845cf0bd"
      },
      "source": [
        "# element at row 1 and column 0\n",
        "arr[1][0]"
      ],
      "execution_count": null,
      "outputs": [
        {
          "output_type": "execute_result",
          "data": {
            "text/plain": [
              "5"
            ]
          },
          "metadata": {
            "tags": []
          },
          "execution_count": 125
        }
      ]
    },
    {
      "cell_type": "code",
      "metadata": {
        "id": "tVlS4bpoFojh",
        "outputId": "62d63e6a-eff1-4307-c9b5-037a98b6c1be"
      },
      "source": [
        "arr[-1,-1]"
      ],
      "execution_count": null,
      "outputs": [
        {
          "output_type": "execute_result",
          "data": {
            "text/plain": [
              "24"
            ]
          },
          "metadata": {
            "tags": []
          },
          "execution_count": 126
        }
      ]
    },
    {
      "cell_type": "code",
      "metadata": {
        "id": "IMyPvUR5Fojh"
      },
      "source": [
        "  "
      ],
      "execution_count": null,
      "outputs": []
    }
  ]
}