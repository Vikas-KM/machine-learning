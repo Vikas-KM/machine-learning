{
 "cells": [
  {
   "cell_type": "code",
   "execution_count": 1,
   "metadata": {},
   "outputs": [],
   "source": [
    "import numpy as np"
   ]
  },
  {
   "cell_type": "markdown",
   "metadata": {},
   "source": [
    "### using np.where "
   ]
  },
  {
   "cell_type": "code",
   "execution_count": 3,
   "metadata": {},
   "outputs": [
    {
     "data": {
      "text/plain": [
       "array([[0.51085437, 0.05091971, 0.40838938, 0.32187125],\n",
       "       [0.1748698 , 0.04241233, 0.94457232, 0.69067158],\n",
       "       [0.10860551, 0.26222557, 0.35073104, 0.82750063],\n",
       "       [0.96013561, 0.04153258, 0.48298976, 0.36832426]])"
      ]
     },
     "execution_count": 3,
     "metadata": {},
     "output_type": "execute_result"
    }
   ],
   "source": [
    "arr = np.random.rand(4,4)\n",
    "arr"
   ]
  },
  {
   "cell_type": "code",
   "execution_count": 4,
   "metadata": {},
   "outputs": [
    {
     "data": {
      "text/plain": [
       "array([[ True, False, False, False],\n",
       "       [False, False,  True,  True],\n",
       "       [False, False, False,  True],\n",
       "       [ True, False, False, False]])"
      ]
     },
     "execution_count": 4,
     "metadata": {},
     "output_type": "execute_result"
    }
   ],
   "source": [
    "arr>0.5"
   ]
  },
  {
   "cell_type": "markdown",
   "metadata": {},
   "source": [
    "### 1st arg is condition, if True takes 2nd argument, else takes 3rd argument"
   ]
  },
  {
   "cell_type": "code",
   "execution_count": 5,
   "metadata": {},
   "outputs": [
    {
     "data": {
      "text/plain": [
       "array([[1, 0, 0, 0],\n",
       "       [0, 0, 1, 1],\n",
       "       [0, 0, 0, 1],\n",
       "       [1, 0, 0, 0]])"
      ]
     },
     "execution_count": 5,
     "metadata": {},
     "output_type": "execute_result"
    }
   ],
   "source": [
    "np.where(arr>0.5, 1, 0)"
   ]
  },
  {
   "cell_type": "markdown",
   "metadata": {},
   "source": [
    "### mathematical and statistical methods"
   ]
  },
  {
   "cell_type": "code",
   "execution_count": 9,
   "metadata": {},
   "outputs": [
    {
     "data": {
      "text/plain": [
       "array([[ 0.04130039, -0.65536851, -0.28492298, -0.8123759 ,  0.64025622],\n",
       "       [ 0.03220593,  0.93913178,  0.46036165,  0.28323042, -0.01232718],\n",
       "       [ 1.63454647,  0.29380707, -1.05160552, -2.39362668,  0.91543834]])"
      ]
     },
     "execution_count": 9,
     "metadata": {},
     "output_type": "execute_result"
    }
   ],
   "source": [
    "arr = np.random.randn(3,5)\n",
    "arr"
   ]
  },
  {
   "cell_type": "markdown",
   "metadata": {},
   "source": [
    "### calculating mean"
   ]
  },
  {
   "cell_type": "code",
   "execution_count": 11,
   "metadata": {},
   "outputs": [
    {
     "data": {
      "text/plain": [
       "0.002003433542319999"
      ]
     },
     "execution_count": 11,
     "metadata": {},
     "output_type": "execute_result"
    }
   ],
   "source": [
    "arr.mean()"
   ]
  },
  {
   "cell_type": "code",
   "execution_count": 12,
   "metadata": {},
   "outputs": [
    {
     "data": {
      "text/plain": [
       "0.002003433542319999"
      ]
     },
     "execution_count": 12,
     "metadata": {},
     "output_type": "execute_result"
    }
   ],
   "source": [
    "np.mean(arr)"
   ]
  },
  {
   "cell_type": "markdown",
   "metadata": {},
   "source": [
    "### calculating sum"
   ]
  },
  {
   "cell_type": "code",
   "execution_count": 14,
   "metadata": {},
   "outputs": [
    {
     "data": {
      "text/plain": [
       "0.030051503134799984"
      ]
     },
     "execution_count": 14,
     "metadata": {},
     "output_type": "execute_result"
    }
   ],
   "source": [
    "arr.sum()"
   ]
  },
  {
   "cell_type": "code",
   "execution_count": 15,
   "metadata": {},
   "outputs": [
    {
     "data": {
      "text/plain": [
       "0.030051503134799984"
      ]
     },
     "execution_count": 15,
     "metadata": {},
     "output_type": "execute_result"
    }
   ],
   "source": [
    "np.sum(arr)"
   ]
  },
  {
   "cell_type": "code",
   "execution_count": 16,
   "metadata": {},
   "outputs": [
    {
     "data": {
      "text/plain": [
       "array([[ 0,  1,  2,  3],\n",
       "       [ 4,  5,  6,  7],\n",
       "       [ 8,  9, 10, 11]])"
      ]
     },
     "execution_count": 16,
     "metadata": {},
     "output_type": "execute_result"
    }
   ],
   "source": [
    "arr = np.arange(12).reshape(3,4)\n",
    "arr"
   ]
  },
  {
   "cell_type": "markdown",
   "metadata": {},
   "source": [
    "### calculates mean row and column wise when u give axes"
   ]
  },
  {
   "cell_type": "code",
   "execution_count": 17,
   "metadata": {},
   "outputs": [
    {
     "data": {
      "text/plain": [
       "array([4., 5., 6., 7.])"
      ]
     },
     "execution_count": 17,
     "metadata": {},
     "output_type": "execute_result"
    }
   ],
   "source": [
    "arr.mean(axis=0)"
   ]
  },
  {
   "cell_type": "code",
   "execution_count": 18,
   "metadata": {},
   "outputs": [
    {
     "data": {
      "text/plain": [
       "array([1.5, 5.5, 9.5])"
      ]
     },
     "execution_count": 18,
     "metadata": {},
     "output_type": "execute_result"
    }
   ],
   "source": [
    "arr.mean(axis=1)"
   ]
  },
  {
   "cell_type": "code",
   "execution_count": 19,
   "metadata": {},
   "outputs": [
    {
     "data": {
      "text/plain": [
       "array([ 6, 22, 38])"
      ]
     },
     "execution_count": 19,
     "metadata": {},
     "output_type": "execute_result"
    }
   ],
   "source": [
    "np.sum(arr, axis=1)"
   ]
  },
  {
   "cell_type": "code",
   "execution_count": 20,
   "metadata": {},
   "outputs": [
    {
     "data": {
      "text/plain": [
       "array([12, 15, 18, 21])"
      ]
     },
     "execution_count": 20,
     "metadata": {},
     "output_type": "execute_result"
    }
   ],
   "source": [
    "np.sum(arr, axis=0)"
   ]
  },
  {
   "cell_type": "markdown",
   "metadata": {},
   "source": [
    "### using cumsum and cumprod"
   ]
  },
  {
   "cell_type": "code",
   "execution_count": 21,
   "metadata": {},
   "outputs": [
    {
     "data": {
      "text/plain": [
       "array([1, 2, 3, 4, 5])"
      ]
     },
     "execution_count": 21,
     "metadata": {},
     "output_type": "execute_result"
    }
   ],
   "source": [
    "arr = np.array([1,2,3,4,5])\n",
    "arr"
   ]
  },
  {
   "cell_type": "markdown",
   "metadata": {},
   "source": [
    "### calculates the sum incrementally with every value"
   ]
  },
  {
   "cell_type": "code",
   "execution_count": 22,
   "metadata": {},
   "outputs": [
    {
     "data": {
      "text/plain": [
       "array([ 1,  3,  6, 10, 15], dtype=int32)"
      ]
     },
     "execution_count": 22,
     "metadata": {},
     "output_type": "execute_result"
    }
   ],
   "source": [
    "arr.cumsum()"
   ]
  },
  {
   "cell_type": "markdown",
   "metadata": {},
   "source": [
    "### calculates prod incrementally with every value"
   ]
  },
  {
   "cell_type": "code",
   "execution_count": 24,
   "metadata": {},
   "outputs": [
    {
     "data": {
      "text/plain": [
       "array([  1,   2,   6,  24, 120], dtype=int32)"
      ]
     },
     "execution_count": 24,
     "metadata": {},
     "output_type": "execute_result"
    }
   ],
   "source": [
    "arr.cumprod()"
   ]
  },
  {
   "cell_type": "markdown",
   "metadata": {},
   "source": [
    "### any and all methods, useful for boolean arrays"
   ]
  },
  {
   "cell_type": "code",
   "execution_count": 25,
   "metadata": {},
   "outputs": [
    {
     "data": {
      "text/plain": [
       "array([ True, False, False,  True,  True])"
      ]
     },
     "execution_count": 25,
     "metadata": {},
     "output_type": "execute_result"
    }
   ],
   "source": [
    "arr_bool = np.array([True, False, False, True, True])\n",
    "arr_bool"
   ]
  },
  {
   "cell_type": "markdown",
   "metadata": {},
   "source": [
    "### produces value true if any value is true"
   ]
  },
  {
   "cell_type": "code",
   "execution_count": 26,
   "metadata": {},
   "outputs": [
    {
     "data": {
      "text/plain": [
       "True"
      ]
     },
     "execution_count": 26,
     "metadata": {},
     "output_type": "execute_result"
    }
   ],
   "source": [
    "np.any(arr_bool)"
   ]
  },
  {
   "cell_type": "code",
   "execution_count": 28,
   "metadata": {},
   "outputs": [
    {
     "data": {
      "text/plain": [
       "True"
      ]
     },
     "execution_count": 28,
     "metadata": {},
     "output_type": "execute_result"
    }
   ],
   "source": [
    "arr_bool.any()"
   ]
  },
  {
   "cell_type": "code",
   "execution_count": null,
   "metadata": {},
   "outputs": [],
   "source": [
    "### produces false"
   ]
  },
  {
   "cell_type": "code",
   "execution_count": 27,
   "metadata": {},
   "outputs": [
    {
     "data": {
      "text/plain": [
       "False"
      ]
     },
     "execution_count": 27,
     "metadata": {},
     "output_type": "execute_result"
    }
   ],
   "source": [
    "np.all(arr_bool)"
   ]
  },
  {
   "cell_type": "code",
   "execution_count": 29,
   "metadata": {},
   "outputs": [
    {
     "data": {
      "text/plain": [
       "False"
      ]
     },
     "execution_count": 29,
     "metadata": {},
     "output_type": "execute_result"
    }
   ],
   "source": [
    "arr_bool.all()"
   ]
  },
  {
   "cell_type": "markdown",
   "metadata": {},
   "source": [
    "### sorting arrays"
   ]
  },
  {
   "cell_type": "code",
   "execution_count": 36,
   "metadata": {},
   "outputs": [
    {
     "data": {
      "text/plain": [
       "array([[ 0.02766903, -0.21457433,  0.44608191, -0.0563337 , -0.59330082],\n",
       "       [ 1.34959427, -1.84200334, -0.01493687, -0.15374365,  1.53201676],\n",
       "       [-2.36722991, -1.34393588, -1.61047945, -1.10842003,  1.50759041]])"
      ]
     },
     "execution_count": 36,
     "metadata": {},
     "output_type": "execute_result"
    }
   ],
   "source": [
    "arr = np.random.randn(3,5)\n",
    "arr"
   ]
  },
  {
   "cell_type": "markdown",
   "metadata": {},
   "source": [
    "### sorts in place"
   ]
  },
  {
   "cell_type": "code",
   "execution_count": 39,
   "metadata": {},
   "outputs": [],
   "source": [
    "arr.sort()"
   ]
  },
  {
   "cell_type": "code",
   "execution_count": 40,
   "metadata": {},
   "outputs": [
    {
     "data": {
      "text/plain": [
       "array([[-0.59330082, -0.21457433, -0.0563337 ,  0.02766903,  0.44608191],\n",
       "       [-1.84200334, -0.15374365, -0.01493687,  1.34959427,  1.53201676],\n",
       "       [-2.36722991, -1.61047945, -1.34393588, -1.10842003,  1.50759041]])"
      ]
     },
     "execution_count": 40,
     "metadata": {},
     "output_type": "execute_result"
    }
   ],
   "source": [
    "arr"
   ]
  },
  {
   "cell_type": "markdown",
   "metadata": {},
   "source": [
    "### this returns a new copy and not sorts in place like the arr.sort() does"
   ]
  },
  {
   "cell_type": "code",
   "execution_count": 37,
   "metadata": {},
   "outputs": [
    {
     "data": {
      "text/plain": [
       "array([[-0.59330082, -0.21457433, -0.0563337 ,  0.02766903,  0.44608191],\n",
       "       [-1.84200334, -0.15374365, -0.01493687,  1.34959427,  1.53201676],\n",
       "       [-2.36722991, -1.61047945, -1.34393588, -1.10842003,  1.50759041]])"
      ]
     },
     "execution_count": 37,
     "metadata": {},
     "output_type": "execute_result"
    }
   ],
   "source": [
    "np.sort(arr)"
   ]
  },
  {
   "cell_type": "code",
   "execution_count": 38,
   "metadata": {},
   "outputs": [
    {
     "data": {
      "text/plain": [
       "array([[ 0.02766903, -0.21457433,  0.44608191, -0.0563337 , -0.59330082],\n",
       "       [ 1.34959427, -1.84200334, -0.01493687, -0.15374365,  1.53201676],\n",
       "       [-2.36722991, -1.34393588, -1.61047945, -1.10842003,  1.50759041]])"
      ]
     },
     "execution_count": 38,
     "metadata": {},
     "output_type": "execute_result"
    }
   ],
   "source": [
    "arr"
   ]
  },
  {
   "cell_type": "markdown",
   "metadata": {},
   "source": [
    "### unique values of an array"
   ]
  },
  {
   "cell_type": "code",
   "execution_count": 41,
   "metadata": {},
   "outputs": [
    {
     "data": {
      "text/plain": [
       "array([1, 2, 1, 3, 5, 6, 1, 2, 4, 5, 6])"
      ]
     },
     "execution_count": 41,
     "metadata": {},
     "output_type": "execute_result"
    }
   ],
   "source": [
    "arr = np.array([1,2,1,3,5,6,1,2,4,5,6])\n",
    "arr"
   ]
  },
  {
   "cell_type": "markdown",
   "metadata": {},
   "source": [
    "### returns the unique values of the array"
   ]
  },
  {
   "cell_type": "code",
   "execution_count": 43,
   "metadata": {},
   "outputs": [
    {
     "data": {
      "text/plain": [
       "array([1, 2, 3, 4, 5, 6])"
      ]
     },
     "execution_count": 43,
     "metadata": {},
     "output_type": "execute_result"
    }
   ],
   "source": [
    "np.unique(arr)"
   ]
  },
  {
   "cell_type": "markdown",
   "metadata": {},
   "source": [
    "### python alternative for the above"
   ]
  },
  {
   "cell_type": "code",
   "execution_count": 44,
   "metadata": {},
   "outputs": [
    {
     "data": {
      "text/plain": [
       "[1, 2, 3, 4, 5, 6]"
      ]
     },
     "execution_count": 44,
     "metadata": {},
     "output_type": "execute_result"
    }
   ],
   "source": [
    "sorted(set(arr))"
   ]
  },
  {
   "cell_type": "markdown",
   "metadata": {},
   "source": [
    "### computing if one array element is present in another, returns boolean array"
   ]
  },
  {
   "cell_type": "code",
   "execution_count": 45,
   "metadata": {},
   "outputs": [
    {
     "data": {
      "text/plain": [
       "array([1, 2, 3, 4, 5, 6, 7])"
      ]
     },
     "execution_count": 45,
     "metadata": {},
     "output_type": "execute_result"
    }
   ],
   "source": [
    "arr1 = np.array([1,2,3,4,5,6,7])\n",
    "arr1"
   ]
  },
  {
   "cell_type": "code",
   "execution_count": 46,
   "metadata": {},
   "outputs": [
    {
     "data": {
      "text/plain": [
       "array([2, 4, 7])"
      ]
     },
     "execution_count": 46,
     "metadata": {},
     "output_type": "execute_result"
    }
   ],
   "source": [
    "arr2 = np.array([2,4,7])\n",
    "arr2"
   ]
  },
  {
   "cell_type": "markdown",
   "metadata": {},
   "source": [
    "### checks if the values of arr1 are present in arr2"
   ]
  },
  {
   "cell_type": "code",
   "execution_count": 47,
   "metadata": {},
   "outputs": [
    {
     "data": {
      "text/plain": [
       "array([False,  True, False,  True, False, False,  True])"
      ]
     },
     "execution_count": 47,
     "metadata": {},
     "output_type": "execute_result"
    }
   ],
   "source": [
    "np.in1d(arr1,arr2)"
   ]
  },
  {
   "cell_type": "markdown",
   "metadata": {},
   "source": [
    "### computes the common elements in both arr1 and arr2"
   ]
  },
  {
   "cell_type": "code",
   "execution_count": 49,
   "metadata": {},
   "outputs": [
    {
     "data": {
      "text/plain": [
       "array([2, 4, 7])"
      ]
     },
     "execution_count": 49,
     "metadata": {},
     "output_type": "execute_result"
    }
   ],
   "source": [
    "np.intersect1d(arr1,arr2)"
   ]
  },
  {
   "cell_type": "markdown",
   "metadata": {},
   "source": [
    "### File operations, load and save functions"
   ]
  },
  {
   "cell_type": "code",
   "execution_count": 50,
   "metadata": {},
   "outputs": [
    {
     "data": {
      "text/plain": [
       "array([0, 1, 2, 3, 4, 5, 6, 7, 8, 9])"
      ]
     },
     "execution_count": 50,
     "metadata": {},
     "output_type": "execute_result"
    }
   ],
   "source": [
    "arr = np.arange(10)\n",
    "arr"
   ]
  },
  {
   "cell_type": "markdown",
   "metadata": {},
   "source": [
    "### it creates a my_array.npy file on the disk"
   ]
  },
  {
   "cell_type": "code",
   "execution_count": 51,
   "metadata": {},
   "outputs": [],
   "source": [
    "np.save('my_array', arr)"
   ]
  },
  {
   "cell_type": "markdown",
   "metadata": {},
   "source": [
    "### loading data from the file"
   ]
  },
  {
   "cell_type": "code",
   "execution_count": 53,
   "metadata": {},
   "outputs": [
    {
     "data": {
      "text/plain": [
       "array([0, 1, 2, 3, 4, 5, 6, 7, 8, 9])"
      ]
     },
     "execution_count": 53,
     "metadata": {},
     "output_type": "execute_result"
    }
   ],
   "source": [
    "np.load('my_array.npy')"
   ]
  },
  {
   "cell_type": "markdown",
   "metadata": {},
   "source": [
    "### LINEAR ALGEBRA\n",
    "#### Matrix functions"
   ]
  },
  {
   "cell_type": "code",
   "execution_count": 54,
   "metadata": {},
   "outputs": [
    {
     "data": {
      "text/plain": [
       "array([[ 0,  1,  2,  3],\n",
       "       [ 4,  5,  6,  7],\n",
       "       [ 8,  9, 10, 11]])"
      ]
     },
     "execution_count": 54,
     "metadata": {},
     "output_type": "execute_result"
    }
   ],
   "source": [
    "arr = np.arange(12).reshape(3,4)\n",
    "arr"
   ]
  },
  {
   "cell_type": "code",
   "execution_count": 55,
   "metadata": {},
   "outputs": [
    {
     "data": {
      "text/plain": [
       "array([[ 0,  4,  8],\n",
       "       [ 1,  5,  9],\n",
       "       [ 2,  6, 10],\n",
       "       [ 3,  7, 11]])"
      ]
     },
     "execution_count": 55,
     "metadata": {},
     "output_type": "execute_result"
    }
   ],
   "source": [
    "arr.T"
   ]
  },
  {
   "cell_type": "markdown",
   "metadata": {},
   "source": [
    "### Dot product "
   ]
  },
  {
   "cell_type": "code",
   "execution_count": 58,
   "metadata": {},
   "outputs": [
    {
     "data": {
      "text/plain": [
       "array([[ 14,  38,  62],\n",
       "       [ 38, 126, 214],\n",
       "       [ 62, 214, 366]])"
      ]
     },
     "execution_count": 58,
     "metadata": {},
     "output_type": "execute_result"
    }
   ],
   "source": [
    "np.dot(arr, arr.T)"
   ]
  },
  {
   "cell_type": "code",
   "execution_count": 57,
   "metadata": {},
   "outputs": [
    {
     "data": {
      "text/plain": [
       "array([[ 14,  38,  62],\n",
       "       [ 38, 126, 214],\n",
       "       [ 62, 214, 366]])"
      ]
     },
     "execution_count": 57,
     "metadata": {},
     "output_type": "execute_result"
    }
   ],
   "source": [
    "arr.dot(arr.T)"
   ]
  },
  {
   "cell_type": "markdown",
   "metadata": {},
   "source": [
    "### Most of the function are available in numpy.linalg package"
   ]
  },
  {
   "cell_type": "code",
   "execution_count": 77,
   "metadata": {},
   "outputs": [],
   "source": [
    "from numpy.linalg import inv, qr, det"
   ]
  },
  {
   "cell_type": "markdown",
   "metadata": {},
   "source": [
    "### calculates the inverse of the matrix"
   ]
  },
  {
   "cell_type": "code",
   "execution_count": 65,
   "metadata": {},
   "outputs": [
    {
     "data": {
      "text/plain": [
       "array([[-1.50443522e+14,  3.00887044e+14, -1.50443522e+14],\n",
       "       [ 3.00887044e+14, -6.01774088e+14,  3.00887044e+14],\n",
       "       [-1.50443522e+14,  3.00887044e+14, -1.50443522e+14]])"
      ]
     },
     "execution_count": 65,
     "metadata": {},
     "output_type": "execute_result"
    }
   ],
   "source": [
    "inv(arr.dot(arr.T))"
   ]
  },
  {
   "cell_type": "markdown",
   "metadata": {},
   "source": [
    "### calcaultes the sum of the diagonal elements"
   ]
  },
  {
   "cell_type": "code",
   "execution_count": 74,
   "metadata": {},
   "outputs": [
    {
     "data": {
      "text/plain": [
       "506"
      ]
     },
     "execution_count": 74,
     "metadata": {},
     "output_type": "execute_result"
    }
   ],
   "source": [
    "np.trace(arr.dot(arr.T))"
   ]
  },
  {
   "cell_type": "markdown",
   "metadata": {},
   "source": [
    "### det, eig is for calculating determinant and eigenvalues and eigenvectors"
   ]
  },
  {
   "cell_type": "code",
   "execution_count": 78,
   "metadata": {},
   "outputs": [
    {
     "data": {
      "text/plain": [
       "-2.1270440605979823e-12"
      ]
     },
     "execution_count": 78,
     "metadata": {},
     "output_type": "execute_result"
    }
   ],
   "source": [
    "det(arr.dot(arr.T))"
   ]
  },
  {
   "cell_type": "markdown",
   "metadata": {},
   "source": [
    "### generating pseudo random numbers, using randomState and seed"
   ]
  },
  {
   "cell_type": "code",
   "execution_count": 79,
   "metadata": {},
   "outputs": [],
   "source": [
    "np.random.seed(10)"
   ]
  },
  {
   "cell_type": "markdown",
   "metadata": {},
   "source": [
    "### randomstate is used to generate numbers isolated from others"
   ]
  },
  {
   "cell_type": "code",
   "execution_count": 91,
   "metadata": {},
   "outputs": [
    {
     "data": {
      "text/plain": [
       "<mtrand.RandomState at 0x21a8868f990>"
      ]
     },
     "execution_count": 91,
     "metadata": {},
     "output_type": "execute_result"
    }
   ],
   "source": [
    "np.random.RandomState(100)"
   ]
  },
  {
   "cell_type": "code",
   "execution_count": 92,
   "metadata": {},
   "outputs": [
    {
     "data": {
      "text/plain": [
       "array([-1.58494101,  1.05535316, -1.92657911,  0.69858388, -0.74620143,\n",
       "       -0.15662666, -0.19363594,  1.13912535,  0.36221796, -0.59091299])"
      ]
     },
     "execution_count": 92,
     "metadata": {},
     "output_type": "execute_result"
    }
   ],
   "source": [
    "np.random.randn(10)"
   ]
  },
  {
   "cell_type": "code",
   "execution_count": 93,
   "metadata": {},
   "outputs": [
    {
     "data": {
      "text/plain": [
       "array([ 0.38936304, -0.52699615, -0.51430791,  0.89760917,  0.98925209,\n",
       "        0.25922513, -0.02419319,  0.35849666, -0.37754636,  0.69563116])"
      ]
     },
     "execution_count": 93,
     "metadata": {},
     "output_type": "execute_result"
    }
   ],
   "source": [
    "np.random.randn(10)"
   ]
  },
  {
   "cell_type": "code",
   "execution_count": 94,
   "metadata": {},
   "outputs": [
    {
     "data": {
      "text/plain": [
       "array([ 1.02484465,  1.70775544, -1.96711722, -0.87095667, -1.10682548,\n",
       "        0.27512366, -0.36445614, -1.16515347, -1.34306988,  1.45339286])"
      ]
     },
     "execution_count": 94,
     "metadata": {},
     "output_type": "execute_result"
    }
   ],
   "source": [
    "np.random.randn(10)"
   ]
  },
  {
   "cell_type": "markdown",
   "metadata": {},
   "source": [
    "### random walk"
   ]
  },
  {
   "cell_type": "code",
   "execution_count": 96,
   "metadata": {},
   "outputs": [],
   "source": [
    "nsteps = 1000\n",
    "draws = np.random.randint(0,2, size=nsteps)\n",
    "steps = np.where(draws > 0 , 1, -1)\n",
    "walk = steps.cumsum()"
   ]
  },
  {
   "cell_type": "code",
   "execution_count": 103,
   "metadata": {},
   "outputs": [
    {
     "data": {
      "text/plain": [
       "array([  1,   2,   1,   0,   1,   2,   3,   2,   1,   0,  -1,  -2,  -1,\n",
       "         0,   1,   2,   1,   2,   3,   2,   1,   0,   1,   0,   1,   2,\n",
       "         1,   2,   1,   0,  -1,  -2,  -1,   0,  -1,  -2,  -3,  -2,  -1,\n",
       "         0,  -1,  -2,  -3,  -4,  -5,  -6,  -7,  -8,  -7,  -8,  -7,  -6,\n",
       "        -5,  -6,  -7,  -8,  -7,  -8,  -7,  -8,  -7,  -6,  -5,  -4,  -3,\n",
       "        -2,  -3,  -2,  -1,   0,   1,   2,   3,   2,   1,   2,   3,   2,\n",
       "         3,   4,   5,   4,   5,   4,   5,   4,   3,   4,   5,   4,   5,\n",
       "         6,   7,   6,   7,   8,   7,   8,   9,  10,   9,  10,   9,   8,\n",
       "         9,  10,  11,  12,  13,  12,  11,  12,  13,  12,  11,  10,   9,\n",
       "         8,   7,   6,   5,   4,   3,   4,   3,   4,   3,   4,   3,   4,\n",
       "         3,   4,   5,   4,   5,   6,   7,   6,   5,   4,   3,   2,   1,\n",
       "         0,  -1,   0,  -1,  -2,  -3,  -2,  -3,  -2,  -3,  -4,  -5,  -6,\n",
       "        -5,  -4,  -3,  -2,  -3,  -2,  -1,   0,   1,   0,   1,   2,   3,\n",
       "         2,   1,   2,   1,   0,  -1,  -2,  -3,  -2,  -1,  -2,  -3,  -4,\n",
       "        -3,  -4,  -5,  -4,  -5,  -6,  -7,  -8,  -7,  -8,  -9,  -8,  -7,\n",
       "        -8,  -7,  -6,  -5,  -4,  -3,  -2,  -3,  -4,  -3,  -2,  -1,  -2,\n",
       "        -3,  -4,  -3,  -4,  -3,  -2,  -3,  -2,  -1,   0,   1,   0,   1,\n",
       "         0,   1,   2,   1,   0,   1,   0,  -1,  -2,  -3,  -4,  -5,  -4,\n",
       "        -3,  -2,  -1,  -2,  -1,  -2,  -1,   0,  -1,  -2,  -1,   0,   1,\n",
       "         2,   1,   0,  -1,   0,  -1,  -2,  -1,  -2,  -3,  -4,  -3,  -4,\n",
       "        -3,  -2,  -3,  -4,  -3,  -4,  -5,  -6,  -5,  -4,  -3,  -2,  -3,\n",
       "        -2,  -1,  -2,  -3,  -4,  -3,  -2,  -3,  -2,  -3,  -4,  -3,  -2,\n",
       "        -3,  -2,  -3,  -2,  -3,  -2,  -3,  -2,  -1,  -2,  -1,   0,   1,\n",
       "         0,   1,   2,   1,   0,  -1,  -2,  -3,  -4,  -5,  -4,  -5,  -4,\n",
       "        -5,  -4,  -5,  -4,  -3,  -2,  -1,   0,  -1,   0,  -1,   0,   1,\n",
       "         0,  -1,   0,  -1,  -2,  -3,  -2,  -1,   0,  -1,   0,  -1,   0,\n",
       "         1,   0,  -1,   0,  -1,   0,  -1,   0,   1,   2,   1,   0,   1,\n",
       "         0,   1,   2,   1,   2,   1,   2,   3,   2,   3,   2,   3,   2,\n",
       "         1,   2,   1,   0,  -1,   0,   1,   0,   1,   2,   1,   0,  -1,\n",
       "        -2,  -3,  -2,  -3,  -2,  -1,  -2,  -1,   0,   1,   0,   1,   2,\n",
       "         1,   0,   1,   2,   1,   0,   1,   2,   3,   2,   1,   0,   1,\n",
       "         2,   1,   2,   1,   2,   3,   4,   3,   4,   3,   2,   1,   2,\n",
       "         1,   0,  -1,  -2,  -3,  -4,  -3,  -2,  -3,  -4,  -5,  -4,  -5,\n",
       "        -4,  -3,  -2,  -3,  -2,  -3,  -2,  -1,  -2,  -3,  -4,  -3,  -4,\n",
       "        -5,  -4,  -5,  -6,  -7,  -8,  -7,  -8,  -9,  -8,  -7,  -6,  -7,\n",
       "        -8,  -9,  -8,  -7,  -6,  -5,  -6,  -5,  -6,  -5,  -4,  -5,  -6,\n",
       "        -7,  -8,  -7,  -6,  -7,  -6,  -7,  -6,  -5,  -4,  -5,  -4,  -5,\n",
       "        -4,  -5,  -4,  -5,  -6,  -7,  -6,  -7,  -6,  -5,  -4,  -5,  -4,\n",
       "        -5,  -4,  -5,  -4,  -5,  -4,  -3,  -2,  -3,  -4,  -3,  -2,  -3,\n",
       "        -4,  -5,  -6,  -7,  -8,  -9, -10,  -9,  -8,  -9, -10, -11, -12,\n",
       "       -13, -14, -15, -16, -17, -16, -15, -16, -17, -18, -17, -16, -15,\n",
       "       -14, -13, -14, -15, -14, -13, -12, -11, -12, -11, -12, -11, -10,\n",
       "        -9,  -8,  -7,  -6,  -7,  -8,  -9, -10, -11, -10, -11, -12, -13,\n",
       "       -14, -15, -16, -17, -16, -17, -18, -19, -18, -19, -18, -19, -20,\n",
       "       -21, -22, -21, -20, -21, -20, -21, -20, -19, -18, -19, -18, -19,\n",
       "       -18, -17, -18, -17, -18, -19, -20, -19, -20, -19, -18, -17, -16,\n",
       "       -15, -16, -17, -16, -15, -14, -13, -14, -13, -14, -15, -16, -17,\n",
       "       -16, -17, -18, -19, -20, -19, -18, -19, -20, -21, -20, -19, -18,\n",
       "       -17, -18, -17, -18, -19, -18, -19, -18, -17, -18, -19, -18, -19,\n",
       "       -18, -17, -18, -17, -16, -15, -16, -15, -16, -17, -16, -15, -14,\n",
       "       -15, -16, -15, -14, -15, -14, -15, -16, -15, -14, -13, -12, -11,\n",
       "       -12, -11, -10,  -9, -10, -11, -12, -11, -10, -11, -12, -13, -12,\n",
       "       -13, -12, -13, -14, -15, -16, -15, -16, -15, -16, -17, -18, -19,\n",
       "       -18, -17, -18, -17, -16, -17, -16, -15, -16, -15, -14, -15, -14,\n",
       "       -13, -14, -13, -14, -15, -14, -13, -12, -13, -14, -13, -14, -15,\n",
       "       -16, -17, -18, -19, -18, -19, -18, -19, -20, -21, -20, -19, -20,\n",
       "       -19, -20, -19, -18, -19, -20, -19, -20, -19, -20, -21, -22, -23,\n",
       "       -24, -25, -24, -25, -26, -27, -28, -27, -26, -25, -24, -23, -22,\n",
       "       -21, -20, -19, -18, -17, -18, -19, -20, -21, -22, -23, -24, -23,\n",
       "       -24, -25, -26, -27, -26, -27, -28, -29, -30, -29, -30, -31, -32,\n",
       "       -31, -30, -29, -30, -31, -30, -29, -28, -27, -26, -27, -28, -27,\n",
       "       -28, -29, -28, -27, -28, -29, -30, -29, -30, -29, -28, -29, -28,\n",
       "       -29, -28, -27, -26, -27, -26, -27, -28, -29, -28, -29, -28, -29,\n",
       "       -30, -31, -32, -33, -32, -33, -34, -33, -34, -35, -34, -35, -34,\n",
       "       -35, -36, -35, -34, -33, -34, -33, -32, -33, -32, -31, -30, -31,\n",
       "       -32, -31, -32, -33, -32, -31, -30, -29, -28, -27, -26, -27, -28,\n",
       "       -27, -28, -29, -28, -29, -28, -29, -28, -29, -28, -29, -28, -27,\n",
       "       -26, -25, -24, -23, -22, -21, -20, -19, -18, -17, -16, -17, -16,\n",
       "       -17, -18, -19, -18, -19, -18, -17, -18, -17, -18, -19, -20, -21,\n",
       "       -20, -19, -20, -21, -22, -23, -24, -25, -24, -23, -22, -21, -22,\n",
       "       -23, -22, -23, -22, -23, -24, -23, -22, -21, -20, -21, -22, -23,\n",
       "       -22, -21, -20, -19, -20, -19, -18, -19, -20, -21, -20, -19, -20,\n",
       "       -21, -22, -21, -22, -23, -22, -23, -24, -25, -24, -23, -24, -23,\n",
       "       -22, -21, -22, -23, -24, -23, -22, -23, -24, -23, -24, -25, -24,\n",
       "       -25, -26, -25, -24, -25, -24, -25, -26, -27, -28, -27, -26, -25,\n",
       "       -24, -23, -22, -23, -22, -21, -22, -23, -24, -23, -22, -21, -20,\n",
       "       -21, -22, -23, -22, -21, -20, -19, -20, -19, -20, -19, -18],\n",
       "      dtype=int32)"
      ]
     },
     "execution_count": 103,
     "metadata": {},
     "output_type": "execute_result"
    }
   ],
   "source": [
    "walk"
   ]
  },
  {
   "cell_type": "code",
   "execution_count": 97,
   "metadata": {},
   "outputs": [
    {
     "data": {
      "text/plain": [
       "-36"
      ]
     },
     "execution_count": 97,
     "metadata": {},
     "output_type": "execute_result"
    }
   ],
   "source": [
    "walk.min()"
   ]
  },
  {
   "cell_type": "code",
   "execution_count": 98,
   "metadata": {},
   "outputs": [
    {
     "data": {
      "text/plain": [
       "13"
      ]
     },
     "execution_count": 98,
     "metadata": {},
     "output_type": "execute_result"
    }
   ],
   "source": [
    "walk.max()"
   ]
  },
  {
   "cell_type": "markdown",
   "metadata": {},
   "source": [
    "### gives the index when he walked 10 steps from the origin"
   ]
  },
  {
   "cell_type": "code",
   "execution_count": 102,
   "metadata": {},
   "outputs": [
    {
     "data": {
      "text/plain": [
       "106"
      ]
     },
     "execution_count": 102,
     "metadata": {},
     "output_type": "execute_result"
    }
   ],
   "source": [
    "np.argmax(walk>10)"
   ]
  },
  {
   "cell_type": "code",
   "execution_count": null,
   "metadata": {},
   "outputs": [],
   "source": []
  }
 ],
 "metadata": {
  "kernelspec": {
   "display_name": "Python 3",
   "language": "python",
   "name": "python3"
  },
  "language_info": {
   "codemirror_mode": {
    "name": "ipython",
    "version": 3
   },
   "file_extension": ".py",
   "mimetype": "text/x-python",
   "name": "python",
   "nbconvert_exporter": "python",
   "pygments_lexer": "ipython3",
   "version": "3.7.3"
  }
 },
 "nbformat": 4,
 "nbformat_minor": 2
}
